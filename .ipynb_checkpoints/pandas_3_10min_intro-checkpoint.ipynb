{
 "cells": [
  {
   "cell_type": "markdown",
   "metadata": {},
   "source": [
    "# Intro to pandas (condensed)\n",
    "\n",
    "This follows the pandas documentation of the \"10 minutes to pandas\" found [here](https://pandas.pydata.org/pandas-docs/stable/getting_started/10min.html)\n",
    "\n",
    "Also see the [essential basic functionality](https://pandas.pydata.org/pandas-docs/stable/getting_started/basics.html#basics) common to the pandas data structures."
   ]
  },
  {
   "cell_type": "code",
   "execution_count": 450,
   "metadata": {},
   "outputs": [],
   "source": [
    "import numpy as np\n",
    "import pandas as pd\n",
    "\n",
    "import matplotlib.pyplot as plt"
   ]
  },
  {
   "cell_type": "markdown",
   "metadata": {
    "canopy_exercise": {
     "cell_type": "student_solution"
    }
   },
   "source": [
    "Create a pandas Series:"
   ]
  },
  {
   "cell_type": "code",
   "execution_count": 343,
   "metadata": {},
   "outputs": [
    {
     "data": {
      "text/plain": [
       "a    1.0\n",
       "b    2.0\n",
       "c    NaN\n",
       "d    6.0\n",
       "e   -1.0\n",
       "dtype: float64"
      ]
     },
     "execution_count": 343,
     "metadata": {},
     "output_type": "execute_result"
    }
   ],
   "source": [
    "s = pd.Series([1,2,np.nan,6,-1], index=['a', 'b', 'c', 'd', 'e'])\n",
    "s"
   ]
  },
  {
   "cell_type": "markdown",
   "metadata": {},
   "source": [
    "Create pandas DataFrame"
   ]
  },
  {
   "cell_type": "code",
   "execution_count": 344,
   "metadata": {},
   "outputs": [
    {
     "data": {
      "text/html": [
       "<div>\n",
       "<style scoped>\n",
       "    .dataframe tbody tr th:only-of-type {\n",
       "        vertical-align: middle;\n",
       "    }\n",
       "\n",
       "    .dataframe tbody tr th {\n",
       "        vertical-align: top;\n",
       "    }\n",
       "\n",
       "    .dataframe thead th {\n",
       "        text-align: right;\n",
       "    }\n",
       "</style>\n",
       "<table border=\"1\" class=\"dataframe\">\n",
       "  <thead>\n",
       "    <tr style=\"text-align: right;\">\n",
       "      <th></th>\n",
       "      <th>A</th>\n",
       "      <th>B</th>\n",
       "      <th>C</th>\n",
       "      <th>D</th>\n",
       "    </tr>\n",
       "  </thead>\n",
       "  <tbody>\n",
       "    <tr>\n",
       "      <th>2018-01-01</th>\n",
       "      <td>0.810479</td>\n",
       "      <td>-0.934458</td>\n",
       "      <td>-0.439288</td>\n",
       "      <td>-0.942262</td>\n",
       "    </tr>\n",
       "    <tr>\n",
       "      <th>2018-01-02</th>\n",
       "      <td>-2.053245</td>\n",
       "      <td>0.911488</td>\n",
       "      <td>-1.064241</td>\n",
       "      <td>-0.404981</td>\n",
       "    </tr>\n",
       "    <tr>\n",
       "      <th>2018-01-03</th>\n",
       "      <td>-0.753523</td>\n",
       "      <td>-0.243011</td>\n",
       "      <td>0.315860</td>\n",
       "      <td>-0.576042</td>\n",
       "    </tr>\n",
       "    <tr>\n",
       "      <th>2018-01-04</th>\n",
       "      <td>-0.658388</td>\n",
       "      <td>0.147900</td>\n",
       "      <td>-0.776917</td>\n",
       "      <td>0.231875</td>\n",
       "    </tr>\n",
       "  </tbody>\n",
       "</table>\n",
       "</div>"
      ],
      "text/plain": [
       "                   A         B         C         D\n",
       "2018-01-01  0.810479 -0.934458 -0.439288 -0.942262\n",
       "2018-01-02 -2.053245  0.911488 -1.064241 -0.404981\n",
       "2018-01-03 -0.753523 -0.243011  0.315860 -0.576042\n",
       "2018-01-04 -0.658388  0.147900 -0.776917  0.231875"
      ]
     },
     "execution_count": 344,
     "metadata": {},
     "output_type": "execute_result"
    }
   ],
   "source": [
    "# Create DataFrame with datetime index and labeled columns\n",
    "dates = pd.date_range('20180101', periods=4)\n",
    "df = pd.DataFrame(np.random.randn(4,4), index=dates, columns=['A', 'B', 'C', 'D'])\n",
    "df"
   ]
  },
  {
   "cell_type": "code",
   "execution_count": 345,
   "metadata": {},
   "outputs": [
    {
     "data": {
      "text/html": [
       "<div>\n",
       "<style scoped>\n",
       "    .dataframe tbody tr th:only-of-type {\n",
       "        vertical-align: middle;\n",
       "    }\n",
       "\n",
       "    .dataframe tbody tr th {\n",
       "        vertical-align: top;\n",
       "    }\n",
       "\n",
       "    .dataframe thead th {\n",
       "        text-align: right;\n",
       "    }\n",
       "</style>\n",
       "<table border=\"1\" class=\"dataframe\">\n",
       "  <thead>\n",
       "    <tr style=\"text-align: right;\">\n",
       "      <th></th>\n",
       "      <th>A</th>\n",
       "      <th>B</th>\n",
       "      <th>C</th>\n",
       "      <th>D</th>\n",
       "    </tr>\n",
       "  </thead>\n",
       "  <tbody>\n",
       "    <tr>\n",
       "      <th>2018-01-01</th>\n",
       "      <td>0.810479</td>\n",
       "      <td>-0.934458</td>\n",
       "      <td>-0.439288</td>\n",
       "      <td>-0.942262</td>\n",
       "    </tr>\n",
       "    <tr>\n",
       "      <th>2018-01-02</th>\n",
       "      <td>-2.053245</td>\n",
       "      <td>0.911488</td>\n",
       "      <td>-1.064241</td>\n",
       "      <td>-0.404981</td>\n",
       "    </tr>\n",
       "    <tr>\n",
       "      <th>2018-01-03</th>\n",
       "      <td>-0.753523</td>\n",
       "      <td>-0.243011</td>\n",
       "      <td>0.315860</td>\n",
       "      <td>-0.576042</td>\n",
       "    </tr>\n",
       "    <tr>\n",
       "      <th>2018-01-04</th>\n",
       "      <td>-0.658388</td>\n",
       "      <td>0.147900</td>\n",
       "      <td>-0.776917</td>\n",
       "      <td>0.231875</td>\n",
       "    </tr>\n",
       "  </tbody>\n",
       "</table>\n",
       "</div>"
      ],
      "text/plain": [
       "                   A         B         C         D\n",
       "2018-01-01  0.810479 -0.934458 -0.439288 -0.942262\n",
       "2018-01-02 -2.053245  0.911488 -1.064241 -0.404981\n",
       "2018-01-03 -0.753523 -0.243011  0.315860 -0.576042\n",
       "2018-01-04 -0.658388  0.147900 -0.776917  0.231875"
      ]
     },
     "execution_count": 345,
     "metadata": {},
     "output_type": "execute_result"
    }
   ],
   "source": [
    "# Create example DataFrame\n",
    "df"
   ]
  },
  {
   "cell_type": "code",
   "execution_count": 346,
   "metadata": {},
   "outputs": [
    {
     "data": {
      "text/html": [
       "<div>\n",
       "<style scoped>\n",
       "    .dataframe tbody tr th:only-of-type {\n",
       "        vertical-align: middle;\n",
       "    }\n",
       "\n",
       "    .dataframe tbody tr th {\n",
       "        vertical-align: top;\n",
       "    }\n",
       "\n",
       "    .dataframe thead th {\n",
       "        text-align: right;\n",
       "    }\n",
       "</style>\n",
       "<table border=\"1\" class=\"dataframe\">\n",
       "  <thead>\n",
       "    <tr style=\"text-align: right;\">\n",
       "      <th></th>\n",
       "      <th>A</th>\n",
       "      <th>B</th>\n",
       "      <th>C</th>\n",
       "      <th>D</th>\n",
       "      <th>E</th>\n",
       "      <th>F</th>\n",
       "    </tr>\n",
       "  </thead>\n",
       "  <tbody>\n",
       "    <tr>\n",
       "      <th>0</th>\n",
       "      <td>1.0</td>\n",
       "      <td>2018-01-02</td>\n",
       "      <td>1.0</td>\n",
       "      <td>3</td>\n",
       "      <td>test</td>\n",
       "      <td>hello</td>\n",
       "    </tr>\n",
       "    <tr>\n",
       "      <th>1</th>\n",
       "      <td>1.0</td>\n",
       "      <td>2018-01-02</td>\n",
       "      <td>1.0</td>\n",
       "      <td>3</td>\n",
       "      <td>train</td>\n",
       "      <td>hello</td>\n",
       "    </tr>\n",
       "    <tr>\n",
       "      <th>2</th>\n",
       "      <td>1.0</td>\n",
       "      <td>2018-01-02</td>\n",
       "      <td>1.0</td>\n",
       "      <td>3</td>\n",
       "      <td>test</td>\n",
       "      <td>hello</td>\n",
       "    </tr>\n",
       "    <tr>\n",
       "      <th>3</th>\n",
       "      <td>1.0</td>\n",
       "      <td>2018-01-02</td>\n",
       "      <td>1.0</td>\n",
       "      <td>3</td>\n",
       "      <td>train</td>\n",
       "      <td>hello</td>\n",
       "    </tr>\n",
       "  </tbody>\n",
       "</table>\n",
       "</div>"
      ],
      "text/plain": [
       "     A          B    C  D      E      F\n",
       "0  1.0 2018-01-02  1.0  3   test  hello\n",
       "1  1.0 2018-01-02  1.0  3  train  hello\n",
       "2  1.0 2018-01-02  1.0  3   test  hello\n",
       "3  1.0 2018-01-02  1.0  3  train  hello"
      ]
     },
     "execution_count": 346,
     "metadata": {},
     "output_type": "execute_result"
    }
   ],
   "source": [
    "df2 = pd.DataFrame({'A': 1.,\n",
    "                    'B': pd.Timestamp('20180102'), # Converts string (in this case, but can convert other types) to datetime\n",
    "                    'C': pd.Series(1, index=list(range(4)), dtype='float32'),\n",
    "                    'D': np.array([3] * 4, dtype='int32'),\n",
    "                    'E': pd.Categorical([\"test\", \"train\", \"test\", \"train\"]),\n",
    "                    'F': 'hello'})\n",
    "df2"
   ]
  },
  {
   "cell_type": "code",
   "execution_count": 347,
   "metadata": {},
   "outputs": [
    {
     "data": {
      "text/plain": [
       "A           float64\n",
       "B    datetime64[ns]\n",
       "C           float32\n",
       "D             int32\n",
       "E          category\n",
       "F            object\n",
       "dtype: object"
      ]
     },
     "execution_count": 347,
     "metadata": {},
     "output_type": "execute_result"
    }
   ],
   "source": [
    "df2.dtypes"
   ]
  },
  {
   "cell_type": "code",
   "execution_count": 348,
   "metadata": {},
   "outputs": [
    {
     "data": {
      "text/plain": [
       "0    1.0\n",
       "1    1.0\n",
       "2    1.0\n",
       "3    1.0\n",
       "Name: A, dtype: float64"
      ]
     },
     "execution_count": 348,
     "metadata": {},
     "output_type": "execute_result"
    }
   ],
   "source": [
    "df2.A"
   ]
  },
  {
   "cell_type": "code",
   "execution_count": 349,
   "metadata": {},
   "outputs": [],
   "source": [
    "#df2. # Use tab completion to see the attributes"
   ]
  },
  {
   "cell_type": "markdown",
   "metadata": {},
   "source": [
    "### View data"
   ]
  },
  {
   "cell_type": "code",
   "execution_count": 350,
   "metadata": {},
   "outputs": [
    {
     "data": {
      "text/html": [
       "<div>\n",
       "<style scoped>\n",
       "    .dataframe tbody tr th:only-of-type {\n",
       "        vertical-align: middle;\n",
       "    }\n",
       "\n",
       "    .dataframe tbody tr th {\n",
       "        vertical-align: top;\n",
       "    }\n",
       "\n",
       "    .dataframe thead th {\n",
       "        text-align: right;\n",
       "    }\n",
       "</style>\n",
       "<table border=\"1\" class=\"dataframe\">\n",
       "  <thead>\n",
       "    <tr style=\"text-align: right;\">\n",
       "      <th></th>\n",
       "      <th>A</th>\n",
       "      <th>B</th>\n",
       "      <th>C</th>\n",
       "      <th>D</th>\n",
       "    </tr>\n",
       "  </thead>\n",
       "  <tbody>\n",
       "    <tr>\n",
       "      <th>2018-01-03</th>\n",
       "      <td>-0.753523</td>\n",
       "      <td>-0.243011</td>\n",
       "      <td>0.315860</td>\n",
       "      <td>-0.576042</td>\n",
       "    </tr>\n",
       "    <tr>\n",
       "      <th>2018-01-04</th>\n",
       "      <td>-0.658388</td>\n",
       "      <td>0.147900</td>\n",
       "      <td>-0.776917</td>\n",
       "      <td>0.231875</td>\n",
       "    </tr>\n",
       "  </tbody>\n",
       "</table>\n",
       "</div>"
      ],
      "text/plain": [
       "                   A         B         C         D\n",
       "2018-01-03 -0.753523 -0.243011  0.315860 -0.576042\n",
       "2018-01-04 -0.658388  0.147900 -0.776917  0.231875"
      ]
     },
     "execution_count": 350,
     "metadata": {},
     "output_type": "execute_result"
    }
   ],
   "source": [
    "df.head() # View top rows of DataFrame\n",
    "df.tail(2) # View bottom two rows of DataFrame"
   ]
  },
  {
   "cell_type": "code",
   "execution_count": 351,
   "metadata": {},
   "outputs": [
    {
     "data": {
      "text/plain": [
       "Index(['A', 'B', 'C', 'D'], dtype='object')"
      ]
     },
     "execution_count": 351,
     "metadata": {},
     "output_type": "execute_result"
    }
   ],
   "source": [
    "#Display the index, columns:\n",
    "df.index  \n",
    "df.columns"
   ]
  },
  {
   "cell_type": "markdown",
   "metadata": {},
   "source": [
    "Note that a fundamental difference between pandas and NumPy is that NumPy arrays have one dtype for the entire array, whereas pandas DataFrames have one dtype per column. \n",
    "\n",
    "When you call `DataFrame.to_numpy()`, pandas will find the NumPy dtype that can hold all of the dtypes in the DataFrame. This might wind up being object, which therefore casts every value to a Python object."
   ]
  },
  {
   "cell_type": "code",
   "execution_count": 352,
   "metadata": {},
   "outputs": [
    {
     "data": {
      "text/plain": [
       "array([[ 0.81047884, -0.93445818, -0.43928835, -0.94226197],\n",
       "       [-2.05324537,  0.91148833, -1.06424142, -0.40498105],\n",
       "       [-0.75352286, -0.24301094,  0.31585963, -0.57604216],\n",
       "       [-0.65838785,  0.14790003, -0.7769171 ,  0.23187504]])"
      ]
     },
     "execution_count": 352,
     "metadata": {},
     "output_type": "execute_result"
    }
   ],
   "source": [
    "df.to_numpy()"
   ]
  },
  {
   "cell_type": "markdown",
   "metadata": {},
   "source": [
    "`DataFrame.to_numpy()` does not include the index or column labels in the output."
   ]
  },
  {
   "cell_type": "code",
   "execution_count": 353,
   "metadata": {},
   "outputs": [
    {
     "data": {
      "text/html": [
       "<div>\n",
       "<style scoped>\n",
       "    .dataframe tbody tr th:only-of-type {\n",
       "        vertical-align: middle;\n",
       "    }\n",
       "\n",
       "    .dataframe tbody tr th {\n",
       "        vertical-align: top;\n",
       "    }\n",
       "\n",
       "    .dataframe thead th {\n",
       "        text-align: right;\n",
       "    }\n",
       "</style>\n",
       "<table border=\"1\" class=\"dataframe\">\n",
       "  <thead>\n",
       "    <tr style=\"text-align: right;\">\n",
       "      <th></th>\n",
       "      <th>A</th>\n",
       "      <th>B</th>\n",
       "      <th>C</th>\n",
       "      <th>D</th>\n",
       "    </tr>\n",
       "  </thead>\n",
       "  <tbody>\n",
       "    <tr>\n",
       "      <th>count</th>\n",
       "      <td>4.000000</td>\n",
       "      <td>4.000000</td>\n",
       "      <td>4.000000</td>\n",
       "      <td>4.000000</td>\n",
       "    </tr>\n",
       "    <tr>\n",
       "      <th>mean</th>\n",
       "      <td>-0.663669</td>\n",
       "      <td>-0.029520</td>\n",
       "      <td>-0.491147</td>\n",
       "      <td>-0.422853</td>\n",
       "    </tr>\n",
       "    <tr>\n",
       "      <th>std</th>\n",
       "      <td>1.170774</td>\n",
       "      <td>0.770598</td>\n",
       "      <td>0.595553</td>\n",
       "      <td>0.490660</td>\n",
       "    </tr>\n",
       "    <tr>\n",
       "      <th>min</th>\n",
       "      <td>-2.053245</td>\n",
       "      <td>-0.934458</td>\n",
       "      <td>-1.064241</td>\n",
       "      <td>-0.942262</td>\n",
       "    </tr>\n",
       "    <tr>\n",
       "      <th>25%</th>\n",
       "      <td>-1.078453</td>\n",
       "      <td>-0.415873</td>\n",
       "      <td>-0.848748</td>\n",
       "      <td>-0.667597</td>\n",
       "    </tr>\n",
       "    <tr>\n",
       "      <th>50%</th>\n",
       "      <td>-0.705955</td>\n",
       "      <td>-0.047555</td>\n",
       "      <td>-0.608103</td>\n",
       "      <td>-0.490512</td>\n",
       "    </tr>\n",
       "    <tr>\n",
       "      <th>75%</th>\n",
       "      <td>-0.291171</td>\n",
       "      <td>0.338797</td>\n",
       "      <td>-0.250501</td>\n",
       "      <td>-0.245767</td>\n",
       "    </tr>\n",
       "    <tr>\n",
       "      <th>max</th>\n",
       "      <td>0.810479</td>\n",
       "      <td>0.911488</td>\n",
       "      <td>0.315860</td>\n",
       "      <td>0.231875</td>\n",
       "    </tr>\n",
       "  </tbody>\n",
       "</table>\n",
       "</div>"
      ],
      "text/plain": [
       "              A         B         C         D\n",
       "count  4.000000  4.000000  4.000000  4.000000\n",
       "mean  -0.663669 -0.029520 -0.491147 -0.422853\n",
       "std    1.170774  0.770598  0.595553  0.490660\n",
       "min   -2.053245 -0.934458 -1.064241 -0.942262\n",
       "25%   -1.078453 -0.415873 -0.848748 -0.667597\n",
       "50%   -0.705955 -0.047555 -0.608103 -0.490512\n",
       "75%   -0.291171  0.338797 -0.250501 -0.245767\n",
       "max    0.810479  0.911488  0.315860  0.231875"
      ]
     },
     "execution_count": 353,
     "metadata": {},
     "output_type": "execute_result"
    }
   ],
   "source": [
    "# describe() shows a quick statistic summary of your data:\n",
    "df.describe()"
   ]
  },
  {
   "cell_type": "code",
   "execution_count": 354,
   "metadata": {},
   "outputs": [
    {
     "data": {
      "text/html": [
       "<div>\n",
       "<style scoped>\n",
       "    .dataframe tbody tr th:only-of-type {\n",
       "        vertical-align: middle;\n",
       "    }\n",
       "\n",
       "    .dataframe tbody tr th {\n",
       "        vertical-align: top;\n",
       "    }\n",
       "\n",
       "    .dataframe thead th {\n",
       "        text-align: right;\n",
       "    }\n",
       "</style>\n",
       "<table border=\"1\" class=\"dataframe\">\n",
       "  <thead>\n",
       "    <tr style=\"text-align: right;\">\n",
       "      <th></th>\n",
       "      <th>2018-01-01 00:00:00</th>\n",
       "      <th>2018-01-02 00:00:00</th>\n",
       "      <th>2018-01-03 00:00:00</th>\n",
       "      <th>2018-01-04 00:00:00</th>\n",
       "    </tr>\n",
       "  </thead>\n",
       "  <tbody>\n",
       "    <tr>\n",
       "      <th>A</th>\n",
       "      <td>0.810479</td>\n",
       "      <td>-2.053245</td>\n",
       "      <td>-0.753523</td>\n",
       "      <td>-0.658388</td>\n",
       "    </tr>\n",
       "    <tr>\n",
       "      <th>B</th>\n",
       "      <td>-0.934458</td>\n",
       "      <td>0.911488</td>\n",
       "      <td>-0.243011</td>\n",
       "      <td>0.147900</td>\n",
       "    </tr>\n",
       "    <tr>\n",
       "      <th>C</th>\n",
       "      <td>-0.439288</td>\n",
       "      <td>-1.064241</td>\n",
       "      <td>0.315860</td>\n",
       "      <td>-0.776917</td>\n",
       "    </tr>\n",
       "    <tr>\n",
       "      <th>D</th>\n",
       "      <td>-0.942262</td>\n",
       "      <td>-0.404981</td>\n",
       "      <td>-0.576042</td>\n",
       "      <td>0.231875</td>\n",
       "    </tr>\n",
       "  </tbody>\n",
       "</table>\n",
       "</div>"
      ],
      "text/plain": [
       "   2018-01-01  2018-01-02  2018-01-03  2018-01-04\n",
       "A    0.810479   -2.053245   -0.753523   -0.658388\n",
       "B   -0.934458    0.911488   -0.243011    0.147900\n",
       "C   -0.439288   -1.064241    0.315860   -0.776917\n",
       "D   -0.942262   -0.404981   -0.576042    0.231875"
      ]
     },
     "execution_count": 354,
     "metadata": {},
     "output_type": "execute_result"
    }
   ],
   "source": [
    "# Transpose data:\n",
    "df.T"
   ]
  },
  {
   "cell_type": "code",
   "execution_count": 355,
   "metadata": {},
   "outputs": [
    {
     "data": {
      "text/html": [
       "<div>\n",
       "<style scoped>\n",
       "    .dataframe tbody tr th:only-of-type {\n",
       "        vertical-align: middle;\n",
       "    }\n",
       "\n",
       "    .dataframe tbody tr th {\n",
       "        vertical-align: top;\n",
       "    }\n",
       "\n",
       "    .dataframe thead th {\n",
       "        text-align: right;\n",
       "    }\n",
       "</style>\n",
       "<table border=\"1\" class=\"dataframe\">\n",
       "  <thead>\n",
       "    <tr style=\"text-align: right;\">\n",
       "      <th></th>\n",
       "      <th>D</th>\n",
       "      <th>C</th>\n",
       "      <th>B</th>\n",
       "      <th>A</th>\n",
       "    </tr>\n",
       "  </thead>\n",
       "  <tbody>\n",
       "    <tr>\n",
       "      <th>2018-01-01</th>\n",
       "      <td>-0.942262</td>\n",
       "      <td>-0.439288</td>\n",
       "      <td>-0.934458</td>\n",
       "      <td>0.810479</td>\n",
       "    </tr>\n",
       "    <tr>\n",
       "      <th>2018-01-02</th>\n",
       "      <td>-0.404981</td>\n",
       "      <td>-1.064241</td>\n",
       "      <td>0.911488</td>\n",
       "      <td>-2.053245</td>\n",
       "    </tr>\n",
       "    <tr>\n",
       "      <th>2018-01-03</th>\n",
       "      <td>-0.576042</td>\n",
       "      <td>0.315860</td>\n",
       "      <td>-0.243011</td>\n",
       "      <td>-0.753523</td>\n",
       "    </tr>\n",
       "    <tr>\n",
       "      <th>2018-01-04</th>\n",
       "      <td>0.231875</td>\n",
       "      <td>-0.776917</td>\n",
       "      <td>0.147900</td>\n",
       "      <td>-0.658388</td>\n",
       "    </tr>\n",
       "  </tbody>\n",
       "</table>\n",
       "</div>"
      ],
      "text/plain": [
       "                   D         C         B         A\n",
       "2018-01-01 -0.942262 -0.439288 -0.934458  0.810479\n",
       "2018-01-02 -0.404981 -1.064241  0.911488 -2.053245\n",
       "2018-01-03 -0.576042  0.315860 -0.243011 -0.753523\n",
       "2018-01-04  0.231875 -0.776917  0.147900 -0.658388"
      ]
     },
     "execution_count": 355,
     "metadata": {},
     "output_type": "execute_result"
    }
   ],
   "source": [
    "# Sorting by an axis\n",
    "# set axis=0 to sort rows by index, and set axis=1 to sort columns \n",
    "df.sort_index(axis=1, ascending=False)"
   ]
  },
  {
   "cell_type": "code",
   "execution_count": 356,
   "metadata": {},
   "outputs": [
    {
     "data": {
      "text/html": [
       "<div>\n",
       "<style scoped>\n",
       "    .dataframe tbody tr th:only-of-type {\n",
       "        vertical-align: middle;\n",
       "    }\n",
       "\n",
       "    .dataframe tbody tr th {\n",
       "        vertical-align: top;\n",
       "    }\n",
       "\n",
       "    .dataframe thead th {\n",
       "        text-align: right;\n",
       "    }\n",
       "</style>\n",
       "<table border=\"1\" class=\"dataframe\">\n",
       "  <thead>\n",
       "    <tr style=\"text-align: right;\">\n",
       "      <th></th>\n",
       "      <th>A</th>\n",
       "      <th>B</th>\n",
       "      <th>C</th>\n",
       "      <th>D</th>\n",
       "    </tr>\n",
       "  </thead>\n",
       "  <tbody>\n",
       "    <tr>\n",
       "      <th>2018-01-02</th>\n",
       "      <td>-2.053245</td>\n",
       "      <td>0.911488</td>\n",
       "      <td>-1.064241</td>\n",
       "      <td>-0.404981</td>\n",
       "    </tr>\n",
       "    <tr>\n",
       "      <th>2018-01-03</th>\n",
       "      <td>-0.753523</td>\n",
       "      <td>-0.243011</td>\n",
       "      <td>0.315860</td>\n",
       "      <td>-0.576042</td>\n",
       "    </tr>\n",
       "    <tr>\n",
       "      <th>2018-01-04</th>\n",
       "      <td>-0.658388</td>\n",
       "      <td>0.147900</td>\n",
       "      <td>-0.776917</td>\n",
       "      <td>0.231875</td>\n",
       "    </tr>\n",
       "    <tr>\n",
       "      <th>2018-01-01</th>\n",
       "      <td>0.810479</td>\n",
       "      <td>-0.934458</td>\n",
       "      <td>-0.439288</td>\n",
       "      <td>-0.942262</td>\n",
       "    </tr>\n",
       "  </tbody>\n",
       "</table>\n",
       "</div>"
      ],
      "text/plain": [
       "                   A         B         C         D\n",
       "2018-01-02 -2.053245  0.911488 -1.064241 -0.404981\n",
       "2018-01-03 -0.753523 -0.243011  0.315860 -0.576042\n",
       "2018-01-04 -0.658388  0.147900 -0.776917  0.231875\n",
       "2018-01-01  0.810479 -0.934458 -0.439288 -0.942262"
      ]
     },
     "execution_count": 356,
     "metadata": {},
     "output_type": "execute_result"
    }
   ],
   "source": [
    "# Sorting by values:\n",
    "df.sort_values(by='A')"
   ]
  },
  {
   "cell_type": "code",
   "execution_count": 357,
   "metadata": {},
   "outputs": [
    {
     "data": {
      "text/plain": [
       "e   -1.0\n",
       "a    1.0\n",
       "b    2.0\n",
       "d    6.0\n",
       "c    NaN\n",
       "dtype: float64"
      ]
     },
     "execution_count": 357,
     "metadata": {},
     "output_type": "execute_result"
    }
   ],
   "source": [
    "s.sort_values()"
   ]
  },
  {
   "cell_type": "code",
   "execution_count": 358,
   "metadata": {},
   "outputs": [
    {
     "data": {
      "text/plain": [
       "count    4.00000\n",
       "mean     2.00000\n",
       "std      2.94392\n",
       "min     -1.00000\n",
       "25%      0.50000\n",
       "50%      1.50000\n",
       "75%      3.00000\n",
       "max      6.00000\n",
       "dtype: float64"
      ]
     },
     "execution_count": 358,
     "metadata": {},
     "output_type": "execute_result"
    }
   ],
   "source": [
    "s.describe()"
   ]
  },
  {
   "cell_type": "code",
   "execution_count": 359,
   "metadata": {},
   "outputs": [
    {
     "data": {
      "text/plain": [
       "array([ 1.,  2., nan,  6., -1.])"
      ]
     },
     "execution_count": 359,
     "metadata": {},
     "output_type": "execute_result"
    }
   ],
   "source": [
    "s.to_numpy()"
   ]
  },
  {
   "cell_type": "code",
   "execution_count": 360,
   "metadata": {},
   "outputs": [
    {
     "data": {
      "text/plain": [
       "d    6.0\n",
       "e   -1.0\n",
       "dtype: float64"
      ]
     },
     "execution_count": 360,
     "metadata": {},
     "output_type": "execute_result"
    }
   ],
   "source": [
    "s.tail(2)"
   ]
  },
  {
   "cell_type": "markdown",
   "metadata": {},
   "source": [
    "### Selecting"
   ]
  },
  {
   "cell_type": "code",
   "execution_count": 361,
   "metadata": {},
   "outputs": [
    {
     "data": {
      "text/html": [
       "<div>\n",
       "<style scoped>\n",
       "    .dataframe tbody tr th:only-of-type {\n",
       "        vertical-align: middle;\n",
       "    }\n",
       "\n",
       "    .dataframe tbody tr th {\n",
       "        vertical-align: top;\n",
       "    }\n",
       "\n",
       "    .dataframe thead th {\n",
       "        text-align: right;\n",
       "    }\n",
       "</style>\n",
       "<table border=\"1\" class=\"dataframe\">\n",
       "  <thead>\n",
       "    <tr style=\"text-align: right;\">\n",
       "      <th></th>\n",
       "      <th>A</th>\n",
       "      <th>B</th>\n",
       "      <th>C</th>\n",
       "      <th>D</th>\n",
       "    </tr>\n",
       "  </thead>\n",
       "  <tbody>\n",
       "    <tr>\n",
       "      <th>2018-01-01</th>\n",
       "      <td>0.810479</td>\n",
       "      <td>-0.934458</td>\n",
       "      <td>-0.439288</td>\n",
       "      <td>-0.942262</td>\n",
       "    </tr>\n",
       "    <tr>\n",
       "      <th>2018-01-02</th>\n",
       "      <td>-2.053245</td>\n",
       "      <td>0.911488</td>\n",
       "      <td>-1.064241</td>\n",
       "      <td>-0.404981</td>\n",
       "    </tr>\n",
       "  </tbody>\n",
       "</table>\n",
       "</div>"
      ],
      "text/plain": [
       "                   A         B         C         D\n",
       "2018-01-01  0.810479 -0.934458 -0.439288 -0.942262\n",
       "2018-01-02 -2.053245  0.911488 -1.064241 -0.404981"
      ]
     },
     "execution_count": 361,
     "metadata": {},
     "output_type": "execute_result"
    }
   ],
   "source": [
    "#Select a single column (which yields a Series):\n",
    "df['A']\n",
    "\n",
    "# Select via [], which slices rows\n",
    "df[0:2]"
   ]
  },
  {
   "cell_type": "markdown",
   "metadata": {},
   "source": [
    "#### Select by label:"
   ]
  },
  {
   "cell_type": "code",
   "execution_count": 362,
   "metadata": {},
   "outputs": [
    {
     "data": {
      "text/plain": [
       "0.8104788416000547"
      ]
     },
     "execution_count": 362,
     "metadata": {},
     "output_type": "execute_result"
    }
   ],
   "source": [
    "# Get row by label:\n",
    "df.loc[dates[0]]\n",
    "\n",
    "# Get multi-axis by label:\n",
    "df.loc[:, ['A', 'B']]\n",
    "\n",
    "# Slicing with the label:\n",
    "df.loc['20180102':'20180104', ['A', 'B']]\n",
    "\n",
    "# Get a scalar value:\n",
    "df.loc[dates[0], 'A']"
   ]
  },
  {
   "cell_type": "markdown",
   "metadata": {},
   "source": [
    "#### Select by position:"
   ]
  },
  {
   "cell_type": "code",
   "execution_count": 363,
   "metadata": {},
   "outputs": [
    {
     "data": {
      "text/plain": [
       "-1.064241416599293"
      ]
     },
     "execution_count": 363,
     "metadata": {},
     "output_type": "execute_result"
    }
   ],
   "source": [
    "# Select via a passed integer:\n",
    "df.iloc[3]\n",
    "\n",
    "# Slice integers:\n",
    "df.iloc[2:3, 0:3]\n",
    "\n",
    "# Use lists of integer position locations:\n",
    "df.iloc[[1, 2, 3], [0, 2]]\n",
    "\n",
    "# Slice rows:\n",
    "df.iloc[1:3, :]\n",
    "\n",
    "# Slice columns:\n",
    "df.iloc[:, 0:2]\n",
    "\n",
    "# Get specific value:\n",
    "df.iloc[1,2]"
   ]
  },
  {
   "cell_type": "markdown",
   "metadata": {},
   "source": [
    "#### Boolean indexing"
   ]
  },
  {
   "cell_type": "code",
   "execution_count": 364,
   "metadata": {},
   "outputs": [
    {
     "data": {
      "text/html": [
       "<div>\n",
       "<style scoped>\n",
       "    .dataframe tbody tr th:only-of-type {\n",
       "        vertical-align: middle;\n",
       "    }\n",
       "\n",
       "    .dataframe tbody tr th {\n",
       "        vertical-align: top;\n",
       "    }\n",
       "\n",
       "    .dataframe thead th {\n",
       "        text-align: right;\n",
       "    }\n",
       "</style>\n",
       "<table border=\"1\" class=\"dataframe\">\n",
       "  <thead>\n",
       "    <tr style=\"text-align: right;\">\n",
       "      <th></th>\n",
       "      <th>A</th>\n",
       "      <th>B</th>\n",
       "      <th>C</th>\n",
       "      <th>D</th>\n",
       "    </tr>\n",
       "  </thead>\n",
       "  <tbody>\n",
       "    <tr>\n",
       "      <th>2018-01-01</th>\n",
       "      <td>0.810479</td>\n",
       "      <td>-0.934458</td>\n",
       "      <td>-0.439288</td>\n",
       "      <td>-0.942262</td>\n",
       "    </tr>\n",
       "  </tbody>\n",
       "</table>\n",
       "</div>"
      ],
      "text/plain": [
       "                   A         B         C         D\n",
       "2018-01-01  0.810479 -0.934458 -0.439288 -0.942262"
      ]
     },
     "execution_count": 364,
     "metadata": {},
     "output_type": "execute_result"
    }
   ],
   "source": [
    "# Use a single column’s values to select data\n",
    "df[df.A > 0]"
   ]
  },
  {
   "cell_type": "code",
   "execution_count": 365,
   "metadata": {},
   "outputs": [
    {
     "data": {
      "text/plain": [
       "a    1.0\n",
       "b    2.0\n",
       "d    6.0\n",
       "dtype: float64"
      ]
     },
     "execution_count": 365,
     "metadata": {},
     "output_type": "execute_result"
    }
   ],
   "source": [
    "s[s > 0]"
   ]
  },
  {
   "cell_type": "code",
   "execution_count": 366,
   "metadata": {},
   "outputs": [
    {
     "data": {
      "text/html": [
       "<div>\n",
       "<style scoped>\n",
       "    .dataframe tbody tr th:only-of-type {\n",
       "        vertical-align: middle;\n",
       "    }\n",
       "\n",
       "    .dataframe tbody tr th {\n",
       "        vertical-align: top;\n",
       "    }\n",
       "\n",
       "    .dataframe thead th {\n",
       "        text-align: right;\n",
       "    }\n",
       "</style>\n",
       "<table border=\"1\" class=\"dataframe\">\n",
       "  <thead>\n",
       "    <tr style=\"text-align: right;\">\n",
       "      <th></th>\n",
       "      <th>A</th>\n",
       "      <th>B</th>\n",
       "      <th>C</th>\n",
       "      <th>D</th>\n",
       "    </tr>\n",
       "  </thead>\n",
       "  <tbody>\n",
       "    <tr>\n",
       "      <th>2018-01-01</th>\n",
       "      <td>0.810479</td>\n",
       "      <td>NaN</td>\n",
       "      <td>NaN</td>\n",
       "      <td>NaN</td>\n",
       "    </tr>\n",
       "    <tr>\n",
       "      <th>2018-01-02</th>\n",
       "      <td>NaN</td>\n",
       "      <td>0.911488</td>\n",
       "      <td>NaN</td>\n",
       "      <td>NaN</td>\n",
       "    </tr>\n",
       "    <tr>\n",
       "      <th>2018-01-03</th>\n",
       "      <td>NaN</td>\n",
       "      <td>NaN</td>\n",
       "      <td>0.31586</td>\n",
       "      <td>NaN</td>\n",
       "    </tr>\n",
       "    <tr>\n",
       "      <th>2018-01-04</th>\n",
       "      <td>NaN</td>\n",
       "      <td>0.147900</td>\n",
       "      <td>NaN</td>\n",
       "      <td>0.231875</td>\n",
       "    </tr>\n",
       "  </tbody>\n",
       "</table>\n",
       "</div>"
      ],
      "text/plain": [
       "                   A         B        C         D\n",
       "2018-01-01  0.810479       NaN      NaN       NaN\n",
       "2018-01-02       NaN  0.911488      NaN       NaN\n",
       "2018-01-03       NaN       NaN  0.31586       NaN\n",
       "2018-01-04       NaN  0.147900      NaN  0.231875"
      ]
     },
     "execution_count": 366,
     "metadata": {},
     "output_type": "execute_result"
    }
   ],
   "source": [
    "# Select values from DataFrame where a boolean condition is met\n",
    "df[df > 0]"
   ]
  },
  {
   "cell_type": "code",
   "execution_count": 367,
   "metadata": {},
   "outputs": [
    {
     "data": {
      "text/html": [
       "<div>\n",
       "<style scoped>\n",
       "    .dataframe tbody tr th:only-of-type {\n",
       "        vertical-align: middle;\n",
       "    }\n",
       "\n",
       "    .dataframe tbody tr th {\n",
       "        vertical-align: top;\n",
       "    }\n",
       "\n",
       "    .dataframe thead th {\n",
       "        text-align: right;\n",
       "    }\n",
       "</style>\n",
       "<table border=\"1\" class=\"dataframe\">\n",
       "  <thead>\n",
       "    <tr style=\"text-align: right;\">\n",
       "      <th></th>\n",
       "      <th>A</th>\n",
       "      <th>B</th>\n",
       "      <th>C</th>\n",
       "      <th>D</th>\n",
       "      <th>E</th>\n",
       "    </tr>\n",
       "  </thead>\n",
       "  <tbody>\n",
       "    <tr>\n",
       "      <th>2018-01-01</th>\n",
       "      <td>0.810479</td>\n",
       "      <td>-0.934458</td>\n",
       "      <td>-0.439288</td>\n",
       "      <td>-0.942262</td>\n",
       "      <td>one</td>\n",
       "    </tr>\n",
       "    <tr>\n",
       "      <th>2018-01-02</th>\n",
       "      <td>-2.053245</td>\n",
       "      <td>0.911488</td>\n",
       "      <td>-1.064241</td>\n",
       "      <td>-0.404981</td>\n",
       "      <td>two</td>\n",
       "    </tr>\n",
       "    <tr>\n",
       "      <th>2018-01-03</th>\n",
       "      <td>-0.753523</td>\n",
       "      <td>-0.243011</td>\n",
       "      <td>0.315860</td>\n",
       "      <td>-0.576042</td>\n",
       "      <td>one</td>\n",
       "    </tr>\n",
       "  </tbody>\n",
       "</table>\n",
       "</div>"
      ],
      "text/plain": [
       "                   A         B         C         D    E\n",
       "2018-01-01  0.810479 -0.934458 -0.439288 -0.942262  one\n",
       "2018-01-02 -2.053245  0.911488 -1.064241 -0.404981  two\n",
       "2018-01-03 -0.753523 -0.243011  0.315860 -0.576042  one"
      ]
     },
     "execution_count": 367,
     "metadata": {},
     "output_type": "execute_result"
    }
   ],
   "source": [
    "# Use the isin() method to filter:\n",
    "df3 = df.copy()\n",
    "df3['E'] = ['one', 'two', 'one', 'three']\n",
    "df3['E'].isin(['onw', 'two'])\n",
    "df3[df3['E'].isin(['one', 'two'])]\n"
   ]
  },
  {
   "cell_type": "code",
   "execution_count": 368,
   "metadata": {},
   "outputs": [
    {
     "data": {
      "text/html": [
       "<div>\n",
       "<style scoped>\n",
       "    .dataframe tbody tr th:only-of-type {\n",
       "        vertical-align: middle;\n",
       "    }\n",
       "\n",
       "    .dataframe tbody tr th {\n",
       "        vertical-align: top;\n",
       "    }\n",
       "\n",
       "    .dataframe thead th {\n",
       "        text-align: right;\n",
       "    }\n",
       "</style>\n",
       "<table border=\"1\" class=\"dataframe\">\n",
       "  <thead>\n",
       "    <tr style=\"text-align: right;\">\n",
       "      <th></th>\n",
       "      <th>A</th>\n",
       "      <th>B</th>\n",
       "      <th>E</th>\n",
       "    </tr>\n",
       "  </thead>\n",
       "  <tbody>\n",
       "    <tr>\n",
       "      <th>2018-01-01</th>\n",
       "      <td>False</td>\n",
       "      <td>False</td>\n",
       "      <td>True</td>\n",
       "    </tr>\n",
       "    <tr>\n",
       "      <th>2018-01-02</th>\n",
       "      <td>False</td>\n",
       "      <td>False</td>\n",
       "      <td>False</td>\n",
       "    </tr>\n",
       "    <tr>\n",
       "      <th>2018-01-03</th>\n",
       "      <td>False</td>\n",
       "      <td>False</td>\n",
       "      <td>True</td>\n",
       "    </tr>\n",
       "  </tbody>\n",
       "</table>\n",
       "</div>"
      ],
      "text/plain": [
       "                A      B      E\n",
       "2018-01-01  False  False   True\n",
       "2018-01-02  False  False  False\n",
       "2018-01-03  False  False   True"
      ]
     },
     "execution_count": 368,
     "metadata": {},
     "output_type": "execute_result"
    }
   ],
   "source": [
    "df3.loc['20180101':'20180103', ['A', 'B', 'E']].isin(['one'])"
   ]
  },
  {
   "cell_type": "markdown",
   "metadata": {},
   "source": [
    "### Setting"
   ]
  },
  {
   "cell_type": "code",
   "execution_count": 369,
   "metadata": {},
   "outputs": [
    {
     "data": {
      "text/html": [
       "<div>\n",
       "<style scoped>\n",
       "    .dataframe tbody tr th:only-of-type {\n",
       "        vertical-align: middle;\n",
       "    }\n",
       "\n",
       "    .dataframe tbody tr th {\n",
       "        vertical-align: top;\n",
       "    }\n",
       "\n",
       "    .dataframe thead th {\n",
       "        text-align: right;\n",
       "    }\n",
       "</style>\n",
       "<table border=\"1\" class=\"dataframe\">\n",
       "  <thead>\n",
       "    <tr style=\"text-align: right;\">\n",
       "      <th></th>\n",
       "      <th>A</th>\n",
       "      <th>B</th>\n",
       "      <th>C</th>\n",
       "      <th>D</th>\n",
       "      <th>E</th>\n",
       "      <th>F</th>\n",
       "    </tr>\n",
       "  </thead>\n",
       "  <tbody>\n",
       "    <tr>\n",
       "      <th>2018-01-01</th>\n",
       "      <td>0.810479</td>\n",
       "      <td>-0.934458</td>\n",
       "      <td>-0.439288</td>\n",
       "      <td>-0.942262</td>\n",
       "      <td>one</td>\n",
       "      <td>NaN</td>\n",
       "    </tr>\n",
       "    <tr>\n",
       "      <th>2018-01-02</th>\n",
       "      <td>-2.053245</td>\n",
       "      <td>0.911488</td>\n",
       "      <td>-1.064241</td>\n",
       "      <td>-0.404981</td>\n",
       "      <td>two</td>\n",
       "      <td>NaN</td>\n",
       "    </tr>\n",
       "    <tr>\n",
       "      <th>2018-01-03</th>\n",
       "      <td>-0.753523</td>\n",
       "      <td>-0.243011</td>\n",
       "      <td>0.315860</td>\n",
       "      <td>-0.576042</td>\n",
       "      <td>one</td>\n",
       "      <td>NaN</td>\n",
       "    </tr>\n",
       "    <tr>\n",
       "      <th>2018-01-04</th>\n",
       "      <td>-0.658388</td>\n",
       "      <td>0.147900</td>\n",
       "      <td>-0.776917</td>\n",
       "      <td>0.231875</td>\n",
       "      <td>three</td>\n",
       "      <td>NaN</td>\n",
       "    </tr>\n",
       "  </tbody>\n",
       "</table>\n",
       "</div>"
      ],
      "text/plain": [
       "                   A         B         C         D      E   F\n",
       "2018-01-01  0.810479 -0.934458 -0.439288 -0.942262    one NaN\n",
       "2018-01-02 -2.053245  0.911488 -1.064241 -0.404981    two NaN\n",
       "2018-01-03 -0.753523 -0.243011  0.315860 -0.576042    one NaN\n",
       "2018-01-04 -0.658388  0.147900 -0.776917  0.231875  three NaN"
      ]
     },
     "execution_count": 369,
     "metadata": {},
     "output_type": "execute_result"
    }
   ],
   "source": [
    "# Setting a new column aligns the data automatically by the indexes\n",
    "s1 = pd.Series([1,2,3,4,5,6], index=pd.date_range('20130101', periods=6))\n",
    "s1\n",
    "df3['F'] = s1 \n",
    "df3"
   ]
  },
  {
   "cell_type": "code",
   "execution_count": 370,
   "metadata": {},
   "outputs": [
    {
     "data": {
      "text/html": [
       "<div>\n",
       "<style scoped>\n",
       "    .dataframe tbody tr th:only-of-type {\n",
       "        vertical-align: middle;\n",
       "    }\n",
       "\n",
       "    .dataframe tbody tr th {\n",
       "        vertical-align: top;\n",
       "    }\n",
       "\n",
       "    .dataframe thead th {\n",
       "        text-align: right;\n",
       "    }\n",
       "</style>\n",
       "<table border=\"1\" class=\"dataframe\">\n",
       "  <thead>\n",
       "    <tr style=\"text-align: right;\">\n",
       "      <th></th>\n",
       "      <th>A</th>\n",
       "      <th>B</th>\n",
       "      <th>C</th>\n",
       "      <th>D</th>\n",
       "      <th>E</th>\n",
       "      <th>F</th>\n",
       "    </tr>\n",
       "  </thead>\n",
       "  <tbody>\n",
       "    <tr>\n",
       "      <th>2018-01-01</th>\n",
       "      <td>0.810479</td>\n",
       "      <td>-0.934458</td>\n",
       "      <td>-0.439288</td>\n",
       "      <td>5</td>\n",
       "      <td>one</td>\n",
       "      <td>NaN</td>\n",
       "    </tr>\n",
       "    <tr>\n",
       "      <th>2018-01-02</th>\n",
       "      <td>-2.053245</td>\n",
       "      <td>0.911488</td>\n",
       "      <td>-1.064241</td>\n",
       "      <td>5</td>\n",
       "      <td>two</td>\n",
       "      <td>NaN</td>\n",
       "    </tr>\n",
       "    <tr>\n",
       "      <th>2018-01-03</th>\n",
       "      <td>-0.753523</td>\n",
       "      <td>-0.243011</td>\n",
       "      <td>0.315860</td>\n",
       "      <td>5</td>\n",
       "      <td>one</td>\n",
       "      <td>NaN</td>\n",
       "    </tr>\n",
       "    <tr>\n",
       "      <th>2018-01-04</th>\n",
       "      <td>-0.658388</td>\n",
       "      <td>0.147900</td>\n",
       "      <td>-0.776917</td>\n",
       "      <td>5</td>\n",
       "      <td>three</td>\n",
       "      <td>NaN</td>\n",
       "    </tr>\n",
       "  </tbody>\n",
       "</table>\n",
       "</div>"
      ],
      "text/plain": [
       "                   A         B         C  D      E   F\n",
       "2018-01-01  0.810479 -0.934458 -0.439288  5    one NaN\n",
       "2018-01-02 -2.053245  0.911488 -1.064241  5    two NaN\n",
       "2018-01-03 -0.753523 -0.243011  0.315860  5    one NaN\n",
       "2018-01-04 -0.658388  0.147900 -0.776917  5  three NaN"
      ]
     },
     "execution_count": 370,
     "metadata": {},
     "output_type": "execute_result"
    }
   ],
   "source": [
    "# Setting by assigning a NumPy array\n",
    "df3.loc[:, 'D'] = np.array([5] * len(df3)) \n",
    "df3"
   ]
  },
  {
   "cell_type": "markdown",
   "metadata": {},
   "source": [
    "### Missing Data\n",
    "For more information, see [this](https://pandas.pydata.org/pandas-docs/stable/user_guide/missing_data.html#missing-data) section.\n",
    "\n",
    "Note that pandas generally uses the value `np.nan` to represent missing data."
   ]
  },
  {
   "cell_type": "code",
   "execution_count": 371,
   "metadata": {},
   "outputs": [
    {
     "data": {
      "text/html": [
       "<div>\n",
       "<style scoped>\n",
       "    .dataframe tbody tr th:only-of-type {\n",
       "        vertical-align: middle;\n",
       "    }\n",
       "\n",
       "    .dataframe tbody tr th {\n",
       "        vertical-align: top;\n",
       "    }\n",
       "\n",
       "    .dataframe thead th {\n",
       "        text-align: right;\n",
       "    }\n",
       "</style>\n",
       "<table border=\"1\" class=\"dataframe\">\n",
       "  <thead>\n",
       "    <tr style=\"text-align: right;\">\n",
       "      <th></th>\n",
       "      <th>A</th>\n",
       "      <th>B</th>\n",
       "      <th>C</th>\n",
       "      <th>D</th>\n",
       "      <th>E</th>\n",
       "    </tr>\n",
       "  </thead>\n",
       "  <tbody>\n",
       "    <tr>\n",
       "      <th>2018-01-01</th>\n",
       "      <td>0.810479</td>\n",
       "      <td>-0.934458</td>\n",
       "      <td>-0.439288</td>\n",
       "      <td>-0.942262</td>\n",
       "      <td>1.0</td>\n",
       "    </tr>\n",
       "    <tr>\n",
       "      <th>2018-01-02</th>\n",
       "      <td>-2.053245</td>\n",
       "      <td>0.911488</td>\n",
       "      <td>-1.064241</td>\n",
       "      <td>-0.404981</td>\n",
       "      <td>1.0</td>\n",
       "    </tr>\n",
       "    <tr>\n",
       "      <th>2018-01-03</th>\n",
       "      <td>-0.753523</td>\n",
       "      <td>-0.243011</td>\n",
       "      <td>0.315860</td>\n",
       "      <td>-0.576042</td>\n",
       "      <td>1.0</td>\n",
       "    </tr>\n",
       "    <tr>\n",
       "      <th>2018-01-04</th>\n",
       "      <td>-0.658388</td>\n",
       "      <td>0.147900</td>\n",
       "      <td>-0.776917</td>\n",
       "      <td>0.231875</td>\n",
       "      <td>1.0</td>\n",
       "    </tr>\n",
       "  </tbody>\n",
       "</table>\n",
       "</div>"
      ],
      "text/plain": [
       "                   A         B         C         D    E\n",
       "2018-01-01  0.810479 -0.934458 -0.439288 -0.942262  1.0\n",
       "2018-01-02 -2.053245  0.911488 -1.064241 -0.404981  1.0\n",
       "2018-01-03 -0.753523 -0.243011  0.315860 -0.576042  1.0\n",
       "2018-01-04 -0.658388  0.147900 -0.776917  0.231875  1.0"
      ]
     },
     "execution_count": 371,
     "metadata": {},
     "output_type": "execute_result"
    }
   ],
   "source": [
    "# Reindexing can change/add/delete the index on a specified axis and it returns a copy of the data.\n",
    "df1 = df.reindex(index=dates[0:4], columns=list(df.columns) + ['E'])\n",
    "df1.loc[dates[0]:dates[1], 'E'] = 1 # Setting the value 1 to the first two labels in column E\n",
    "df1\n",
    "\n",
    "df1[df1.isna().any(axis=1)] # Get the rows with NaN\n",
    "df1.isna().any() # Get the columns with NaN\n",
    "\n",
    "# Drop rows with missing data\n",
    "#df1.dropna(how='any')\n",
    "\n",
    "# Since column 'E' has NaN in this example, let's get the mean of column 'E' to fill the missing data\n",
    "# Skip the NaN values while finding the mean, although the operations usually skip this anyway, but you can use `skipna` \n",
    "df1.mean(axis = 0, skipna = True) \n",
    "# Use an attribute, to get only the column 'E' mean value in this case:\n",
    "fill_value = df1.mean(axis = 0, skipna = True).E\n",
    "# Filling missing data with the mean from that column (column 'E' in this case)\n",
    "df1.fillna(value=fill_value)\n",
    "\n",
    "# Get the boolean mask where values are nan\n",
    "# pd.isna(df1)"
   ]
  },
  {
   "cell_type": "markdown",
   "metadata": {},
   "source": [
    "### Statistics\n",
    "Note that operations generally exlude missing data"
   ]
  },
  {
   "cell_type": "code",
   "execution_count": 372,
   "metadata": {},
   "outputs": [
    {
     "data": {
      "text/plain": [
       "2018-01-01   -0.101106\n",
       "2018-01-02   -0.322196\n",
       "2018-01-03   -0.314179\n",
       "2018-01-04   -0.263882\n",
       "Freq: D, dtype: float64"
      ]
     },
     "execution_count": 372,
     "metadata": {},
     "output_type": "execute_result"
    }
   ],
   "source": [
    "#Get quick overall statistics\n",
    "df1.describe()\n",
    "\n",
    "# Get the mean of the columns\n",
    "df1.mean() # same as df1.mean(axis = 0)\n",
    "# Get the mean of the rows\n",
    "df1.mean(axis = 1)"
   ]
  },
  {
   "cell_type": "markdown",
   "metadata": {},
   "source": [
    "### Apply\n",
    "One can apply a function to the data via [apply()](https://pandas.pydata.org/pandas-docs/stable/reference/api/pandas.DataFrame.apply.html)"
   ]
  },
  {
   "cell_type": "code",
   "execution_count": 373,
   "metadata": {},
   "outputs": [
    {
     "data": {
      "text/plain": [
       "A    2.863724\n",
       "B    1.845947\n",
       "C    1.380101\n",
       "D    1.174137\n",
       "E    0.000000\n",
       "dtype: float64"
      ]
     },
     "execution_count": 373,
     "metadata": {},
     "output_type": "execute_result"
    }
   ],
   "source": [
    "# To use a lambda function, the syntax is:\n",
    "# lambda arguments: expression using arguments\n",
    "df1.apply(lambda x: x.max() - x.min())"
   ]
  },
  {
   "cell_type": "code",
   "execution_count": 374,
   "metadata": {},
   "outputs": [
    {
     "data": {
      "text/html": [
       "<div>\n",
       "<style scoped>\n",
       "    .dataframe tbody tr th:only-of-type {\n",
       "        vertical-align: middle;\n",
       "    }\n",
       "\n",
       "    .dataframe tbody tr th {\n",
       "        vertical-align: top;\n",
       "    }\n",
       "\n",
       "    .dataframe thead th {\n",
       "        text-align: right;\n",
       "    }\n",
       "</style>\n",
       "<table border=\"1\" class=\"dataframe\">\n",
       "  <thead>\n",
       "    <tr style=\"text-align: right;\">\n",
       "      <th></th>\n",
       "      <th>A</th>\n",
       "      <th>B</th>\n",
       "      <th>C</th>\n",
       "      <th>D</th>\n",
       "      <th>E</th>\n",
       "    </tr>\n",
       "  </thead>\n",
       "  <tbody>\n",
       "    <tr>\n",
       "      <th>2018-01-01</th>\n",
       "      <td>0.810479</td>\n",
       "      <td>-0.934458</td>\n",
       "      <td>-0.439288</td>\n",
       "      <td>-0.942262</td>\n",
       "      <td>1.0</td>\n",
       "    </tr>\n",
       "    <tr>\n",
       "      <th>2018-01-02</th>\n",
       "      <td>-1.242767</td>\n",
       "      <td>-0.022970</td>\n",
       "      <td>-1.503530</td>\n",
       "      <td>-1.347243</td>\n",
       "      <td>2.0</td>\n",
       "    </tr>\n",
       "    <tr>\n",
       "      <th>2018-01-03</th>\n",
       "      <td>-1.996289</td>\n",
       "      <td>-0.265981</td>\n",
       "      <td>-1.187670</td>\n",
       "      <td>-1.923285</td>\n",
       "      <td>NaN</td>\n",
       "    </tr>\n",
       "    <tr>\n",
       "      <th>2018-01-04</th>\n",
       "      <td>-2.654677</td>\n",
       "      <td>-0.118081</td>\n",
       "      <td>-1.964587</td>\n",
       "      <td>-1.691410</td>\n",
       "      <td>NaN</td>\n",
       "    </tr>\n",
       "  </tbody>\n",
       "</table>\n",
       "</div>"
      ],
      "text/plain": [
       "                   A         B         C         D    E\n",
       "2018-01-01  0.810479 -0.934458 -0.439288 -0.942262  1.0\n",
       "2018-01-02 -1.242767 -0.022970 -1.503530 -1.347243  2.0\n",
       "2018-01-03 -1.996289 -0.265981 -1.187670 -1.923285  NaN\n",
       "2018-01-04 -2.654677 -0.118081 -1.964587 -1.691410  NaN"
      ]
     },
     "execution_count": 374,
     "metadata": {},
     "output_type": "execute_result"
    }
   ],
   "source": [
    "df1.apply(np.cumsum)"
   ]
  },
  {
   "cell_type": "markdown",
   "metadata": {},
   "source": [
    "### Histogramming\n",
    "One can use the [value_counts()](https://pandas.pydata.org/pandas-docs/stable/reference/api/pandas.Series.value_counts.html#pandas.Series.value_counts) method on Series to compute a histogram of a 1D array of values. This can count how many of a specific value is in a Series."
   ]
  },
  {
   "cell_type": "code",
   "execution_count": 375,
   "metadata": {},
   "outputs": [
    {
     "data": {
      "text/plain": [
       "7    4\n",
       "3    2\n",
       "6    1\n",
       "5    1\n",
       "4    1\n",
       "0    1\n",
       "dtype: int64"
      ]
     },
     "execution_count": 375,
     "metadata": {},
     "output_type": "execute_result"
    }
   ],
   "source": [
    "s4 = pd.Series(np.random.randint(0,8, size=10))\n",
    "s4\n",
    "s4.value_counts()\n"
   ]
  },
  {
   "cell_type": "code",
   "execution_count": 376,
   "metadata": {},
   "outputs": [
    {
     "data": {
      "text/plain": [
       "0    7\n",
       "dtype: int64"
      ]
     },
     "execution_count": 376,
     "metadata": {},
     "output_type": "execute_result"
    }
   ],
   "source": [
    "#Another way to get the most frequently occurring value is by getting the mode in a Series or DataFrame:\n",
    "s4.mode()"
   ]
  },
  {
   "cell_type": "markdown",
   "metadata": {},
   "source": [
    "**Series can process strings with the `str` attribute that can operate on each element, for example:**"
   ]
  },
  {
   "cell_type": "code",
   "execution_count": 377,
   "metadata": {},
   "outputs": [
    {
     "data": {
      "text/plain": [
       "0      A\n",
       "1      B\n",
       "2    NaN\n",
       "3    CAT\n",
       "4    COW\n",
       "dtype: object"
      ]
     },
     "execution_count": 377,
     "metadata": {},
     "output_type": "execute_result"
    }
   ],
   "source": [
    "s = pd.Series(['a', 'B', np.nan, 'cat', 'cow'])\n",
    "s.str.upper()"
   ]
  },
  {
   "cell_type": "markdown",
   "metadata": {},
   "source": [
    "### Merge\n",
    "pandas provides various ways to combine Series and DataFrame objects "
   ]
  },
  {
   "cell_type": "markdown",
   "metadata": {},
   "source": [
    "#### Concat"
   ]
  },
  {
   "cell_type": "code",
   "execution_count": 378,
   "metadata": {},
   "outputs": [
    {
     "data": {
      "text/html": [
       "<div>\n",
       "<style scoped>\n",
       "    .dataframe tbody tr th:only-of-type {\n",
       "        vertical-align: middle;\n",
       "    }\n",
       "\n",
       "    .dataframe tbody tr th {\n",
       "        vertical-align: top;\n",
       "    }\n",
       "\n",
       "    .dataframe thead th {\n",
       "        text-align: right;\n",
       "    }\n",
       "</style>\n",
       "<table border=\"1\" class=\"dataframe\">\n",
       "  <thead>\n",
       "    <tr style=\"text-align: right;\">\n",
       "      <th></th>\n",
       "      <th>0</th>\n",
       "      <th>1</th>\n",
       "      <th>2</th>\n",
       "      <th>3</th>\n",
       "    </tr>\n",
       "  </thead>\n",
       "  <tbody>\n",
       "    <tr>\n",
       "      <th>0</th>\n",
       "      <td>0</td>\n",
       "      <td>0</td>\n",
       "      <td>0</td>\n",
       "      <td>0</td>\n",
       "    </tr>\n",
       "    <tr>\n",
       "      <th>1</th>\n",
       "      <td>0</td>\n",
       "      <td>1</td>\n",
       "      <td>0</td>\n",
       "      <td>0</td>\n",
       "    </tr>\n",
       "    <tr>\n",
       "      <th>2</th>\n",
       "      <td>0</td>\n",
       "      <td>1</td>\n",
       "      <td>-1</td>\n",
       "      <td>1</td>\n",
       "    </tr>\n",
       "    <tr>\n",
       "      <th>3</th>\n",
       "      <td>0</td>\n",
       "      <td>0</td>\n",
       "      <td>0</td>\n",
       "      <td>0</td>\n",
       "    </tr>\n",
       "    <tr>\n",
       "      <th>4</th>\n",
       "      <td>0</td>\n",
       "      <td>-1</td>\n",
       "      <td>-2</td>\n",
       "      <td>0</td>\n",
       "    </tr>\n",
       "    <tr>\n",
       "      <th>5</th>\n",
       "      <td>1</td>\n",
       "      <td>0</td>\n",
       "      <td>0</td>\n",
       "      <td>-1</td>\n",
       "    </tr>\n",
       "  </tbody>\n",
       "</table>\n",
       "</div>"
      ],
      "text/plain": [
       "   0  1  2  3\n",
       "0  0  0  0  0\n",
       "1  0  1  0  0\n",
       "2  0  1 -1  1\n",
       "3  0  0  0  0\n",
       "4  0 -1 -2  0\n",
       "5  1  0  0 -1"
      ]
     },
     "execution_count": 378,
     "metadata": {},
     "output_type": "execute_result"
    }
   ],
   "source": [
    "df = pd.DataFrame(np.random.randn(6, 4).astype(int))\n",
    "df\n",
    "pieces = [df[0:2], df[2:4], df[4:6]] # Break up the DataFrame into pieces\n",
    "pd.concat(pieces) # Concatinate pandas objects together"
   ]
  },
  {
   "cell_type": "markdown",
   "metadata": {},
   "source": [
    "#### Join"
   ]
  },
  {
   "cell_type": "code",
   "execution_count": 379,
   "metadata": {},
   "outputs": [
    {
     "data": {
      "text/html": [
       "<div>\n",
       "<style scoped>\n",
       "    .dataframe tbody tr th:only-of-type {\n",
       "        vertical-align: middle;\n",
       "    }\n",
       "\n",
       "    .dataframe tbody tr th {\n",
       "        vertical-align: top;\n",
       "    }\n",
       "\n",
       "    .dataframe thead th {\n",
       "        text-align: right;\n",
       "    }\n",
       "</style>\n",
       "<table border=\"1\" class=\"dataframe\">\n",
       "  <thead>\n",
       "    <tr style=\"text-align: right;\">\n",
       "      <th></th>\n",
       "      <th>key</th>\n",
       "      <th>left_val</th>\n",
       "      <th>right_val</th>\n",
       "    </tr>\n",
       "  </thead>\n",
       "  <tbody>\n",
       "    <tr>\n",
       "      <th>0</th>\n",
       "      <td>val</td>\n",
       "      <td>0</td>\n",
       "      <td>2</td>\n",
       "    </tr>\n",
       "    <tr>\n",
       "      <th>1</th>\n",
       "      <td>val</td>\n",
       "      <td>0</td>\n",
       "      <td>3</td>\n",
       "    </tr>\n",
       "    <tr>\n",
       "      <th>2</th>\n",
       "      <td>val</td>\n",
       "      <td>1</td>\n",
       "      <td>2</td>\n",
       "    </tr>\n",
       "    <tr>\n",
       "      <th>3</th>\n",
       "      <td>val</td>\n",
       "      <td>1</td>\n",
       "      <td>3</td>\n",
       "    </tr>\n",
       "  </tbody>\n",
       "</table>\n",
       "</div>"
      ],
      "text/plain": [
       "   key  left_val  right_val\n",
       "0  val         0          2\n",
       "1  val         0          3\n",
       "2  val         1          2\n",
       "3  val         1          3"
      ]
     },
     "execution_count": 379,
     "metadata": {},
     "output_type": "execute_result"
    }
   ],
   "source": [
    "# Database style joining\n",
    "left = pd.DataFrame({'key': ['val', 'val'], 'left_val': [0,1]})\n",
    "right = pd.DataFrame({'key': ['val', 'val'], 'right_val': [2,3]})\n",
    "pd.merge(left, right, on='key')"
   ]
  },
  {
   "cell_type": "code",
   "execution_count": 380,
   "metadata": {},
   "outputs": [
    {
     "data": {
      "text/html": [
       "<div>\n",
       "<style scoped>\n",
       "    .dataframe tbody tr th:only-of-type {\n",
       "        vertical-align: middle;\n",
       "    }\n",
       "\n",
       "    .dataframe tbody tr th {\n",
       "        vertical-align: top;\n",
       "    }\n",
       "\n",
       "    .dataframe thead th {\n",
       "        text-align: right;\n",
       "    }\n",
       "</style>\n",
       "<table border=\"1\" class=\"dataframe\">\n",
       "  <thead>\n",
       "    <tr style=\"text-align: right;\">\n",
       "      <th></th>\n",
       "      <th>key</th>\n",
       "      <th>left_val</th>\n",
       "      <th>right_val</th>\n",
       "    </tr>\n",
       "  </thead>\n",
       "  <tbody>\n",
       "    <tr>\n",
       "      <th>0</th>\n",
       "      <td>val_1</td>\n",
       "      <td>0</td>\n",
       "      <td>2</td>\n",
       "    </tr>\n",
       "    <tr>\n",
       "      <th>1</th>\n",
       "      <td>val_2</td>\n",
       "      <td>1</td>\n",
       "      <td>3</td>\n",
       "    </tr>\n",
       "  </tbody>\n",
       "</table>\n",
       "</div>"
      ],
      "text/plain": [
       "     key  left_val  right_val\n",
       "0  val_1         0          2\n",
       "1  val_2         1          3"
      ]
     },
     "execution_count": 380,
     "metadata": {},
     "output_type": "execute_result"
    }
   ],
   "source": [
    "# Another example:\n",
    "left = pd.DataFrame({'key': ['val_1', 'val_2'], 'left_val': [0,1]})\n",
    "right = pd.DataFrame({'key': ['val_1', 'val_2'], 'right_val': [2,3]})\n",
    "pd.merge(left, right, on='key')"
   ]
  },
  {
   "cell_type": "markdown",
   "metadata": {},
   "source": [
    "#### Append"
   ]
  },
  {
   "cell_type": "code",
   "execution_count": 381,
   "metadata": {},
   "outputs": [
    {
     "data": {
      "text/html": [
       "<div>\n",
       "<style scoped>\n",
       "    .dataframe tbody tr th:only-of-type {\n",
       "        vertical-align: middle;\n",
       "    }\n",
       "\n",
       "    .dataframe tbody tr th {\n",
       "        vertical-align: top;\n",
       "    }\n",
       "\n",
       "    .dataframe thead th {\n",
       "        text-align: right;\n",
       "    }\n",
       "</style>\n",
       "<table border=\"1\" class=\"dataframe\">\n",
       "  <thead>\n",
       "    <tr style=\"text-align: right;\">\n",
       "      <th></th>\n",
       "      <th>A</th>\n",
       "      <th>B</th>\n",
       "      <th>C</th>\n",
       "      <th>D</th>\n",
       "    </tr>\n",
       "  </thead>\n",
       "  <tbody>\n",
       "    <tr>\n",
       "      <th>0</th>\n",
       "      <td>0</td>\n",
       "      <td>0</td>\n",
       "      <td>-1</td>\n",
       "      <td>-1</td>\n",
       "    </tr>\n",
       "    <tr>\n",
       "      <th>1</th>\n",
       "      <td>0</td>\n",
       "      <td>0</td>\n",
       "      <td>0</td>\n",
       "      <td>0</td>\n",
       "    </tr>\n",
       "    <tr>\n",
       "      <th>2</th>\n",
       "      <td>0</td>\n",
       "      <td>-2</td>\n",
       "      <td>-1</td>\n",
       "      <td>-1</td>\n",
       "    </tr>\n",
       "    <tr>\n",
       "      <th>3</th>\n",
       "      <td>0</td>\n",
       "      <td>0</td>\n",
       "      <td>0</td>\n",
       "      <td>0</td>\n",
       "    </tr>\n",
       "    <tr>\n",
       "      <th>4</th>\n",
       "      <td>-1</td>\n",
       "      <td>0</td>\n",
       "      <td>-1</td>\n",
       "      <td>0</td>\n",
       "    </tr>\n",
       "    <tr>\n",
       "      <th>5</th>\n",
       "      <td>0</td>\n",
       "      <td>1</td>\n",
       "      <td>2</td>\n",
       "      <td>0</td>\n",
       "    </tr>\n",
       "    <tr>\n",
       "      <th>3</th>\n",
       "      <td>0</td>\n",
       "      <td>0</td>\n",
       "      <td>0</td>\n",
       "      <td>0</td>\n",
       "    </tr>\n",
       "  </tbody>\n",
       "</table>\n",
       "</div>"
      ],
      "text/plain": [
       "   A  B  C  D\n",
       "0  0  0 -1 -1\n",
       "1  0  0  0  0\n",
       "2  0 -2 -1 -1\n",
       "3  0  0  0  0\n",
       "4 -1  0 -1  0\n",
       "5  0  1  2  0\n",
       "3  0  0  0  0"
      ]
     },
     "execution_count": 381,
     "metadata": {},
     "output_type": "execute_result"
    }
   ],
   "source": [
    "# Append rows to a pandas DataFrame\n",
    "df = pd.DataFrame(np.random.randn(6, 4).astype(int), columns=['A', 'B', 'C', 'D'])\n",
    "df\n",
    "s = df.iloc[3]\n",
    "df.append(s)"
   ]
  },
  {
   "cell_type": "markdown",
   "metadata": {},
   "source": [
    "### Grouping\n",
    "Using `groupby` involves one or more of the following [steps](https://pandas.pydata.org/pandas-docs/stable/user_guide/groupby.html):\n",
    "-    Splitting the data into groups based on a criteria\n",
    "-    Applying a function to each separate group \n",
    "-    Combining the results into a data structure\n",
    "\n"
   ]
  },
  {
   "cell_type": "code",
   "execution_count": 382,
   "metadata": {},
   "outputs": [
    {
     "data": {
      "text/html": [
       "<div>\n",
       "<style scoped>\n",
       "    .dataframe tbody tr th:only-of-type {\n",
       "        vertical-align: middle;\n",
       "    }\n",
       "\n",
       "    .dataframe tbody tr th {\n",
       "        vertical-align: top;\n",
       "    }\n",
       "\n",
       "    .dataframe thead th {\n",
       "        text-align: right;\n",
       "    }\n",
       "</style>\n",
       "<table border=\"1\" class=\"dataframe\">\n",
       "  <thead>\n",
       "    <tr style=\"text-align: right;\">\n",
       "      <th></th>\n",
       "      <th></th>\n",
       "      <th>C</th>\n",
       "      <th>D</th>\n",
       "    </tr>\n",
       "    <tr>\n",
       "      <th>A</th>\n",
       "      <th>B</th>\n",
       "      <th></th>\n",
       "      <th></th>\n",
       "    </tr>\n",
       "  </thead>\n",
       "  <tbody>\n",
       "    <tr>\n",
       "      <th rowspan=\"2\" valign=\"top\">bar</th>\n",
       "      <th>one</th>\n",
       "      <td>5</td>\n",
       "      <td>4</td>\n",
       "    </tr>\n",
       "    <tr>\n",
       "      <th>three</th>\n",
       "      <td>8</td>\n",
       "      <td>8</td>\n",
       "    </tr>\n",
       "    <tr>\n",
       "      <th rowspan=\"3\" valign=\"top\">foo</th>\n",
       "      <th>one</th>\n",
       "      <td>4</td>\n",
       "      <td>8</td>\n",
       "    </tr>\n",
       "    <tr>\n",
       "      <th>three</th>\n",
       "      <td>3</td>\n",
       "      <td>4</td>\n",
       "    </tr>\n",
       "    <tr>\n",
       "      <th>two</th>\n",
       "      <td>11</td>\n",
       "      <td>11</td>\n",
       "    </tr>\n",
       "  </tbody>\n",
       "</table>\n",
       "</div>"
      ],
      "text/plain": [
       "            C   D\n",
       "A   B            \n",
       "bar one     5   4\n",
       "    three   8   8\n",
       "foo one     4   8\n",
       "    three   3   4\n",
       "    two    11  11"
      ]
     },
     "execution_count": 382,
     "metadata": {},
     "output_type": "execute_result"
    }
   ],
   "source": [
    "df = pd.DataFrame({'A': ['foo', 'bar', 'foo', 'bar',\n",
    "                          'foo', 'bar', 'foo', 'bar'],\n",
    "                   'B': ['two', 'one', 'three', 'one', 'two', 'three', 'one', 'three'],\n",
    "                  'C': np.random.randint(0,8, size=8),\n",
    "                   'D': np.random.randint(1,10, size=8)})                  \n",
    "\n",
    "df\n",
    "df.groupby('B').sum()\n",
    "df.groupby(['A', 'B']).sum()"
   ]
  },
  {
   "cell_type": "markdown",
   "metadata": {},
   "source": [
    "### Reshaping\n",
    "For reshaping by stacking and unstacking, see [here](https://pandas.pydata.org/pandas-docs/stable/user_guide/reshaping.html#reshaping-stacking)"
   ]
  },
  {
   "cell_type": "markdown",
   "metadata": {},
   "source": [
    "#### Reshaping by stacking and unstacking"
   ]
  },
  {
   "cell_type": "code",
   "execution_count": 383,
   "metadata": {},
   "outputs": [
    {
     "name": "stdout",
     "output_type": "stream",
     "text": [
      "<zip object at 0x11454d788>\n",
      "('bar', 'one')\n",
      "('bar', 'two')\n",
      "('baz', 'one')\n",
      "('baz', 'two')\n",
      "('foo', 'one')\n",
      "('foo', 'two')\n",
      "('qux', 'one')\n",
      "('qux', 'two')\n"
     ]
    }
   ],
   "source": [
    "# The Python zip function takes iterable elements as an input, and returns an iterator\n",
    "# If we pass two iterable objects of the same lengths, then an iterable of python tuples \n",
    "# will be returned, where each element of the tuple will be from those iterable lists\n",
    "# Python's zip function is mainly used to combine data from two iterable elements together \n",
    "\n",
    "list1 = ['bar', 'bar', 'baz', 'baz', 'foo', 'foo', 'qux', 'qux']\n",
    "list2 = ['one', 'two', 'one', 'two', 'one', 'two', 'one', 'two']\n",
    "tuples1 = zip(list1, list2)\n",
    "print (tuples1)\n",
    "for i in tuples1:\n",
    "    print (i)   "
   ]
  },
  {
   "cell_type": "code",
   "execution_count": 384,
   "metadata": {},
   "outputs": [
    {
     "name": "stdout",
     "output_type": "stream",
     "text": [
      "[('bar', 'one'), ('bar', 'two'), ('baz', 'one'), ('baz', 'two'), ('foo', 'one'), ('foo', 'two'), ('qux', 'one'), ('qux', 'two')]\n"
     ]
    }
   ],
   "source": [
    "# Note that the * character in a function call \"unpacks\" a list (or other iterable), making each of its elements a separate argument\n",
    "# The * character is known as the unpacking operator. When it appears behind an iterable object (in this case zip), \n",
    "# what it does is pass the items inside the iterable to the function's caller one by one. In this case, since the zip function \n",
    "# accepts a list of iterables in order to return their aligned tuples, zip(*list of lists) passes all the items inside the list of lists \n",
    "# as arguments to the zip function\n",
    "# Also note that unpacking can be used within another iterable\n",
    "\n",
    "tuples = list(zip(*[['bar', 'bar', 'baz', 'baz', 'foo', 'foo', 'qux', 'qux'],\n",
    "                    ['one', 'two', 'one', 'two', 'one', 'two', 'one', 'two']]))\n",
    "print (tuples)"
   ]
  },
  {
   "cell_type": "markdown",
   "metadata": {},
   "source": [
    "Convert a list of tuples using the classmethod MultiIndex.from_tuples() found [here](https://pandas.pydata.org/pandas-docs/stable/reference/api/pandas.MultiIndex.from_tuples.html)"
   ]
  },
  {
   "cell_type": "code",
   "execution_count": 398,
   "metadata": {},
   "outputs": [
    {
     "data": {
      "text/html": [
       "<div>\n",
       "<style scoped>\n",
       "    .dataframe tbody tr th:only-of-type {\n",
       "        vertical-align: middle;\n",
       "    }\n",
       "\n",
       "    .dataframe tbody tr th {\n",
       "        vertical-align: top;\n",
       "    }\n",
       "\n",
       "    .dataframe thead th {\n",
       "        text-align: right;\n",
       "    }\n",
       "</style>\n",
       "<table border=\"1\" class=\"dataframe\">\n",
       "  <thead>\n",
       "    <tr style=\"text-align: right;\">\n",
       "      <th></th>\n",
       "      <th></th>\n",
       "      <th>A</th>\n",
       "      <th>B</th>\n",
       "    </tr>\n",
       "    <tr>\n",
       "      <th>first</th>\n",
       "      <th>second</th>\n",
       "      <th></th>\n",
       "      <th></th>\n",
       "    </tr>\n",
       "  </thead>\n",
       "  <tbody>\n",
       "    <tr>\n",
       "      <th rowspan=\"2\" valign=\"top\">bar</th>\n",
       "      <th>one</th>\n",
       "      <td>1</td>\n",
       "      <td>1</td>\n",
       "    </tr>\n",
       "    <tr>\n",
       "      <th>two</th>\n",
       "      <td>2</td>\n",
       "      <td>0</td>\n",
       "    </tr>\n",
       "    <tr>\n",
       "      <th rowspan=\"2\" valign=\"top\">baz</th>\n",
       "      <th>one</th>\n",
       "      <td>2</td>\n",
       "      <td>0</td>\n",
       "    </tr>\n",
       "    <tr>\n",
       "      <th>two</th>\n",
       "      <td>1</td>\n",
       "      <td>2</td>\n",
       "    </tr>\n",
       "  </tbody>\n",
       "</table>\n",
       "</div>"
      ],
      "text/plain": [
       "              A  B\n",
       "first second      \n",
       "bar   one     1  1\n",
       "      two     2  0\n",
       "baz   one     2  0\n",
       "      two     1  2"
      ]
     },
     "execution_count": 398,
     "metadata": {},
     "output_type": "execute_result"
    }
   ],
   "source": [
    "index = pd.MultiIndex.from_tuples(tuples, names=['first', 'second'])\n",
    "df = pd.DataFrame(np.random.randint(5, size=(8,2)),index=index, columns=['A', 'B'])\n",
    "df2 = df[:4]\n",
    "df2"
   ]
  },
  {
   "cell_type": "code",
   "execution_count": 400,
   "metadata": {},
   "outputs": [
    {
     "data": {
      "text/plain": [
       "first  second   \n",
       "bar    one     A    1\n",
       "               B    1\n",
       "       two     A    2\n",
       "               B    0\n",
       "baz    one     A    2\n",
       "               B    0\n",
       "       two     A    1\n",
       "               B    2\n",
       "dtype: int64"
      ]
     },
     "execution_count": 400,
     "metadata": {},
     "output_type": "execute_result"
    }
   ],
   "source": [
    "stacked = df2.stack()\n",
    "stacked"
   ]
  },
  {
   "cell_type": "markdown",
   "metadata": {},
   "source": [
    "The inverse operation of `stack()` is `unstack()`, which unstacks the last level (by default)"
   ]
  },
  {
   "cell_type": "code",
   "execution_count": 401,
   "metadata": {},
   "outputs": [
    {
     "data": {
      "text/html": [
       "<div>\n",
       "<style scoped>\n",
       "    .dataframe tbody tr th:only-of-type {\n",
       "        vertical-align: middle;\n",
       "    }\n",
       "\n",
       "    .dataframe tbody tr th {\n",
       "        vertical-align: top;\n",
       "    }\n",
       "\n",
       "    .dataframe thead th {\n",
       "        text-align: right;\n",
       "    }\n",
       "</style>\n",
       "<table border=\"1\" class=\"dataframe\">\n",
       "  <thead>\n",
       "    <tr style=\"text-align: right;\">\n",
       "      <th></th>\n",
       "      <th></th>\n",
       "      <th>A</th>\n",
       "      <th>B</th>\n",
       "    </tr>\n",
       "    <tr>\n",
       "      <th>first</th>\n",
       "      <th>second</th>\n",
       "      <th></th>\n",
       "      <th></th>\n",
       "    </tr>\n",
       "  </thead>\n",
       "  <tbody>\n",
       "    <tr>\n",
       "      <th rowspan=\"2\" valign=\"top\">bar</th>\n",
       "      <th>one</th>\n",
       "      <td>1</td>\n",
       "      <td>1</td>\n",
       "    </tr>\n",
       "    <tr>\n",
       "      <th>two</th>\n",
       "      <td>2</td>\n",
       "      <td>0</td>\n",
       "    </tr>\n",
       "    <tr>\n",
       "      <th rowspan=\"2\" valign=\"top\">baz</th>\n",
       "      <th>one</th>\n",
       "      <td>2</td>\n",
       "      <td>0</td>\n",
       "    </tr>\n",
       "    <tr>\n",
       "      <th>two</th>\n",
       "      <td>1</td>\n",
       "      <td>2</td>\n",
       "    </tr>\n",
       "  </tbody>\n",
       "</table>\n",
       "</div>"
      ],
      "text/plain": [
       "              A  B\n",
       "first second      \n",
       "bar   one     1  1\n",
       "      two     2  0\n",
       "baz   one     2  0\n",
       "      two     1  2"
      ]
     },
     "execution_count": 401,
     "metadata": {},
     "output_type": "execute_result"
    }
   ],
   "source": [
    "stacked.unstack()"
   ]
  },
  {
   "cell_type": "markdown",
   "metadata": {},
   "source": [
    "#### Reshaping by pivoting DataFrame objects"
   ]
  },
  {
   "cell_type": "markdown",
   "metadata": {},
   "source": [
    "`pivot_table()` can be used to create spreadsheet-style [pivot tables](https://pandas.pydata.org/pandas-docs/stable/user_guide/reshaping.html#reshaping-pivot)."
   ]
  },
  {
   "cell_type": "code",
   "execution_count": 411,
   "metadata": {},
   "outputs": [
    {
     "data": {
      "text/html": [
       "<div>\n",
       "<style scoped>\n",
       "    .dataframe tbody tr th:only-of-type {\n",
       "        vertical-align: middle;\n",
       "    }\n",
       "\n",
       "    .dataframe tbody tr th {\n",
       "        vertical-align: top;\n",
       "    }\n",
       "\n",
       "    .dataframe thead th {\n",
       "        text-align: right;\n",
       "    }\n",
       "</style>\n",
       "<table border=\"1\" class=\"dataframe\">\n",
       "  <thead>\n",
       "    <tr style=\"text-align: right;\">\n",
       "      <th></th>\n",
       "      <th>A</th>\n",
       "      <th>B</th>\n",
       "      <th>C</th>\n",
       "      <th>D</th>\n",
       "      <th>E</th>\n",
       "    </tr>\n",
       "  </thead>\n",
       "  <tbody>\n",
       "    <tr>\n",
       "      <th>0</th>\n",
       "      <td>one</td>\n",
       "      <td>A</td>\n",
       "      <td>foo</td>\n",
       "      <td>0</td>\n",
       "      <td>0</td>\n",
       "    </tr>\n",
       "    <tr>\n",
       "      <th>1</th>\n",
       "      <td>one</td>\n",
       "      <td>B</td>\n",
       "      <td>foo</td>\n",
       "      <td>1</td>\n",
       "      <td>1</td>\n",
       "    </tr>\n",
       "    <tr>\n",
       "      <th>2</th>\n",
       "      <td>two</td>\n",
       "      <td>C</td>\n",
       "      <td>foo</td>\n",
       "      <td>1</td>\n",
       "      <td>-1</td>\n",
       "    </tr>\n",
       "    <tr>\n",
       "      <th>3</th>\n",
       "      <td>three</td>\n",
       "      <td>D</td>\n",
       "      <td>foo</td>\n",
       "      <td>0</td>\n",
       "      <td>1</td>\n",
       "    </tr>\n",
       "    <tr>\n",
       "      <th>4</th>\n",
       "      <td>one</td>\n",
       "      <td>A</td>\n",
       "      <td>bar</td>\n",
       "      <td>0</td>\n",
       "      <td>0</td>\n",
       "    </tr>\n",
       "    <tr>\n",
       "      <th>5</th>\n",
       "      <td>one</td>\n",
       "      <td>B</td>\n",
       "      <td>bar</td>\n",
       "      <td>0</td>\n",
       "      <td>0</td>\n",
       "    </tr>\n",
       "    <tr>\n",
       "      <th>6</th>\n",
       "      <td>two</td>\n",
       "      <td>C</td>\n",
       "      <td>bar</td>\n",
       "      <td>0</td>\n",
       "      <td>-1</td>\n",
       "    </tr>\n",
       "    <tr>\n",
       "      <th>7</th>\n",
       "      <td>three</td>\n",
       "      <td>D</td>\n",
       "      <td>bar</td>\n",
       "      <td>0</td>\n",
       "      <td>0</td>\n",
       "    </tr>\n",
       "  </tbody>\n",
       "</table>\n",
       "</div>"
      ],
      "text/plain": [
       "       A  B    C  D  E\n",
       "0    one  A  foo  0  0\n",
       "1    one  B  foo  1  1\n",
       "2    two  C  foo  1 -1\n",
       "3  three  D  foo  0  1\n",
       "4    one  A  bar  0  0\n",
       "5    one  B  bar  0  0\n",
       "6    two  C  bar  0 -1\n",
       "7  three  D  bar  0  0"
      ]
     },
     "execution_count": 411,
     "metadata": {},
     "output_type": "execute_result"
    }
   ],
   "source": [
    "df = pd.DataFrame({'A': ['one', 'one', 'two', 'three'] * 2,\n",
    "                   'B': ['A', 'B', 'C', 'D'] * 2,\n",
    "                   'C': ['foo', 'foo', 'foo', 'foo', 'bar', 'bar', 'bar', 'bar'],\n",
    "                   'D': np.random.randn(8).astype(int),\n",
    "                   'E': np.random.randn(8).astype(int)})\n",
    "df"
   ]
  },
  {
   "cell_type": "code",
   "execution_count": 414,
   "metadata": {},
   "outputs": [
    {
     "data": {
      "text/html": [
       "<div>\n",
       "<style scoped>\n",
       "    .dataframe tbody tr th:only-of-type {\n",
       "        vertical-align: middle;\n",
       "    }\n",
       "\n",
       "    .dataframe tbody tr th {\n",
       "        vertical-align: top;\n",
       "    }\n",
       "\n",
       "    .dataframe thead th {\n",
       "        text-align: right;\n",
       "    }\n",
       "</style>\n",
       "<table border=\"1\" class=\"dataframe\">\n",
       "  <thead>\n",
       "    <tr style=\"text-align: right;\">\n",
       "      <th></th>\n",
       "      <th>C</th>\n",
       "      <th>bar</th>\n",
       "      <th>foo</th>\n",
       "    </tr>\n",
       "    <tr>\n",
       "      <th>A</th>\n",
       "      <th>B</th>\n",
       "      <th></th>\n",
       "      <th></th>\n",
       "    </tr>\n",
       "  </thead>\n",
       "  <tbody>\n",
       "    <tr>\n",
       "      <th rowspan=\"2\" valign=\"top\">one</th>\n",
       "      <th>A</th>\n",
       "      <td>0</td>\n",
       "      <td>0</td>\n",
       "    </tr>\n",
       "    <tr>\n",
       "      <th>B</th>\n",
       "      <td>0</td>\n",
       "      <td>1</td>\n",
       "    </tr>\n",
       "    <tr>\n",
       "      <th>three</th>\n",
       "      <th>D</th>\n",
       "      <td>0</td>\n",
       "      <td>0</td>\n",
       "    </tr>\n",
       "    <tr>\n",
       "      <th>two</th>\n",
       "      <th>C</th>\n",
       "      <td>0</td>\n",
       "      <td>1</td>\n",
       "    </tr>\n",
       "  </tbody>\n",
       "</table>\n",
       "</div>"
      ],
      "text/plain": [
       "C        bar  foo\n",
       "A     B          \n",
       "one   A    0    0\n",
       "      B    0    1\n",
       "three D    0    0\n",
       "two   C    0    1"
      ]
     },
     "execution_count": 414,
     "metadata": {},
     "output_type": "execute_result"
    }
   ],
   "source": [
    "# values - Use values in column 'D' in this example\n",
    "# index - Group by the indexes 'A' and 'B'\n",
    "# columns - The keys to group by on the pivot table are in this case in column 'C'\n",
    "pd.pivot_table(df, values='D', index=['A', 'B'], columns=['C'])"
   ]
  },
  {
   "cell_type": "markdown",
   "metadata": {},
   "source": [
    " If one wants to omit missing values, do this by calling `to_string` "
   ]
  },
  {
   "cell_type": "markdown",
   "metadata": {},
   "source": [
    "If you need to specify a bit more data in order to properly [group](https://pandas.pydata.org/pandas-docs/stable/user_guide/groupby.html#groupby-specify), use `pd.Grouper` to provide this local control."
   ]
  },
  {
   "cell_type": "markdown",
   "metadata": {},
   "source": [
    "### Categorical\n",
    "[Categoricals](https://pandas.pydata.org/pandas-docs/stable/user_guide/categorical.html#categorical) are a pandas data type that correspond to categorical variables in statistics. Also see the API documentation [here](https://pandas.pydata.org/pandas-docs/stable/reference/arrays.html#api-arrays-categorical)"
   ]
  },
  {
   "cell_type": "code",
   "execution_count": 436,
   "metadata": {},
   "outputs": [
    {
     "data": {
      "text/plain": [
       "0    a\n",
       "1    b\n",
       "2    c\n",
       "3    a\n",
       "4    d\n",
       "Name: grade, dtype: category\n",
       "Categories (4, object): [a, b, c, d]"
      ]
     },
     "execution_count": 436,
     "metadata": {},
     "output_type": "execute_result"
    }
   ],
   "source": [
    "df = pd.DataFrame({\"id\": [1,2,3,4,5], \"raw_grade\": ['a', 'b', 'c', 'a', 'd']})\n",
    "\n",
    "# Convert grades to a categorical type\n",
    "df[\"grade\"] = df[\"raw_grade\"].astype(\"category\")\n",
    "df[\"grade\"] "
   ]
  },
  {
   "cell_type": "code",
   "execution_count": 445,
   "metadata": {},
   "outputs": [
    {
     "data": {
      "text/plain": [
       "0    very good\n",
       "1         good\n",
       "2       medium\n",
       "3    very good\n",
       "4          NaN\n",
       "Name: grade, dtype: category\n",
       "Categories (4, object): [very good, good, medium, bad]"
      ]
     },
     "execution_count": 445,
     "metadata": {},
     "output_type": "execute_result"
    }
   ],
   "source": [
    "df[\"grade\"].cat.categories = [\"very good\", \"good\", \"medium\", \"bad\"]\n",
    "df[\"grade\"] = df[\"grade\"].cat.set_categories([\"very good\", \"good\", \"medium\",\"bad\"])\n",
    "df[\"grade\"]"
   ]
  },
  {
   "cell_type": "markdown",
   "metadata": {},
   "source": [
    "### Plotting\n",
    "See the [plotting](https://pandas.pydata.org/pandas-docs/stable/user_guide/visualization.html#visualization) documentation as well as the [ecosystem](https://pandas.pydata.org/pandas-docs/stable/ecosystem.html#ecosystem-visualization) section for further visualization libraries"
   ]
  },
  {
   "cell_type": "markdown",
   "metadata": {},
   "source": [
    "Note that the `plot` method on Series and DataFrame is a wrapper around plt.plot() from matplotlib"
   ]
  },
  {
   "cell_type": "code",
   "execution_count": 459,
   "metadata": {},
   "outputs": [
    {
     "data": {
      "text/plain": [
       "<matplotlib.axes._subplots.AxesSubplot at 0x118c86438>"
      ]
     },
     "execution_count": 459,
     "metadata": {},
     "output_type": "execute_result"
    },
    {
     "data": {
      "image/png": "[encoded data removed]",
      "text/plain": [
       "<Figure size 432x288 with 1 Axes>"
      ]
     },
     "metadata": {},
     "output_type": "display_data"
    }
   ],
   "source": [
    "df = pd.DataFrame(np.random.randn(500, 4),\n",
    "                index=pd.date_range('1/1/2000', periods=500), columns=list('ABCD'))\n",
    "\n",
    "df = df.cumsum()\n",
    "\n",
    "# plt.figure()\n",
    "\n",
    "df.plot()"
   ]
  },
  {
   "cell_type": "markdown",
   "metadata": {},
   "source": [
    "You can also plot one column versus another column using the x and y keywords in `plot()`\n",
    "\n",
    "Use the `kind` keyword argument to `plot()`, in order to plot styles other than the default line plot."
   ]
  },
  {
   "cell_type": "code",
   "execution_count": 460,
   "metadata": {},
   "outputs": [],
   "source": [
    "#df.plot. # Use the tab key to see the other types of plots to use"
   ]
  },
  {
   "cell_type": "markdown",
   "metadata": {},
   "source": [
    "### I/O\n"
   ]
  },
  {
   "cell_type": "code",
   "execution_count": 461,
   "metadata": {},
   "outputs": [
    {
     "data": {
      "text/html": [
       "<div>\n",
       "<style scoped>\n",
       "    .dataframe tbody tr th:only-of-type {\n",
       "        vertical-align: middle;\n",
       "    }\n",
       "\n",
       "    .dataframe tbody tr th {\n",
       "        vertical-align: top;\n",
       "    }\n",
       "\n",
       "    .dataframe thead th {\n",
       "        text-align: right;\n",
       "    }\n",
       "</style>\n",
       "<table border=\"1\" class=\"dataframe\">\n",
       "  <thead>\n",
       "    <tr style=\"text-align: right;\">\n",
       "      <th></th>\n",
       "      <th>Unnamed: 0</th>\n",
       "      <th>A</th>\n",
       "      <th>B</th>\n",
       "      <th>C</th>\n",
       "      <th>D</th>\n",
       "    </tr>\n",
       "  </thead>\n",
       "  <tbody>\n",
       "    <tr>\n",
       "      <th>0</th>\n",
       "      <td>2000-01-01</td>\n",
       "      <td>-0.782974</td>\n",
       "      <td>-0.906495</td>\n",
       "      <td>-0.345509</td>\n",
       "      <td>-0.017375</td>\n",
       "    </tr>\n",
       "    <tr>\n",
       "      <th>1</th>\n",
       "      <td>2000-01-02</td>\n",
       "      <td>-1.298321</td>\n",
       "      <td>0.311904</td>\n",
       "      <td>-1.274932</td>\n",
       "      <td>0.482908</td>\n",
       "    </tr>\n",
       "    <tr>\n",
       "      <th>2</th>\n",
       "      <td>2000-01-03</td>\n",
       "      <td>-1.665687</td>\n",
       "      <td>1.860615</td>\n",
       "      <td>-1.215752</td>\n",
       "      <td>1.425627</td>\n",
       "    </tr>\n",
       "    <tr>\n",
       "      <th>3</th>\n",
       "      <td>2000-01-04</td>\n",
       "      <td>-2.615464</td>\n",
       "      <td>1.119061</td>\n",
       "      <td>-0.271097</td>\n",
       "      <td>0.108837</td>\n",
       "    </tr>\n",
       "    <tr>\n",
       "      <th>4</th>\n",
       "      <td>2000-01-05</td>\n",
       "      <td>-0.694288</td>\n",
       "      <td>2.530951</td>\n",
       "      <td>-0.000437</td>\n",
       "      <td>-0.446450</td>\n",
       "    </tr>\n",
       "    <tr>\n",
       "      <th>5</th>\n",
       "      <td>2000-01-06</td>\n",
       "      <td>-0.565144</td>\n",
       "      <td>2.886192</td>\n",
       "      <td>-0.469630</td>\n",
       "      <td>-1.277937</td>\n",
       "    </tr>\n",
       "    <tr>\n",
       "      <th>6</th>\n",
       "      <td>2000-01-07</td>\n",
       "      <td>-0.566809</td>\n",
       "      <td>2.857864</td>\n",
       "      <td>1.416771</td>\n",
       "      <td>-2.374604</td>\n",
       "    </tr>\n",
       "    <tr>\n",
       "      <th>7</th>\n",
       "      <td>2000-01-08</td>\n",
       "      <td>-0.092763</td>\n",
       "      <td>3.835845</td>\n",
       "      <td>2.870655</td>\n",
       "      <td>-2.415756</td>\n",
       "    </tr>\n",
       "    <tr>\n",
       "      <th>8</th>\n",
       "      <td>2000-01-09</td>\n",
       "      <td>1.788241</td>\n",
       "      <td>6.157323</td>\n",
       "      <td>2.730419</td>\n",
       "      <td>-2.695107</td>\n",
       "    </tr>\n",
       "    <tr>\n",
       "      <th>9</th>\n",
       "      <td>2000-01-10</td>\n",
       "      <td>3.098564</td>\n",
       "      <td>6.122078</td>\n",
       "      <td>3.688150</td>\n",
       "      <td>-1.963122</td>\n",
       "    </tr>\n",
       "    <tr>\n",
       "      <th>10</th>\n",
       "      <td>2000-01-11</td>\n",
       "      <td>3.080976</td>\n",
       "      <td>5.469746</td>\n",
       "      <td>3.315776</td>\n",
       "      <td>-3.265953</td>\n",
       "    </tr>\n",
       "    <tr>\n",
       "      <th>11</th>\n",
       "      <td>2000-01-12</td>\n",
       "      <td>1.973371</td>\n",
       "      <td>4.566755</td>\n",
       "      <td>3.686793</td>\n",
       "      <td>-2.944968</td>\n",
       "    </tr>\n",
       "    <tr>\n",
       "      <th>12</th>\n",
       "      <td>2000-01-13</td>\n",
       "      <td>1.388122</td>\n",
       "      <td>6.153731</td>\n",
       "      <td>5.043118</td>\n",
       "      <td>-4.060638</td>\n",
       "    </tr>\n",
       "    <tr>\n",
       "      <th>13</th>\n",
       "      <td>2000-01-14</td>\n",
       "      <td>0.806585</td>\n",
       "      <td>5.583343</td>\n",
       "      <td>3.854587</td>\n",
       "      <td>-6.873711</td>\n",
       "    </tr>\n",
       "    <tr>\n",
       "      <th>14</th>\n",
       "      <td>2000-01-15</td>\n",
       "      <td>0.363935</td>\n",
       "      <td>5.931075</td>\n",
       "      <td>3.132160</td>\n",
       "      <td>-5.190056</td>\n",
       "    </tr>\n",
       "    <tr>\n",
       "      <th>15</th>\n",
       "      <td>2000-01-16</td>\n",
       "      <td>0.575101</td>\n",
       "      <td>4.892056</td>\n",
       "      <td>2.881314</td>\n",
       "      <td>-5.548862</td>\n",
       "    </tr>\n",
       "    <tr>\n",
       "      <th>16</th>\n",
       "      <td>2000-01-17</td>\n",
       "      <td>1.116057</td>\n",
       "      <td>5.247166</td>\n",
       "      <td>2.065713</td>\n",
       "      <td>-7.917454</td>\n",
       "    </tr>\n",
       "    <tr>\n",
       "      <th>17</th>\n",
       "      <td>2000-01-18</td>\n",
       "      <td>0.811351</td>\n",
       "      <td>6.556495</td>\n",
       "      <td>3.028270</td>\n",
       "      <td>-6.434582</td>\n",
       "    </tr>\n",
       "    <tr>\n",
       "      <th>18</th>\n",
       "      <td>2000-01-19</td>\n",
       "      <td>2.154024</td>\n",
       "      <td>7.693564</td>\n",
       "      <td>0.802506</td>\n",
       "      <td>-6.143600</td>\n",
       "    </tr>\n",
       "    <tr>\n",
       "      <th>19</th>\n",
       "      <td>2000-01-20</td>\n",
       "      <td>3.227456</td>\n",
       "      <td>7.486483</td>\n",
       "      <td>1.097978</td>\n",
       "      <td>-6.424247</td>\n",
       "    </tr>\n",
       "    <tr>\n",
       "      <th>20</th>\n",
       "      <td>2000-01-21</td>\n",
       "      <td>2.301374</td>\n",
       "      <td>7.243856</td>\n",
       "      <td>0.408761</td>\n",
       "      <td>-6.203442</td>\n",
       "    </tr>\n",
       "    <tr>\n",
       "      <th>21</th>\n",
       "      <td>2000-01-22</td>\n",
       "      <td>2.199094</td>\n",
       "      <td>7.270280</td>\n",
       "      <td>-0.861857</td>\n",
       "      <td>-6.266691</td>\n",
       "    </tr>\n",
       "    <tr>\n",
       "      <th>22</th>\n",
       "      <td>2000-01-23</td>\n",
       "      <td>3.364742</td>\n",
       "      <td>7.795740</td>\n",
       "      <td>-1.147636</td>\n",
       "      <td>-5.589267</td>\n",
       "    </tr>\n",
       "    <tr>\n",
       "      <th>23</th>\n",
       "      <td>2000-01-24</td>\n",
       "      <td>4.744512</td>\n",
       "      <td>7.515148</td>\n",
       "      <td>-2.160256</td>\n",
       "      <td>-4.449535</td>\n",
       "    </tr>\n",
       "    <tr>\n",
       "      <th>24</th>\n",
       "      <td>2000-01-25</td>\n",
       "      <td>2.392493</td>\n",
       "      <td>8.168904</td>\n",
       "      <td>-2.873339</td>\n",
       "      <td>-4.018733</td>\n",
       "    </tr>\n",
       "    <tr>\n",
       "      <th>25</th>\n",
       "      <td>2000-01-26</td>\n",
       "      <td>2.973840</td>\n",
       "      <td>7.518112</td>\n",
       "      <td>-0.990687</td>\n",
       "      <td>-4.544124</td>\n",
       "    </tr>\n",
       "    <tr>\n",
       "      <th>26</th>\n",
       "      <td>2000-01-27</td>\n",
       "      <td>0.847543</td>\n",
       "      <td>6.964333</td>\n",
       "      <td>0.248819</td>\n",
       "      <td>-3.981652</td>\n",
       "    </tr>\n",
       "    <tr>\n",
       "      <th>27</th>\n",
       "      <td>2000-01-28</td>\n",
       "      <td>2.568240</td>\n",
       "      <td>7.414387</td>\n",
       "      <td>-0.097054</td>\n",
       "      <td>-3.640059</td>\n",
       "    </tr>\n",
       "    <tr>\n",
       "      <th>28</th>\n",
       "      <td>2000-01-29</td>\n",
       "      <td>2.517446</td>\n",
       "      <td>7.467664</td>\n",
       "      <td>0.007138</td>\n",
       "      <td>-0.233844</td>\n",
       "    </tr>\n",
       "    <tr>\n",
       "      <th>29</th>\n",
       "      <td>2000-01-30</td>\n",
       "      <td>2.822400</td>\n",
       "      <td>8.508857</td>\n",
       "      <td>1.294715</td>\n",
       "      <td>1.267895</td>\n",
       "    </tr>\n",
       "    <tr>\n",
       "      <th>...</th>\n",
       "      <td>...</td>\n",
       "      <td>...</td>\n",
       "      <td>...</td>\n",
       "      <td>...</td>\n",
       "      <td>...</td>\n",
       "    </tr>\n",
       "    <tr>\n",
       "      <th>470</th>\n",
       "      <td>2001-04-15</td>\n",
       "      <td>15.875307</td>\n",
       "      <td>17.930652</td>\n",
       "      <td>24.877685</td>\n",
       "      <td>18.195387</td>\n",
       "    </tr>\n",
       "    <tr>\n",
       "      <th>471</th>\n",
       "      <td>2001-04-16</td>\n",
       "      <td>15.860976</td>\n",
       "      <td>17.737390</td>\n",
       "      <td>24.485113</td>\n",
       "      <td>18.284419</td>\n",
       "    </tr>\n",
       "    <tr>\n",
       "      <th>472</th>\n",
       "      <td>2001-04-17</td>\n",
       "      <td>16.294523</td>\n",
       "      <td>17.502819</td>\n",
       "      <td>25.123577</td>\n",
       "      <td>19.564595</td>\n",
       "    </tr>\n",
       "    <tr>\n",
       "      <th>473</th>\n",
       "      <td>2001-04-18</td>\n",
       "      <td>15.882665</td>\n",
       "      <td>15.824442</td>\n",
       "      <td>24.315519</td>\n",
       "      <td>19.940287</td>\n",
       "    </tr>\n",
       "    <tr>\n",
       "      <th>474</th>\n",
       "      <td>2001-04-19</td>\n",
       "      <td>15.690958</td>\n",
       "      <td>17.090828</td>\n",
       "      <td>24.947272</td>\n",
       "      <td>19.324632</td>\n",
       "    </tr>\n",
       "    <tr>\n",
       "      <th>475</th>\n",
       "      <td>2001-04-20</td>\n",
       "      <td>16.540748</td>\n",
       "      <td>16.566750</td>\n",
       "      <td>24.433463</td>\n",
       "      <td>20.265687</td>\n",
       "    </tr>\n",
       "    <tr>\n",
       "      <th>476</th>\n",
       "      <td>2001-04-21</td>\n",
       "      <td>17.210113</td>\n",
       "      <td>17.294385</td>\n",
       "      <td>24.559972</td>\n",
       "      <td>21.269212</td>\n",
       "    </tr>\n",
       "    <tr>\n",
       "      <th>477</th>\n",
       "      <td>2001-04-22</td>\n",
       "      <td>17.670815</td>\n",
       "      <td>18.289380</td>\n",
       "      <td>23.848775</td>\n",
       "      <td>21.907856</td>\n",
       "    </tr>\n",
       "    <tr>\n",
       "      <th>478</th>\n",
       "      <td>2001-04-23</td>\n",
       "      <td>17.477273</td>\n",
       "      <td>18.593591</td>\n",
       "      <td>22.150088</td>\n",
       "      <td>22.064229</td>\n",
       "    </tr>\n",
       "    <tr>\n",
       "      <th>479</th>\n",
       "      <td>2001-04-24</td>\n",
       "      <td>15.860147</td>\n",
       "      <td>17.852958</td>\n",
       "      <td>21.517430</td>\n",
       "      <td>20.504606</td>\n",
       "    </tr>\n",
       "    <tr>\n",
       "      <th>480</th>\n",
       "      <td>2001-04-25</td>\n",
       "      <td>16.032542</td>\n",
       "      <td>17.048475</td>\n",
       "      <td>21.084963</td>\n",
       "      <td>19.549858</td>\n",
       "    </tr>\n",
       "    <tr>\n",
       "      <th>481</th>\n",
       "      <td>2001-04-26</td>\n",
       "      <td>14.267594</td>\n",
       "      <td>16.401239</td>\n",
       "      <td>21.831749</td>\n",
       "      <td>19.404766</td>\n",
       "    </tr>\n",
       "    <tr>\n",
       "      <th>482</th>\n",
       "      <td>2001-04-27</td>\n",
       "      <td>14.870082</td>\n",
       "      <td>18.136484</td>\n",
       "      <td>20.396253</td>\n",
       "      <td>17.859023</td>\n",
       "    </tr>\n",
       "    <tr>\n",
       "      <th>483</th>\n",
       "      <td>2001-04-28</td>\n",
       "      <td>14.807453</td>\n",
       "      <td>18.400471</td>\n",
       "      <td>20.094412</td>\n",
       "      <td>17.657255</td>\n",
       "    </tr>\n",
       "    <tr>\n",
       "      <th>484</th>\n",
       "      <td>2001-04-29</td>\n",
       "      <td>14.057087</td>\n",
       "      <td>17.074075</td>\n",
       "      <td>20.888278</td>\n",
       "      <td>18.389669</td>\n",
       "    </tr>\n",
       "    <tr>\n",
       "      <th>485</th>\n",
       "      <td>2001-04-30</td>\n",
       "      <td>11.293991</td>\n",
       "      <td>16.440199</td>\n",
       "      <td>21.112653</td>\n",
       "      <td>17.733171</td>\n",
       "    </tr>\n",
       "    <tr>\n",
       "      <th>486</th>\n",
       "      <td>2001-05-01</td>\n",
       "      <td>10.695490</td>\n",
       "      <td>16.119896</td>\n",
       "      <td>21.520206</td>\n",
       "      <td>16.929744</td>\n",
       "    </tr>\n",
       "    <tr>\n",
       "      <th>487</th>\n",
       "      <td>2001-05-02</td>\n",
       "      <td>12.328975</td>\n",
       "      <td>19.525327</td>\n",
       "      <td>21.421252</td>\n",
       "      <td>16.723835</td>\n",
       "    </tr>\n",
       "    <tr>\n",
       "      <th>488</th>\n",
       "      <td>2001-05-03</td>\n",
       "      <td>12.087714</td>\n",
       "      <td>20.450256</td>\n",
       "      <td>22.002030</td>\n",
       "      <td>17.078594</td>\n",
       "    </tr>\n",
       "    <tr>\n",
       "      <th>489</th>\n",
       "      <td>2001-05-04</td>\n",
       "      <td>12.685424</td>\n",
       "      <td>20.575007</td>\n",
       "      <td>24.156095</td>\n",
       "      <td>18.471756</td>\n",
       "    </tr>\n",
       "    <tr>\n",
       "      <th>490</th>\n",
       "      <td>2001-05-05</td>\n",
       "      <td>12.838750</td>\n",
       "      <td>20.216519</td>\n",
       "      <td>25.067325</td>\n",
       "      <td>16.067746</td>\n",
       "    </tr>\n",
       "    <tr>\n",
       "      <th>491</th>\n",
       "      <td>2001-05-06</td>\n",
       "      <td>11.962128</td>\n",
       "      <td>21.145248</td>\n",
       "      <td>21.939555</td>\n",
       "      <td>15.333281</td>\n",
       "    </tr>\n",
       "    <tr>\n",
       "      <th>492</th>\n",
       "      <td>2001-05-07</td>\n",
       "      <td>10.852407</td>\n",
       "      <td>22.652235</td>\n",
       "      <td>22.244314</td>\n",
       "      <td>15.596606</td>\n",
       "    </tr>\n",
       "    <tr>\n",
       "      <th>493</th>\n",
       "      <td>2001-05-08</td>\n",
       "      <td>10.350088</td>\n",
       "      <td>22.182894</td>\n",
       "      <td>22.045261</td>\n",
       "      <td>18.481847</td>\n",
       "    </tr>\n",
       "    <tr>\n",
       "      <th>494</th>\n",
       "      <td>2001-05-09</td>\n",
       "      <td>10.897546</td>\n",
       "      <td>21.557776</td>\n",
       "      <td>21.050771</td>\n",
       "      <td>18.327649</td>\n",
       "    </tr>\n",
       "    <tr>\n",
       "      <th>495</th>\n",
       "      <td>2001-05-10</td>\n",
       "      <td>9.515069</td>\n",
       "      <td>22.437070</td>\n",
       "      <td>22.040899</td>\n",
       "      <td>15.522297</td>\n",
       "    </tr>\n",
       "    <tr>\n",
       "      <th>496</th>\n",
       "      <td>2001-05-11</td>\n",
       "      <td>7.441625</td>\n",
       "      <td>23.079446</td>\n",
       "      <td>22.845086</td>\n",
       "      <td>15.582800</td>\n",
       "    </tr>\n",
       "    <tr>\n",
       "      <th>497</th>\n",
       "      <td>2001-05-12</td>\n",
       "      <td>8.368504</td>\n",
       "      <td>23.172997</td>\n",
       "      <td>23.997311</td>\n",
       "      <td>14.466215</td>\n",
       "    </tr>\n",
       "    <tr>\n",
       "      <th>498</th>\n",
       "      <td>2001-05-13</td>\n",
       "      <td>7.357199</td>\n",
       "      <td>22.418064</td>\n",
       "      <td>24.702647</td>\n",
       "      <td>15.019996</td>\n",
       "    </tr>\n",
       "    <tr>\n",
       "      <th>499</th>\n",
       "      <td>2001-05-14</td>\n",
       "      <td>6.580761</td>\n",
       "      <td>22.553401</td>\n",
       "      <td>25.917689</td>\n",
       "      <td>15.230076</td>\n",
       "    </tr>\n",
       "  </tbody>\n",
       "</table>\n",
       "<p>500 rows × 5 columns</p>\n",
       "</div>"
      ],
      "text/plain": [
       "    Unnamed: 0          A          B          C          D\n",
       "0   2000-01-01  -0.782974  -0.906495  -0.345509  -0.017375\n",
       "1   2000-01-02  -1.298321   0.311904  -1.274932   0.482908\n",
       "2   2000-01-03  -1.665687   1.860615  -1.215752   1.425627\n",
       "3   2000-01-04  -2.615464   1.119061  -0.271097   0.108837\n",
       "4   2000-01-05  -0.694288   2.530951  -0.000437  -0.446450\n",
       "5   2000-01-06  -0.565144   2.886192  -0.469630  -1.277937\n",
       "6   2000-01-07  -0.566809   2.857864   1.416771  -2.374604\n",
       "7   2000-01-08  -0.092763   3.835845   2.870655  -2.415756\n",
       "8   2000-01-09   1.788241   6.157323   2.730419  -2.695107\n",
       "9   2000-01-10   3.098564   6.122078   3.688150  -1.963122\n",
       "10  2000-01-11   3.080976   5.469746   3.315776  -3.265953\n",
       "11  2000-01-12   1.973371   4.566755   3.686793  -2.944968\n",
       "12  2000-01-13   1.388122   6.153731   5.043118  -4.060638\n",
       "13  2000-01-14   0.806585   5.583343   3.854587  -6.873711\n",
       "14  2000-01-15   0.363935   5.931075   3.132160  -5.190056\n",
       "15  2000-01-16   0.575101   4.892056   2.881314  -5.548862\n",
       "16  2000-01-17   1.116057   5.247166   2.065713  -7.917454\n",
       "17  2000-01-18   0.811351   6.556495   3.028270  -6.434582\n",
       "18  2000-01-19   2.154024   7.693564   0.802506  -6.143600\n",
       "19  2000-01-20   3.227456   7.486483   1.097978  -6.424247\n",
       "20  2000-01-21   2.301374   7.243856   0.408761  -6.203442\n",
       "21  2000-01-22   2.199094   7.270280  -0.861857  -6.266691\n",
       "22  2000-01-23   3.364742   7.795740  -1.147636  -5.589267\n",
       "23  2000-01-24   4.744512   7.515148  -2.160256  -4.449535\n",
       "24  2000-01-25   2.392493   8.168904  -2.873339  -4.018733\n",
       "25  2000-01-26   2.973840   7.518112  -0.990687  -4.544124\n",
       "26  2000-01-27   0.847543   6.964333   0.248819  -3.981652\n",
       "27  2000-01-28   2.568240   7.414387  -0.097054  -3.640059\n",
       "28  2000-01-29   2.517446   7.467664   0.007138  -0.233844\n",
       "29  2000-01-30   2.822400   8.508857   1.294715   1.267895\n",
       "..         ...        ...        ...        ...        ...\n",
       "470 2001-04-15  15.875307  17.930652  24.877685  18.195387\n",
       "471 2001-04-16  15.860976  17.737390  24.485113  18.284419\n",
       "472 2001-04-17  16.294523  17.502819  25.123577  19.564595\n",
       "473 2001-04-18  15.882665  15.824442  24.315519  19.940287\n",
       "474 2001-04-19  15.690958  17.090828  24.947272  19.324632\n",
       "475 2001-04-20  16.540748  16.566750  24.433463  20.265687\n",
       "476 2001-04-21  17.210113  17.294385  24.559972  21.269212\n",
       "477 2001-04-22  17.670815  18.289380  23.848775  21.907856\n",
       "478 2001-04-23  17.477273  18.593591  22.150088  22.064229\n",
       "479 2001-04-24  15.860147  17.852958  21.517430  20.504606\n",
       "480 2001-04-25  16.032542  17.048475  21.084963  19.549858\n",
       "481 2001-04-26  14.267594  16.401239  21.831749  19.404766\n",
       "482 2001-04-27  14.870082  18.136484  20.396253  17.859023\n",
       "483 2001-04-28  14.807453  18.400471  20.094412  17.657255\n",
       "484 2001-04-29  14.057087  17.074075  20.888278  18.389669\n",
       "485 2001-04-30  11.293991  16.440199  21.112653  17.733171\n",
       "486 2001-05-01  10.695490  16.119896  21.520206  16.929744\n",
       "487 2001-05-02  12.328975  19.525327  21.421252  16.723835\n",
       "488 2001-05-03  12.087714  20.450256  22.002030  17.078594\n",
       "489 2001-05-04  12.685424  20.575007  24.156095  18.471756\n",
       "490 2001-05-05  12.838750  20.216519  25.067325  16.067746\n",
       "491 2001-05-06  11.962128  21.145248  21.939555  15.333281\n",
       "492 2001-05-07  10.852407  22.652235  22.244314  15.596606\n",
       "493 2001-05-08  10.350088  22.182894  22.045261  18.481847\n",
       "494 2001-05-09  10.897546  21.557776  21.050771  18.327649\n",
       "495 2001-05-10   9.515069  22.437070  22.040899  15.522297\n",
       "496 2001-05-11   7.441625  23.079446  22.845086  15.582800\n",
       "497 2001-05-12   8.368504  23.172997  23.997311  14.466215\n",
       "498 2001-05-13   7.357199  22.418064  24.702647  15.019996\n",
       "499 2001-05-14   6.580761  22.553401  25.917689  15.230076\n",
       "\n",
       "[500 rows x 5 columns]"
      ]
     },
     "execution_count": 461,
     "metadata": {},
     "output_type": "execute_result"
    }
   ],
   "source": [
    "# Writing to a csv file:\n",
    "df.to_csv('my_file.csv')\n",
    "\n",
    "# Reading from a csv file:\n",
    "pd.read_csv('my_file.csv')\n",
    "\n",
    "# Writing to an excel file:\n",
    "df.to_excel('my_file.xlsx', sheet_name='Sheet1')\n",
    "\n",
    "# Reading from an excel file:\n",
    "pd.read_excel('my_file.xlsx', sheet_name='Sheet1')"
   ]
  },
  {
   "cell_type": "code",
   "execution_count": null,
   "metadata": {},
   "outputs": [],
   "source": []
  }
 ],
 "metadata": {
  "canopy_exercise": {
   "__metadata_version__": 1
  },
  "description": "",
  "difficulty": "very simple",
  "duration": "very short",
  "exercise_number": 1,
  "flavor": "general",
  "kernelspec": {
   "display_name": "Python 3",
   "language": "python",
   "name": "python3"
  },
  "language_info": {
   "codemirror_mode": {
    "name": "ipython",
    "version": 3
   },
   "file_extension": ".py",
   "mimetype": "text/x-python",
   "name": "python",
   "nbconvert_exporter": "python",
   "pygments_lexer": "ipython3",
   "version": "3.6.8"
  },
  "level": "fluency",
  "module": "PyFund_string",
  "pre_requisites": [
   "PyFund_string",
   "header"
  ],
  "programming_goals": [
   "variable creation",
   "print"
  ],
  "python_goals": [
   "string creation",
   "string concatenation"
  ]
 },
 "nbformat": 4,
 "nbformat_minor": 1
}
