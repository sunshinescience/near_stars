{
 "cells": [
  {
   "cell_type": "markdown",
   "metadata": {},
   "source": [
    "# Intro to pandas Indexing and Selecting"
   ]
  },
  {
   "cell_type": "markdown",
   "metadata": {},
   "source": [
    "Let's work through pandas [indexing and selecting](https://pandas.pydata.org/pandas-docs/stable/user_guide/indexing.html) data to get and set subsets of pandas objects."
   ]
  },
  {
   "cell_type": "code",
   "execution_count": 165,
   "metadata": {
    "canopy_exercise": {
     "cell_type": "student_solution"
    }
   },
   "outputs": [],
   "source": [
    "import numpy as np\n",
    "import pandas as pd\n",
    "\n",
    "%matplotlib inline "
   ]
  },
  {
   "cell_type": "markdown",
   "metadata": {},
   "source": [
    "### pandas has three ways to index:\n",
    "    \n",
    "  **.loc** (mainly label based, but can be used with a boolean array) inputs include:\n",
    "-    A single label, e.g. 5 or 'a' (Note that 5 is interpreted as a label of the index. This use is not an integer position along the index.)\n",
    "-    A list or array of labels ['a', 'b', 'c']\n",
    "-    A slice object with labels 'a':'f' (Note that contrary to usual python slices, both the start and the stop are included, when present in the index! See Slicing with labels.)\n",
    "-    A boolean array\n",
    "-    A callable, see [Selection By Callable](https://pandas.pydata.org/pandas-docs/stable/user_guide/indexing.html#indexing-callable)\n",
    "\n",
    "  \n",
    "  **.iloc** (mainly integer position based, but can be used with a boolean array) inputs include:\n",
    "  \n",
    "-    An integer e.g. 5\n",
    "-    A list or array of integers [4, 3, 0]\n",
    "-    A slice object with ints 1:7\n",
    "-    A boolean array\n",
    "-    A callable, see [Selection By Callable](https://pandas.pydata.org/pandas-docs/stable/user_guide/indexing.html#indexing-callable)\n",
    "\n",
    "  \n",
    "  **[ ]** (the most basic indexing uses square brackets)"
   ]
  },
  {
   "cell_type": "code",
   "execution_count": 166,
   "metadata": {},
   "outputs": [
    {
     "data": {
      "text/html": [
       "<div>\n",
       "<style scoped>\n",
       "    .dataframe tbody tr th:only-of-type {\n",
       "        vertical-align: middle;\n",
       "    }\n",
       "\n",
       "    .dataframe tbody tr th {\n",
       "        vertical-align: top;\n",
       "    }\n",
       "\n",
       "    .dataframe thead th {\n",
       "        text-align: right;\n",
       "    }\n",
       "</style>\n",
       "<table border=\"1\" class=\"dataframe\">\n",
       "  <thead>\n",
       "    <tr style=\"text-align: right;\">\n",
       "      <th></th>\n",
       "      <th>A</th>\n",
       "      <th>B</th>\n",
       "      <th>C</th>\n",
       "      <th>D</th>\n",
       "      <th>E</th>\n",
       "    </tr>\n",
       "  </thead>\n",
       "  <tbody>\n",
       "    <tr>\n",
       "      <th>2000-01-01</th>\n",
       "      <td>-1.304028</td>\n",
       "      <td>1.127377</td>\n",
       "      <td>-0.426133</td>\n",
       "      <td>1.881919</td>\n",
       "      <td>-0.738301</td>\n",
       "    </tr>\n",
       "    <tr>\n",
       "      <th>2000-01-02</th>\n",
       "      <td>-0.834625</td>\n",
       "      <td>-0.569104</td>\n",
       "      <td>1.301898</td>\n",
       "      <td>-1.325719</td>\n",
       "      <td>-1.329499</td>\n",
       "    </tr>\n",
       "    <tr>\n",
       "      <th>2000-01-03</th>\n",
       "      <td>-0.374138</td>\n",
       "      <td>0.326205</td>\n",
       "      <td>-0.703970</td>\n",
       "      <td>1.807141</td>\n",
       "      <td>-1.036084</td>\n",
       "    </tr>\n",
       "    <tr>\n",
       "      <th>2000-01-04</th>\n",
       "      <td>0.819997</td>\n",
       "      <td>-0.329745</td>\n",
       "      <td>-0.867889</td>\n",
       "      <td>0.861661</td>\n",
       "      <td>0.809619</td>\n",
       "    </tr>\n",
       "    <tr>\n",
       "      <th>2000-01-05</th>\n",
       "      <td>-0.330284</td>\n",
       "      <td>-0.689091</td>\n",
       "      <td>1.828434</td>\n",
       "      <td>-1.374577</td>\n",
       "      <td>-0.021425</td>\n",
       "    </tr>\n",
       "    <tr>\n",
       "      <th>2000-01-06</th>\n",
       "      <td>-0.219075</td>\n",
       "      <td>0.259015</td>\n",
       "      <td>-0.616535</td>\n",
       "      <td>2.134153</td>\n",
       "      <td>-1.614332</td>\n",
       "    </tr>\n",
       "    <tr>\n",
       "      <th>2000-01-07</th>\n",
       "      <td>0.290995</td>\n",
       "      <td>1.229536</td>\n",
       "      <td>-0.150599</td>\n",
       "      <td>1.369849</td>\n",
       "      <td>1.051726</td>\n",
       "    </tr>\n",
       "    <tr>\n",
       "      <th>2000-01-08</th>\n",
       "      <td>-2.210393</td>\n",
       "      <td>0.284083</td>\n",
       "      <td>0.977097</td>\n",
       "      <td>-0.887960</td>\n",
       "      <td>0.746785</td>\n",
       "    </tr>\n",
       "    <tr>\n",
       "      <th>2000-01-09</th>\n",
       "      <td>-0.842907</td>\n",
       "      <td>-0.585655</td>\n",
       "      <td>0.302929</td>\n",
       "      <td>-0.567062</td>\n",
       "      <td>-0.219453</td>\n",
       "    </tr>\n",
       "    <tr>\n",
       "      <th>2000-01-10</th>\n",
       "      <td>-0.354592</td>\n",
       "      <td>0.557610</td>\n",
       "      <td>1.559985</td>\n",
       "      <td>-1.825729</td>\n",
       "      <td>1.001017</td>\n",
       "    </tr>\n",
       "  </tbody>\n",
       "</table>\n",
       "</div>"
      ],
      "text/plain": [
       "                   A         B         C         D         E\n",
       "2000-01-01 -1.304028  1.127377 -0.426133  1.881919 -0.738301\n",
       "2000-01-02 -0.834625 -0.569104  1.301898 -1.325719 -1.329499\n",
       "2000-01-03 -0.374138  0.326205 -0.703970  1.807141 -1.036084\n",
       "2000-01-04  0.819997 -0.329745 -0.867889  0.861661  0.809619\n",
       "2000-01-05 -0.330284 -0.689091  1.828434 -1.374577 -0.021425\n",
       "2000-01-06 -0.219075  0.259015 -0.616535  2.134153 -1.614332\n",
       "2000-01-07  0.290995  1.229536 -0.150599  1.369849  1.051726\n",
       "2000-01-08 -2.210393  0.284083  0.977097 -0.887960  0.746785\n",
       "2000-01-09 -0.842907 -0.585655  0.302929 -0.567062 -0.219453\n",
       "2000-01-10 -0.354592  0.557610  1.559985 -1.825729  1.001017"
      ]
     },
     "execution_count": 166,
     "metadata": {},
     "output_type": "execute_result"
    }
   ],
   "source": [
    "# Example similar to what the documentation uses, to create a simple time series data set:\n",
    "dates = pd.date_range('1/1/2000', periods=10)\n",
    "df = pd.DataFrame(np.random.randn(10,5), index=dates, columns=['A', 'B', 'C', 'D', 'E'])\n",
    "df"
   ]
  },
  {
   "cell_type": "code",
   "execution_count": 167,
   "metadata": {},
   "outputs": [
    {
     "data": {
      "text/plain": [
       "-0.2190747619760561"
      ]
     },
     "execution_count": 167,
     "metadata": {},
     "output_type": "execute_result"
    }
   ],
   "source": [
    "# Basic indexing using square brackets\n",
    "s = df['A'] # Get a Series by indexing into the 'A' column\n",
    "s[dates[5]] # Index into the Series s using a row label (which in this case is from dates), and an integer position (which in this example is the number 5)\n"
   ]
  },
  {
   "cell_type": "code",
   "execution_count": 168,
   "metadata": {},
   "outputs": [
    {
     "data": {
      "text/html": [
       "<div>\n",
       "<style scoped>\n",
       "    .dataframe tbody tr th:only-of-type {\n",
       "        vertical-align: middle;\n",
       "    }\n",
       "\n",
       "    .dataframe tbody tr th {\n",
       "        vertical-align: top;\n",
       "    }\n",
       "\n",
       "    .dataframe thead th {\n",
       "        text-align: right;\n",
       "    }\n",
       "</style>\n",
       "<table border=\"1\" class=\"dataframe\">\n",
       "  <thead>\n",
       "    <tr style=\"text-align: right;\">\n",
       "      <th></th>\n",
       "      <th>B</th>\n",
       "      <th>D</th>\n",
       "    </tr>\n",
       "  </thead>\n",
       "  <tbody>\n",
       "    <tr>\n",
       "      <th>2000-01-01</th>\n",
       "      <td>1.127377</td>\n",
       "      <td>1.881919</td>\n",
       "    </tr>\n",
       "    <tr>\n",
       "      <th>2000-01-02</th>\n",
       "      <td>-0.569104</td>\n",
       "      <td>-1.325719</td>\n",
       "    </tr>\n",
       "    <tr>\n",
       "      <th>2000-01-03</th>\n",
       "      <td>0.326205</td>\n",
       "      <td>1.807141</td>\n",
       "    </tr>\n",
       "    <tr>\n",
       "      <th>2000-01-04</th>\n",
       "      <td>-0.329745</td>\n",
       "      <td>0.861661</td>\n",
       "    </tr>\n",
       "    <tr>\n",
       "      <th>2000-01-05</th>\n",
       "      <td>-0.689091</td>\n",
       "      <td>-1.374577</td>\n",
       "    </tr>\n",
       "    <tr>\n",
       "      <th>2000-01-06</th>\n",
       "      <td>0.259015</td>\n",
       "      <td>2.134153</td>\n",
       "    </tr>\n",
       "    <tr>\n",
       "      <th>2000-01-07</th>\n",
       "      <td>1.229536</td>\n",
       "      <td>1.369849</td>\n",
       "    </tr>\n",
       "    <tr>\n",
       "      <th>2000-01-08</th>\n",
       "      <td>0.284083</td>\n",
       "      <td>-0.887960</td>\n",
       "    </tr>\n",
       "    <tr>\n",
       "      <th>2000-01-09</th>\n",
       "      <td>-0.585655</td>\n",
       "      <td>-0.567062</td>\n",
       "    </tr>\n",
       "    <tr>\n",
       "      <th>2000-01-10</th>\n",
       "      <td>0.557610</td>\n",
       "      <td>-1.825729</td>\n",
       "    </tr>\n",
       "  </tbody>\n",
       "</table>\n",
       "</div>"
      ],
      "text/plain": [
       "                   B         D\n",
       "2000-01-01  1.127377  1.881919\n",
       "2000-01-02 -0.569104 -1.325719\n",
       "2000-01-03  0.326205  1.807141\n",
       "2000-01-04 -0.329745  0.861661\n",
       "2000-01-05 -0.689091 -1.374577\n",
       "2000-01-06  0.259015  2.134153\n",
       "2000-01-07  1.229536  1.369849\n",
       "2000-01-08  0.284083 -0.887960\n",
       "2000-01-09 -0.585655 -0.567062\n",
       "2000-01-10  0.557610 -1.825729"
      ]
     },
     "execution_count": 168,
     "metadata": {},
     "output_type": "execute_result"
    }
   ],
   "source": [
    "# Pass a list of columns to select columns in that order\n",
    "df1 = df[['B', 'D']]\n",
    "df1\n"
   ]
  },
  {
   "cell_type": "code",
   "execution_count": 169,
   "metadata": {},
   "outputs": [
    {
     "data": {
      "text/html": [
       "<div>\n",
       "<style scoped>\n",
       "    .dataframe tbody tr th:only-of-type {\n",
       "        vertical-align: middle;\n",
       "    }\n",
       "\n",
       "    .dataframe tbody tr th {\n",
       "        vertical-align: top;\n",
       "    }\n",
       "\n",
       "    .dataframe thead th {\n",
       "        text-align: right;\n",
       "    }\n",
       "</style>\n",
       "<table border=\"1\" class=\"dataframe\">\n",
       "  <thead>\n",
       "    <tr style=\"text-align: right;\">\n",
       "      <th></th>\n",
       "      <th>D</th>\n",
       "      <th>B</th>\n",
       "    </tr>\n",
       "  </thead>\n",
       "  <tbody>\n",
       "    <tr>\n",
       "      <th>2000-01-01</th>\n",
       "      <td>1.127377</td>\n",
       "      <td>1.881919</td>\n",
       "    </tr>\n",
       "    <tr>\n",
       "      <th>2000-01-02</th>\n",
       "      <td>-0.569104</td>\n",
       "      <td>-1.325719</td>\n",
       "    </tr>\n",
       "    <tr>\n",
       "      <th>2000-01-03</th>\n",
       "      <td>0.326205</td>\n",
       "      <td>1.807141</td>\n",
       "    </tr>\n",
       "    <tr>\n",
       "      <th>2000-01-04</th>\n",
       "      <td>-0.329745</td>\n",
       "      <td>0.861661</td>\n",
       "    </tr>\n",
       "    <tr>\n",
       "      <th>2000-01-05</th>\n",
       "      <td>-0.689091</td>\n",
       "      <td>-1.374577</td>\n",
       "    </tr>\n",
       "    <tr>\n",
       "      <th>2000-01-06</th>\n",
       "      <td>0.259015</td>\n",
       "      <td>2.134153</td>\n",
       "    </tr>\n",
       "    <tr>\n",
       "      <th>2000-01-07</th>\n",
       "      <td>1.229536</td>\n",
       "      <td>1.369849</td>\n",
       "    </tr>\n",
       "    <tr>\n",
       "      <th>2000-01-08</th>\n",
       "      <td>0.284083</td>\n",
       "      <td>-0.887960</td>\n",
       "    </tr>\n",
       "    <tr>\n",
       "      <th>2000-01-09</th>\n",
       "      <td>-0.585655</td>\n",
       "      <td>-0.567062</td>\n",
       "    </tr>\n",
       "    <tr>\n",
       "      <th>2000-01-10</th>\n",
       "      <td>0.557610</td>\n",
       "      <td>-1.825729</td>\n",
       "    </tr>\n",
       "  </tbody>\n",
       "</table>\n",
       "</div>"
      ],
      "text/plain": [
       "                   D         B\n",
       "2000-01-01  1.127377  1.881919\n",
       "2000-01-02 -0.569104 -1.325719\n",
       "2000-01-03  0.326205  1.807141\n",
       "2000-01-04 -0.329745  0.861661\n",
       "2000-01-05 -0.689091 -1.374577\n",
       "2000-01-06  0.259015  2.134153\n",
       "2000-01-07  1.229536  1.369849\n",
       "2000-01-08  0.284083 -0.887960\n",
       "2000-01-09 -0.585655 -0.567062\n",
       "2000-01-10  0.557610 -1.825729"
      ]
     },
     "execution_count": 169,
     "metadata": {},
     "output_type": "execute_result"
    }
   ],
   "source": [
    "# To swap columns, use the raw values, e.g.:\n",
    "df.loc[:, ['B', 'D']] = df[['D', 'B']].to_numpy()\n",
    "df[['D', 'B']]\n"
   ]
  },
  {
   "cell_type": "code",
   "execution_count": 170,
   "metadata": {},
   "outputs": [
    {
     "data": {
      "text/plain": [
       "2000-01-01    1.881919\n",
       "2000-01-02   -1.325719\n",
       "2000-01-03    1.807141\n",
       "2000-01-04    0.861661\n",
       "2000-01-05   -1.374577\n",
       "2000-01-06    2.134153\n",
       "2000-01-07    1.369849\n",
       "2000-01-08   -0.887960\n",
       "2000-01-09   -0.567062\n",
       "2000-01-10   -1.825729\n",
       "Freq: D, Name: B, dtype: float64"
      ]
     },
     "execution_count": 170,
     "metadata": {},
     "output_type": "execute_result"
    }
   ],
   "source": [
    "# Its possible to access an index on a Series or a column on a DataFrame using an attribute, e.g.:\n",
    "df.B\n"
   ]
  },
  {
   "cell_type": "code",
   "execution_count": 171,
   "metadata": {},
   "outputs": [
    {
     "data": {
      "text/plain": [
       "2000-01-01    1.881919\n",
       "2000-01-02   -1.325719\n",
       "2000-01-03    1.807141\n",
       "2000-01-04    0.861661\n",
       "2000-01-05   -1.374577\n",
       "Freq: D, Name: B, dtype: float64"
      ]
     },
     "execution_count": 171,
     "metadata": {},
     "output_type": "execute_result"
    }
   ],
   "source": [
    "sa = df[['B']]\n",
    "sa.B[:5] # Index into a Series sa, the first 5 values\n",
    "# sa. Use the tab completion to see available attributes that can be used"
   ]
  },
  {
   "cell_type": "code",
   "execution_count": 172,
   "metadata": {},
   "outputs": [
    {
     "data": {
      "text/html": [
       "<div>\n",
       "<style scoped>\n",
       "    .dataframe tbody tr th:only-of-type {\n",
       "        vertical-align: middle;\n",
       "    }\n",
       "\n",
       "    .dataframe tbody tr th {\n",
       "        vertical-align: top;\n",
       "    }\n",
       "\n",
       "    .dataframe thead th {\n",
       "        text-align: right;\n",
       "    }\n",
       "</style>\n",
       "<table border=\"1\" class=\"dataframe\">\n",
       "  <thead>\n",
       "    <tr style=\"text-align: right;\">\n",
       "      <th></th>\n",
       "      <th>x</th>\n",
       "      <th>y</th>\n",
       "    </tr>\n",
       "  </thead>\n",
       "  <tbody>\n",
       "    <tr>\n",
       "      <th>0</th>\n",
       "      <td>1</td>\n",
       "      <td>3</td>\n",
       "    </tr>\n",
       "    <tr>\n",
       "      <th>1</th>\n",
       "      <td>2</td>\n",
       "      <td>4</td>\n",
       "    </tr>\n",
       "    <tr>\n",
       "      <th>2</th>\n",
       "      <td>9</td>\n",
       "      <td>99</td>\n",
       "    </tr>\n",
       "  </tbody>\n",
       "</table>\n",
       "</div>"
      ],
      "text/plain": [
       "   x   y\n",
       "0  1   3\n",
       "1  2   4\n",
       "2  9  99"
      ]
     },
     "execution_count": 172,
     "metadata": {},
     "output_type": "execute_result"
    }
   ],
   "source": [
    "x = pd.DataFrame({'x': [1, 2, 3], 'y': [3, 4, 5]})\n",
    "x.iloc[2] = {'x': 9, 'y': 99} # Set new row/column values using .iloc\n",
    "x"
   ]
  },
  {
   "cell_type": "code",
   "execution_count": 173,
   "metadata": {},
   "outputs": [
    {
     "data": {
      "text/plain": [
       "2000-01-10   -0.354592\n",
       "2000-01-09   -0.842907\n",
       "2000-01-08   -2.210393\n",
       "2000-01-07    0.290995\n",
       "2000-01-06   -0.219075\n",
       "2000-01-05   -0.330284\n",
       "2000-01-04    0.819997\n",
       "2000-01-03   -0.374138\n",
       "2000-01-02   -0.834625\n",
       "2000-01-01   -1.304028\n",
       "Freq: -1D, Name: A, dtype: float64"
      ]
     },
     "execution_count": 173,
     "metadata": {},
     "output_type": "execute_result"
    }
   ],
   "source": [
    "# With Series, the syntax for slicing works exactly as with an ndarray, \n",
    "# This returns a slice of the values and the corresponding labels:\n",
    "s[:5]\n",
    "s[::2]\n",
    "s[::-1]"
   ]
  },
  {
   "cell_type": "code",
   "execution_count": 174,
   "metadata": {},
   "outputs": [
    {
     "data": {
      "text/plain": [
       "2000-01-01    2.000000\n",
       "2000-01-02    2.000000\n",
       "2000-01-03    2.000000\n",
       "2000-01-04    2.000000\n",
       "2000-01-05    2.000000\n",
       "2000-01-06   -0.219075\n",
       "2000-01-07    0.290995\n",
       "2000-01-08   -2.210393\n",
       "2000-01-09   -0.842907\n",
       "2000-01-10   -0.354592\n",
       "Freq: D, Name: A, dtype: float64"
      ]
     },
     "execution_count": 174,
     "metadata": {},
     "output_type": "execute_result"
    }
   ],
   "source": [
    "# Setting can also be done:\n",
    "s2 = s.copy()\n",
    "s2[:5] = 2\n",
    "s2"
   ]
  },
  {
   "cell_type": "markdown",
   "metadata": {},
   "source": [
    "#### With DataFrame, slicing inside of square brackets [] slices the rows. "
   ]
  },
  {
   "cell_type": "code",
   "execution_count": 175,
   "metadata": {},
   "outputs": [
    {
     "data": {
      "text/html": [
       "<div>\n",
       "<style scoped>\n",
       "    .dataframe tbody tr th:only-of-type {\n",
       "        vertical-align: middle;\n",
       "    }\n",
       "\n",
       "    .dataframe tbody tr th {\n",
       "        vertical-align: top;\n",
       "    }\n",
       "\n",
       "    .dataframe thead th {\n",
       "        text-align: right;\n",
       "    }\n",
       "</style>\n",
       "<table border=\"1\" class=\"dataframe\">\n",
       "  <thead>\n",
       "    <tr style=\"text-align: right;\">\n",
       "      <th></th>\n",
       "      <th>A</th>\n",
       "      <th>B</th>\n",
       "      <th>C</th>\n",
       "      <th>D</th>\n",
       "      <th>E</th>\n",
       "    </tr>\n",
       "  </thead>\n",
       "  <tbody>\n",
       "    <tr>\n",
       "      <th>2000-01-10</th>\n",
       "      <td>-0.354592</td>\n",
       "      <td>-1.825729</td>\n",
       "      <td>1.559985</td>\n",
       "      <td>0.557610</td>\n",
       "      <td>1.001017</td>\n",
       "    </tr>\n",
       "    <tr>\n",
       "      <th>2000-01-09</th>\n",
       "      <td>-0.842907</td>\n",
       "      <td>-0.567062</td>\n",
       "      <td>0.302929</td>\n",
       "      <td>-0.585655</td>\n",
       "      <td>-0.219453</td>\n",
       "    </tr>\n",
       "    <tr>\n",
       "      <th>2000-01-08</th>\n",
       "      <td>-2.210393</td>\n",
       "      <td>-0.887960</td>\n",
       "      <td>0.977097</td>\n",
       "      <td>0.284083</td>\n",
       "      <td>0.746785</td>\n",
       "    </tr>\n",
       "    <tr>\n",
       "      <th>2000-01-07</th>\n",
       "      <td>0.290995</td>\n",
       "      <td>1.369849</td>\n",
       "      <td>-0.150599</td>\n",
       "      <td>1.229536</td>\n",
       "      <td>1.051726</td>\n",
       "    </tr>\n",
       "    <tr>\n",
       "      <th>2000-01-06</th>\n",
       "      <td>-0.219075</td>\n",
       "      <td>2.134153</td>\n",
       "      <td>-0.616535</td>\n",
       "      <td>0.259015</td>\n",
       "      <td>-1.614332</td>\n",
       "    </tr>\n",
       "    <tr>\n",
       "      <th>2000-01-05</th>\n",
       "      <td>-0.330284</td>\n",
       "      <td>-1.374577</td>\n",
       "      <td>1.828434</td>\n",
       "      <td>-0.689091</td>\n",
       "      <td>-0.021425</td>\n",
       "    </tr>\n",
       "    <tr>\n",
       "      <th>2000-01-04</th>\n",
       "      <td>0.819997</td>\n",
       "      <td>0.861661</td>\n",
       "      <td>-0.867889</td>\n",
       "      <td>-0.329745</td>\n",
       "      <td>0.809619</td>\n",
       "    </tr>\n",
       "    <tr>\n",
       "      <th>2000-01-03</th>\n",
       "      <td>-0.374138</td>\n",
       "      <td>1.807141</td>\n",
       "      <td>-0.703970</td>\n",
       "      <td>0.326205</td>\n",
       "      <td>-1.036084</td>\n",
       "    </tr>\n",
       "    <tr>\n",
       "      <th>2000-01-02</th>\n",
       "      <td>-0.834625</td>\n",
       "      <td>-1.325719</td>\n",
       "      <td>1.301898</td>\n",
       "      <td>-0.569104</td>\n",
       "      <td>-1.329499</td>\n",
       "    </tr>\n",
       "    <tr>\n",
       "      <th>2000-01-01</th>\n",
       "      <td>-1.304028</td>\n",
       "      <td>1.881919</td>\n",
       "      <td>-0.426133</td>\n",
       "      <td>1.127377</td>\n",
       "      <td>-0.738301</td>\n",
       "    </tr>\n",
       "  </tbody>\n",
       "</table>\n",
       "</div>"
      ],
      "text/plain": [
       "                   A         B         C         D         E\n",
       "2000-01-10 -0.354592 -1.825729  1.559985  0.557610  1.001017\n",
       "2000-01-09 -0.842907 -0.567062  0.302929 -0.585655 -0.219453\n",
       "2000-01-08 -2.210393 -0.887960  0.977097  0.284083  0.746785\n",
       "2000-01-07  0.290995  1.369849 -0.150599  1.229536  1.051726\n",
       "2000-01-06 -0.219075  2.134153 -0.616535  0.259015 -1.614332\n",
       "2000-01-05 -0.330284 -1.374577  1.828434 -0.689091 -0.021425\n",
       "2000-01-04  0.819997  0.861661 -0.867889 -0.329745  0.809619\n",
       "2000-01-03 -0.374138  1.807141 -0.703970  0.326205 -1.036084\n",
       "2000-01-02 -0.834625 -1.325719  1.301898 -0.569104 -1.329499\n",
       "2000-01-01 -1.304028  1.881919 -0.426133  1.127377 -0.738301"
      ]
     },
     "execution_count": 175,
     "metadata": {},
     "output_type": "execute_result"
    }
   ],
   "source": [
    "df[:3]\n",
    "df[::-1]"
   ]
  },
  {
   "cell_type": "markdown",
   "metadata": {},
   "source": [
    "Every label asked for must be in the index. When slicing, both the start bound AND the stop bound are included, if they are present in the index."
   ]
  },
  {
   "cell_type": "markdown",
   "metadata": {},
   "source": [
    "### Integer based indexing\n",
    ".iloc"
   ]
  },
  {
   "cell_type": "code",
   "execution_count": 176,
   "metadata": {},
   "outputs": [
    {
     "data": {
      "text/html": [
       "<div>\n",
       "<style scoped>\n",
       "    .dataframe tbody tr th:only-of-type {\n",
       "        vertical-align: middle;\n",
       "    }\n",
       "\n",
       "    .dataframe tbody tr th {\n",
       "        vertical-align: top;\n",
       "    }\n",
       "\n",
       "    .dataframe thead th {\n",
       "        text-align: right;\n",
       "    }\n",
       "</style>\n",
       "<table border=\"1\" class=\"dataframe\">\n",
       "  <thead>\n",
       "    <tr style=\"text-align: right;\">\n",
       "      <th></th>\n",
       "      <th>A</th>\n",
       "      <th>B</th>\n",
       "    </tr>\n",
       "  </thead>\n",
       "  <tbody>\n",
       "    <tr>\n",
       "      <th>0</th>\n",
       "      <td>-0.841546</td>\n",
       "      <td>-0.138746</td>\n",
       "    </tr>\n",
       "    <tr>\n",
       "      <th>1</th>\n",
       "      <td>0.388673</td>\n",
       "      <td>-0.065345</td>\n",
       "    </tr>\n",
       "  </tbody>\n",
       "</table>\n",
       "</div>"
      ],
      "text/plain": [
       "          A         B\n",
       "0 -0.841546 -0.138746\n",
       "1  0.388673 -0.065345"
      ]
     },
     "execution_count": 176,
     "metadata": {},
     "output_type": "execute_result"
    }
   ],
   "source": [
    "df1 = pd.DataFrame(np.random.randn(5,2), columns=['A', 'B'])\n",
    "df1\n",
    "df1.iloc[:, 0:2]\n",
    "df1.iloc[0:2]"
   ]
  },
  {
   "cell_type": "code",
   "execution_count": 177,
   "metadata": {},
   "outputs": [
    {
     "data": {
      "text/plain": [
       "a   -0.304869\n",
       "b    0.380424\n",
       "c   -0.284115\n",
       "d    0.332465\n",
       "e    0.925067\n",
       "f    0.351215\n",
       "Name: A, dtype: float64"
      ]
     },
     "execution_count": 177,
     "metadata": {},
     "output_type": "execute_result"
    }
   ],
   "source": [
    "# Using a callable\n",
    "df1 = pd.DataFrame(np.random.randn(6, 4),\n",
    "                    index=list('abcdef'),\n",
    "                    columns=list('ABCD'))\n",
    "df1\n",
    "df1.loc[:, lambda df: ['A', 'B']]\n",
    "df1.loc[lambda df: df.A > 0]\n",
    "df1.iloc[:, lambda df: [0,1]]\n",
    "df1[lambda df: df.columns[0]]"
   ]
  },
  {
   "cell_type": "markdown",
   "metadata": {},
   "source": [
    "Note that while the `def` keyword is used to define normal functions, the `lambda` keyword is used to create anonymous functions. It has the following syntax:\n",
    "    \n",
    "    lambda arguments: expression\n",
    "\n",
    "This function can have any number of arguments but only one expression, which is evaluated and returned.\n",
    "One is free to use lambda functions wherever function objects are required. "
   ]
  },
  {
   "cell_type": "code",
   "execution_count": 178,
   "metadata": {},
   "outputs": [
    {
     "data": {
      "text/plain": [
       "b    0.380424\n",
       "d    0.332465\n",
       "e    0.925067\n",
       "f    0.351215\n",
       "Name: A, dtype: float64"
      ]
     },
     "execution_count": 178,
     "metadata": {},
     "output_type": "execute_result"
    }
   ],
   "source": [
    "# Using callable indexing in Series\n",
    "df1.A.loc[lambda s: s>0]"
   ]
  },
  {
   "cell_type": "markdown",
   "metadata": {},
   "source": [
    "If one needs to select elements that might be missing, use `.reindex()`"
   ]
  },
  {
   "cell_type": "markdown",
   "metadata": {},
   "source": [
    "Using a boolean vector to index a Series is similar to how a NumPy ndarray works. The operators are: | for or, & for and, and ~ for not. These must be grouped by using parentheses.\n"
   ]
  },
  {
   "cell_type": "code",
   "execution_count": 179,
   "metadata": {},
   "outputs": [
    {
     "data": {
      "text/plain": [
       "3    0\n",
       "4    1\n",
       "5    2\n",
       "6    3\n",
       "dtype: int64"
      ]
     },
     "execution_count": 179,
     "metadata": {},
     "output_type": "execute_result"
    }
   ],
   "source": [
    "s = pd.Series(range(-3,4))\n",
    "s\n",
    "s[s > 0]\n",
    "s[(s < -1) | (s > 0.5)]\n",
    "s[~(s < 0)]"
   ]
  },
  {
   "cell_type": "code",
   "execution_count": 180,
   "metadata": {},
   "outputs": [
    {
     "data": {
      "text/html": [
       "<div>\n",
       "<style scoped>\n",
       "    .dataframe tbody tr th:only-of-type {\n",
       "        vertical-align: middle;\n",
       "    }\n",
       "\n",
       "    .dataframe tbody tr th {\n",
       "        vertical-align: top;\n",
       "    }\n",
       "\n",
       "    .dataframe thead th {\n",
       "        text-align: right;\n",
       "    }\n",
       "</style>\n",
       "<table border=\"1\" class=\"dataframe\">\n",
       "  <thead>\n",
       "    <tr style=\"text-align: right;\">\n",
       "      <th></th>\n",
       "      <th>a</th>\n",
       "      <th>b</th>\n",
       "      <th>c</th>\n",
       "    </tr>\n",
       "  </thead>\n",
       "  <tbody>\n",
       "    <tr>\n",
       "      <th>3</th>\n",
       "      <td>three</td>\n",
       "      <td>x</td>\n",
       "      <td>-1.518168</td>\n",
       "    </tr>\n",
       "  </tbody>\n",
       "</table>\n",
       "</div>"
      ],
      "text/plain": [
       "       a  b         c\n",
       "3  three  x -1.518168"
      ]
     },
     "execution_count": 180,
     "metadata": {},
     "output_type": "execute_result"
    }
   ],
   "source": [
    "# Using list comprehensions and `map` method of Series\n",
    "df2 = pd.DataFrame({'a': ['one', 'one', 'two', 'three', 'two', 'one', 'six'],\n",
    "                    'b': ['x', 'y', 'y', 'x', 'y', 'x', 'x'],\n",
    "                    'c': np.random.randn(7)})\n",
    "df2\n",
    "# Only want 'two' or 'three'\n",
    "criterion = df2['a'].map(lambda x: x.startswith('t'))\n",
    "df2[criterion]\n",
    "\n",
    "# multiple criteria:\n",
    "df2[criterion & (df2['b'] == 'x')]"
   ]
  },
  {
   "cell_type": "markdown",
   "metadata": {},
   "source": [
    "To select rows where one or more column have specific values use the `isin()` method of Series. DataFrame also has this method."
   ]
  },
  {
   "cell_type": "code",
   "execution_count": 181,
   "metadata": {},
   "outputs": [
    {
     "data": {
      "text/plain": [
       "4    0\n",
       "2    2\n",
       "dtype: int64"
      ]
     },
     "execution_count": 181,
     "metadata": {},
     "output_type": "execute_result"
    }
   ],
   "source": [
    "s = pd.Series(np.arange(5), index=np.arange(5)[::-1], dtype='int64')\n",
    "s\n",
    "s.isin([2,4,6])\n",
    "s[s.isin([2,4,6])]\n",
    "\n",
    "# This can be done for `index` objects as well:\n",
    "s[s.index.isin([2, 4, 6])]"
   ]
  },
  {
   "cell_type": "code",
   "execution_count": 182,
   "metadata": {},
   "outputs": [
    {
     "data": {
      "text/html": [
       "<div>\n",
       "<style scoped>\n",
       "    .dataframe tbody tr th:only-of-type {\n",
       "        vertical-align: middle;\n",
       "    }\n",
       "\n",
       "    .dataframe tbody tr th {\n",
       "        vertical-align: top;\n",
       "    }\n",
       "\n",
       "    .dataframe thead th {\n",
       "        text-align: right;\n",
       "    }\n",
       "</style>\n",
       "<table border=\"1\" class=\"dataframe\">\n",
       "  <thead>\n",
       "    <tr style=\"text-align: right;\">\n",
       "      <th></th>\n",
       "      <th>vals</th>\n",
       "      <th>ids</th>\n",
       "      <th>ids2</th>\n",
       "    </tr>\n",
       "  </thead>\n",
       "  <tbody>\n",
       "    <tr>\n",
       "      <th>0</th>\n",
       "      <td>1.0</td>\n",
       "      <td>a</td>\n",
       "      <td>a</td>\n",
       "    </tr>\n",
       "    <tr>\n",
       "      <th>1</th>\n",
       "      <td>NaN</td>\n",
       "      <td>b</td>\n",
       "      <td>NaN</td>\n",
       "    </tr>\n",
       "    <tr>\n",
       "      <th>2</th>\n",
       "      <td>3.0</td>\n",
       "      <td>NaN</td>\n",
       "      <td>NaN</td>\n",
       "    </tr>\n",
       "    <tr>\n",
       "      <th>3</th>\n",
       "      <td>NaN</td>\n",
       "      <td>NaN</td>\n",
       "      <td>NaN</td>\n",
       "    </tr>\n",
       "  </tbody>\n",
       "</table>\n",
       "</div>"
      ],
      "text/plain": [
       "   vals  ids ids2\n",
       "0   1.0    a    a\n",
       "1   NaN    b  NaN\n",
       "2   3.0  NaN  NaN\n",
       "3   NaN  NaN  NaN"
      ]
     },
     "execution_count": 182,
     "metadata": {},
     "output_type": "execute_result"
    }
   ],
   "source": [
    "df = pd.DataFrame({'vals': [1, 2, 3, 4], 'ids': ['a', 'b', 'f', 'n'],\n",
    "                    'ids2': ['a', 'n', 'c', 'n']})\n",
    "\n",
    "values = ['a', 'b', 1, 3]\n",
    "\n",
    "df.isin(values)\n",
    "df[df.isin(values)]"
   ]
  },
  {
   "cell_type": "markdown",
   "metadata": {},
   "source": [
    "Combine DataFrame’s `isin` with the `any()` and `all()` methods to  select subsets of your data that meet a given criteria. To select a row where each column meets its own criterion:"
   ]
  },
  {
   "cell_type": "code",
   "execution_count": 183,
   "metadata": {},
   "outputs": [
    {
     "data": {
      "text/html": [
       "<div>\n",
       "<style scoped>\n",
       "    .dataframe tbody tr th:only-of-type {\n",
       "        vertical-align: middle;\n",
       "    }\n",
       "\n",
       "    .dataframe tbody tr th {\n",
       "        vertical-align: top;\n",
       "    }\n",
       "\n",
       "    .dataframe thead th {\n",
       "        text-align: right;\n",
       "    }\n",
       "</style>\n",
       "<table border=\"1\" class=\"dataframe\">\n",
       "  <thead>\n",
       "    <tr style=\"text-align: right;\">\n",
       "      <th></th>\n",
       "      <th>vals</th>\n",
       "      <th>ids</th>\n",
       "      <th>ids2</th>\n",
       "    </tr>\n",
       "  </thead>\n",
       "  <tbody>\n",
       "    <tr>\n",
       "      <th>0</th>\n",
       "      <td>1</td>\n",
       "      <td>a</td>\n",
       "      <td>a</td>\n",
       "    </tr>\n",
       "    <tr>\n",
       "      <th>1</th>\n",
       "      <td>2</td>\n",
       "      <td>b</td>\n",
       "      <td>n</td>\n",
       "    </tr>\n",
       "    <tr>\n",
       "      <th>2</th>\n",
       "      <td>3</td>\n",
       "      <td>f</td>\n",
       "      <td>c</td>\n",
       "    </tr>\n",
       "  </tbody>\n",
       "</table>\n",
       "</div>"
      ],
      "text/plain": [
       "   vals ids ids2\n",
       "0     1   a    a\n",
       "1     2   b    n\n",
       "2     3   f    c"
      ]
     },
     "execution_count": 183,
     "metadata": {},
     "output_type": "execute_result"
    }
   ],
   "source": [
    "values = {'ids': ['a', 'b'], 'ids2': ['a', 'c'], 'vals': [1, 3]}\n",
    "values['ids']\n",
    "row_mask = df.isin(values).any(1)\n",
    "df[row_mask]\n",
    "#df[df.isin(values).all(1)]"
   ]
  },
  {
   "cell_type": "markdown",
   "metadata": {},
   "source": [
    "The where method can be used in Series and DataFrame."
   ]
  },
  {
   "cell_type": "code",
   "execution_count": 184,
   "metadata": {},
   "outputs": [
    {
     "data": {
      "text/plain": [
       "4    NaN\n",
       "3    1.0\n",
       "2    2.0\n",
       "1    3.0\n",
       "0    4.0\n",
       "dtype: float64"
      ]
     },
     "execution_count": 184,
     "metadata": {},
     "output_type": "execute_result"
    }
   ],
   "source": [
    "s[s>0] # Get only the selected rows\n",
    "s.where(s>0) # Returns a Series of the same shape as the original Series"
   ]
  },
  {
   "cell_type": "code",
   "execution_count": 197,
   "metadata": {},
   "outputs": [
    {
     "data": {
      "text/html": [
       "<div>\n",
       "<style scoped>\n",
       "    .dataframe tbody tr th:only-of-type {\n",
       "        vertical-align: middle;\n",
       "    }\n",
       "\n",
       "    .dataframe tbody tr th {\n",
       "        vertical-align: top;\n",
       "    }\n",
       "\n",
       "    .dataframe thead th {\n",
       "        text-align: right;\n",
       "    }\n",
       "</style>\n",
       "<table border=\"1\" class=\"dataframe\">\n",
       "  <thead>\n",
       "    <tr style=\"text-align: right;\">\n",
       "      <th></th>\n",
       "      <th>A</th>\n",
       "      <th>B</th>\n",
       "      <th>C</th>\n",
       "      <th>D</th>\n",
       "      <th>E</th>\n",
       "    </tr>\n",
       "  </thead>\n",
       "  <tbody>\n",
       "    <tr>\n",
       "      <th>0</th>\n",
       "      <td>0.212482</td>\n",
       "      <td>0.471301</td>\n",
       "      <td>1.355932</td>\n",
       "      <td>0.851417</td>\n",
       "      <td>0.190886</td>\n",
       "    </tr>\n",
       "    <tr>\n",
       "      <th>1</th>\n",
       "      <td>0.467644</td>\n",
       "      <td>0.558244</td>\n",
       "      <td>0.691607</td>\n",
       "      <td>0.996552</td>\n",
       "      <td>0.762383</td>\n",
       "    </tr>\n",
       "    <tr>\n",
       "      <th>2</th>\n",
       "      <td>0.268040</td>\n",
       "      <td>0.280466</td>\n",
       "      <td>2.053472</td>\n",
       "      <td>0.708753</td>\n",
       "      <td>0.865685</td>\n",
       "    </tr>\n",
       "    <tr>\n",
       "      <th>3</th>\n",
       "      <td>2.510604</td>\n",
       "      <td>1.754125</td>\n",
       "      <td>1.292967</td>\n",
       "      <td>0.689366</td>\n",
       "      <td>1.115227</td>\n",
       "    </tr>\n",
       "    <tr>\n",
       "      <th>4</th>\n",
       "      <td>1.379084</td>\n",
       "      <td>0.834741</td>\n",
       "      <td>1.399158</td>\n",
       "      <td>0.284171</td>\n",
       "      <td>0.571376</td>\n",
       "    </tr>\n",
       "  </tbody>\n",
       "</table>\n",
       "</div>"
      ],
      "text/plain": [
       "          A         B         C         D         E\n",
       "0  0.212482  0.471301  1.355932  0.851417  0.190886\n",
       "1  0.467644  0.558244  0.691607  0.996552  0.762383\n",
       "2  0.268040  0.280466  2.053472  0.708753  0.865685\n",
       "3  2.510604  1.754125  1.292967  0.689366  1.115227\n",
       "4  1.379084  0.834741  1.399158  0.284171  0.571376"
      ]
     },
     "execution_count": 197,
     "metadata": {},
     "output_type": "execute_result"
    }
   ],
   "source": [
    "# Note that `where` is used from a DataFrame with boolean criterion under the hood, e.g.:\n",
    "df = pd.DataFrame(np.random.randn(5,5), index=[0,1,2,3,4], columns=['A', 'B', 'C', 'D', 'E'])\n",
    "df[df < 0]\n",
    "\n",
    "# `where` can take a callable argument\n",
    "# where takes an optional other argument to replace values where the condition is false:\n",
    "df.where(df < 0, -df)\n",
    "\n",
    "# Values can also be set based on some boolean criteria, for Series and DataFrae, but here is a Series example:\n",
    "s2 = s.copy()\n",
    "s2[s2 < 0] = 0\n",
    "s2\n",
    "\n",
    "# Use `inplace` if you need the original data modified and not just copied\n",
    "df_orig = df.copy()\n",
    "df_orig.where(df > 0, -df, inplace=True)\n",
    "df_orig\n",
    "\n"
   ]
  },
  {
   "cell_type": "markdown",
   "metadata": {},
   "source": [
    "Note that `mask()` is the inverse boolean operation of `where`\n",
    "\n",
    "DataFrame objects have a `query()` method that allows selection using an expression"
   ]
  },
  {
   "cell_type": "markdown",
   "metadata": {},
   "source": [
    "### Set/Reset index"
   ]
  },
  {
   "cell_type": "markdown",
   "metadata": {},
   "source": [
    "If one needs to add an index after you’ve already created a DataFrame, there are a couple of different ways to do this:\n",
    "\n",
    "-    create a new, re-indexed DataFrame:\n",
    "    - Use the `set_index()` method \n",
    "-    transfer the index values into the DataFrame’s columns and set a simple integer index (this is the opposite of set_index() ):\n",
    "    - Use the `reset_index()` method "
   ]
  },
  {
   "cell_type": "code",
   "execution_count": null,
   "metadata": {},
   "outputs": [],
   "source": []
  }
 ],
 "metadata": {
  "canopy_exercise": {
   "__metadata_version__": 1
  },
  "description": "",
  "difficulty": "very simple",
  "duration": "very short",
  "exercise_number": 1,
  "flavor": "general",
  "kernelspec": {
   "display_name": "Python 3",
   "language": "python",
   "name": "python3"
  },
  "language_info": {
   "codemirror_mode": {
    "name": "ipython",
    "version": 3
   },
   "file_extension": ".py",
   "mimetype": "text/x-python",
   "name": "python",
   "nbconvert_exporter": "python",
   "pygments_lexer": "ipython3",
   "version": "3.6.8"
  },
  "level": "fluency",
  "module": "PyFund_string",
  "pre_requisites": [
   "PyFund_string",
   "header"
  ],
  "programming_goals": [
   "variable creation",
   "print"
  ],
  "python_goals": [
   "string creation",
   "string concatenation"
  ]
 },
 "nbformat": 4,
 "nbformat_minor": 1
}
