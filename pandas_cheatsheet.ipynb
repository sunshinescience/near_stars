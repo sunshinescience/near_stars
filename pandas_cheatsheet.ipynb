{
 "cells": [
  {
   "cell_type": "markdown",
   "metadata": {},
   "source": [
    "# Examples for pandas cheatsheet "
   ]
  },
  {
   "cell_type": "code",
   "execution_count": 213,
   "metadata": {},
   "outputs": [],
   "source": [
    "import numpy as np\n",
    "import pandas as pd\n",
    "\n",
    "import matplotlib.pyplot as plt\n",
    "\n",
    "import six "
   ]
  },
  {
   "cell_type": "markdown",
   "metadata": {
    "canopy_exercise": {
     "cell_type": "student_solution"
    }
   },
   "source": [
    "Create a pandas Series:"
   ]
  },
  {
   "cell_type": "code",
   "execution_count": 437,
   "metadata": {},
   "outputs": [
    {
     "data": {
      "text/plain": [
       "a    1\n",
       "b    2\n",
       "c   -1\n",
       "d    4\n",
       "dtype: int64"
      ]
     },
     "execution_count": 437,
     "metadata": {},
     "output_type": "execute_result"
    }
   ],
   "source": [
    "s = pd.Series([1,2,-1,4], \n",
    "     index=['a','b','c','d'])\n",
    "# s.value_counts() #count unique values\n",
    "s"
   ]
  },
  {
   "cell_type": "markdown",
   "metadata": {},
   "source": [
    "Create pandas DataFrame"
   ]
  },
  {
   "cell_type": "code",
   "execution_count": 471,
   "metadata": {},
   "outputs": [
    {
     "data": {
      "text/html": [
       "<div>\n",
       "<style scoped>\n",
       "    .dataframe tbody tr th:only-of-type {\n",
       "        vertical-align: middle;\n",
       "    }\n",
       "\n",
       "    .dataframe tbody tr th {\n",
       "        vertical-align: top;\n",
       "    }\n",
       "\n",
       "    .dataframe thead th {\n",
       "        text-align: right;\n",
       "    }\n",
       "</style>\n",
       "<table border=\"1\" class=\"dataframe\">\n",
       "  <thead>\n",
       "    <tr style=\"text-align: right;\">\n",
       "      <th></th>\n",
       "      <th>A</th>\n",
       "      <th>B</th>\n",
       "      <th>C</th>\n",
       "    </tr>\n",
       "  </thead>\n",
       "  <tbody>\n",
       "    <tr>\n",
       "      <th>a</th>\n",
       "      <td>1</td>\n",
       "      <td>2</td>\n",
       "      <td>3</td>\n",
       "    </tr>\n",
       "    <tr>\n",
       "      <th>b</th>\n",
       "      <td>4</td>\n",
       "      <td>4</td>\n",
       "      <td>7</td>\n",
       "    </tr>\n",
       "    <tr>\n",
       "      <th>c</th>\n",
       "      <td>5</td>\n",
       "      <td>8</td>\n",
       "      <td>9</td>\n",
       "    </tr>\n",
       "  </tbody>\n",
       "</table>\n",
       "</div>"
      ],
      "text/plain": [
       "   A  B  C\n",
       "a  1  2  3\n",
       "b  4  4  7\n",
       "c  5  8  9"
      ]
     },
     "execution_count": 471,
     "metadata": {},
     "output_type": "execute_result"
    }
   ],
   "source": [
    "index = ['a', 'b', 'c']\n",
    "df = pd.DataFrame([[1,2,3], [4,4,7], [5,8,9]], index=index, columns=['A', 'B', 'C'])\n",
    "df"
   ]
  },
  {
   "cell_type": "code",
   "execution_count": 494,
   "metadata": {},
   "outputs": [
    {
     "data": {
      "text/plain": [
       "a    3\n",
       "b    3\n",
       "c    3\n",
       "dtype: int64"
      ]
     },
     "execution_count": 494,
     "metadata": {},
     "output_type": "execute_result"
    }
   ],
   "source": [
    "df.count(axis=1)"
   ]
  },
  {
   "cell_type": "markdown",
   "metadata": {},
   "source": [
    "pandas has three ways to index:"
   ]
  },
  {
   "cell_type": "code",
   "execution_count": 406,
   "metadata": {},
   "outputs": [
    {
     "data": {
      "text/plain": [
       "a    1\n",
       "b    4\n",
       "c    5\n",
       "Name: A, dtype: int64"
      ]
     },
     "execution_count": 406,
     "metadata": {},
     "output_type": "execute_result"
    }
   ],
   "source": [
    "# [ ] (use square brackets)\n",
    "\n",
    "#Select a column:\n",
    "df['A']\n",
    "\n",
    "#Select by label (i.e., rows):\n",
    "#df[0:2]"
   ]
  },
  {
   "cell_type": "code",
   "execution_count": 100,
   "metadata": {},
   "outputs": [
    {
     "data": {
      "text/plain": [
       "1"
      ]
     },
     "execution_count": 100,
     "metadata": {},
     "output_type": "execute_result"
    }
   ],
   "source": [
    "#Use .loc to label index\n",
    "\n",
    "# Get row by label:\n",
    "df.loc['b'[0]]\n",
    "\n",
    "# Get multi-axis by label:\n",
    "df.loc[:, ['A', 'B']]\n",
    "\n",
    "# Slicing with the label:\n",
    "df.loc['b':'c', ['A', 'B']]\n",
    "\n",
    "# Get a scalar value:\n",
    "df.loc['a'[0], 'A']"
   ]
  },
  {
   "cell_type": "code",
   "execution_count": 101,
   "metadata": {},
   "outputs": [
    {
     "data": {
      "text/plain": [
       "7"
      ]
     },
     "execution_count": 101,
     "metadata": {},
     "output_type": "execute_result"
    }
   ],
   "source": [
    "#Use .iloc to positionally index\n",
    "\n",
    "# Select via a passed integer:\n",
    "df.iloc[2]\n",
    "\n",
    "# Slice integers:\n",
    "df.iloc[2:3, 0:3]\n",
    "\n",
    "# Use lists of integer position locations:\n",
    "df.iloc[[1, 2], [0, 2]]\n",
    "\n",
    "# Slice rows:\n",
    "df.iloc[1:3, :]\n",
    "\n",
    "# Slice columns:\n",
    "df.iloc[:, 0:2]\n",
    "\n",
    "# Get specific value:\n",
    "df.iloc[1,2]"
   ]
  },
  {
   "cell_type": "markdown",
   "metadata": {},
   "source": [
    "### View data"
   ]
  },
  {
   "cell_type": "code",
   "execution_count": 102,
   "metadata": {},
   "outputs": [
    {
     "data": {
      "text/html": [
       "<div>\n",
       "<style scoped>\n",
       "    .dataframe tbody tr th:only-of-type {\n",
       "        vertical-align: middle;\n",
       "    }\n",
       "\n",
       "    .dataframe tbody tr th {\n",
       "        vertical-align: top;\n",
       "    }\n",
       "\n",
       "    .dataframe thead th {\n",
       "        text-align: right;\n",
       "    }\n",
       "</style>\n",
       "<table border=\"1\" class=\"dataframe\">\n",
       "  <thead>\n",
       "    <tr style=\"text-align: right;\">\n",
       "      <th></th>\n",
       "      <th>A</th>\n",
       "      <th>B</th>\n",
       "      <th>C</th>\n",
       "    </tr>\n",
       "  </thead>\n",
       "  <tbody>\n",
       "    <tr>\n",
       "      <th>b</th>\n",
       "      <td>4</td>\n",
       "      <td>4</td>\n",
       "      <td>7</td>\n",
       "    </tr>\n",
       "    <tr>\n",
       "      <th>c</th>\n",
       "      <td>5</td>\n",
       "      <td>8</td>\n",
       "      <td>9</td>\n",
       "    </tr>\n",
       "  </tbody>\n",
       "</table>\n",
       "</div>"
      ],
      "text/plain": [
       "   A  B  C\n",
       "b  4  4  7\n",
       "c  5  8  9"
      ]
     },
     "execution_count": 102,
     "metadata": {},
     "output_type": "execute_result"
    }
   ],
   "source": [
    "df.head() # View top rows of DataFrame\n",
    "df.tail(2) # View bottom two rows of DataFrame"
   ]
  },
  {
   "cell_type": "code",
   "execution_count": 103,
   "metadata": {},
   "outputs": [
    {
     "data": {
      "text/plain": [
       "Index(['A', 'B', 'C'], dtype='object')"
      ]
     },
     "execution_count": 103,
     "metadata": {},
     "output_type": "execute_result"
    }
   ],
   "source": [
    "#Display the index, columns:\n",
    "df.index  \n",
    "df.columns"
   ]
  },
  {
   "cell_type": "markdown",
   "metadata": {},
   "source": [
    "Note that a fundamental difference between pandas and NumPy is that NumPy arrays have one dtype for the entire array, whereas pandas DataFrames have one dtype per column. \n",
    "\n",
    "When you call `DataFrame.to_numpy()`, pandas will find the NumPy dtype that can hold all of the dtypes in the DataFrame. This might wind up being object, which therefore casts every value to a Python object."
   ]
  },
  {
   "cell_type": "code",
   "execution_count": 104,
   "metadata": {},
   "outputs": [
    {
     "data": {
      "text/plain": [
       "array([[1, 2, 3],\n",
       "       [4, 4, 7],\n",
       "       [5, 8, 9]])"
      ]
     },
     "execution_count": 104,
     "metadata": {},
     "output_type": "execute_result"
    }
   ],
   "source": [
    "df.to_numpy()"
   ]
  },
  {
   "cell_type": "markdown",
   "metadata": {},
   "source": [
    "`DataFrame.to_numpy()` does not include the index or column labels in the output."
   ]
  },
  {
   "cell_type": "code",
   "execution_count": 105,
   "metadata": {},
   "outputs": [
    {
     "data": {
      "text/html": [
       "<div>\n",
       "<style scoped>\n",
       "    .dataframe tbody tr th:only-of-type {\n",
       "        vertical-align: middle;\n",
       "    }\n",
       "\n",
       "    .dataframe tbody tr th {\n",
       "        vertical-align: top;\n",
       "    }\n",
       "\n",
       "    .dataframe thead th {\n",
       "        text-align: right;\n",
       "    }\n",
       "</style>\n",
       "<table border=\"1\" class=\"dataframe\">\n",
       "  <thead>\n",
       "    <tr style=\"text-align: right;\">\n",
       "      <th></th>\n",
       "      <th>A</th>\n",
       "      <th>B</th>\n",
       "      <th>C</th>\n",
       "    </tr>\n",
       "  </thead>\n",
       "  <tbody>\n",
       "    <tr>\n",
       "      <th>count</th>\n",
       "      <td>3.000000</td>\n",
       "      <td>3.000000</td>\n",
       "      <td>3.000000</td>\n",
       "    </tr>\n",
       "    <tr>\n",
       "      <th>mean</th>\n",
       "      <td>3.333333</td>\n",
       "      <td>4.666667</td>\n",
       "      <td>6.333333</td>\n",
       "    </tr>\n",
       "    <tr>\n",
       "      <th>std</th>\n",
       "      <td>2.081666</td>\n",
       "      <td>3.055050</td>\n",
       "      <td>3.055050</td>\n",
       "    </tr>\n",
       "    <tr>\n",
       "      <th>min</th>\n",
       "      <td>1.000000</td>\n",
       "      <td>2.000000</td>\n",
       "      <td>3.000000</td>\n",
       "    </tr>\n",
       "    <tr>\n",
       "      <th>25%</th>\n",
       "      <td>2.500000</td>\n",
       "      <td>3.000000</td>\n",
       "      <td>5.000000</td>\n",
       "    </tr>\n",
       "    <tr>\n",
       "      <th>50%</th>\n",
       "      <td>4.000000</td>\n",
       "      <td>4.000000</td>\n",
       "      <td>7.000000</td>\n",
       "    </tr>\n",
       "    <tr>\n",
       "      <th>75%</th>\n",
       "      <td>4.500000</td>\n",
       "      <td>6.000000</td>\n",
       "      <td>8.000000</td>\n",
       "    </tr>\n",
       "    <tr>\n",
       "      <th>max</th>\n",
       "      <td>5.000000</td>\n",
       "      <td>8.000000</td>\n",
       "      <td>9.000000</td>\n",
       "    </tr>\n",
       "  </tbody>\n",
       "</table>\n",
       "</div>"
      ],
      "text/plain": [
       "              A         B         C\n",
       "count  3.000000  3.000000  3.000000\n",
       "mean   3.333333  4.666667  6.333333\n",
       "std    2.081666  3.055050  3.055050\n",
       "min    1.000000  2.000000  3.000000\n",
       "25%    2.500000  3.000000  5.000000\n",
       "50%    4.000000  4.000000  7.000000\n",
       "75%    4.500000  6.000000  8.000000\n",
       "max    5.000000  8.000000  9.000000"
      ]
     },
     "execution_count": 105,
     "metadata": {},
     "output_type": "execute_result"
    }
   ],
   "source": [
    "# describe() shows a quick statistic summary of your data:\n",
    "df.describe()"
   ]
  },
  {
   "cell_type": "code",
   "execution_count": 106,
   "metadata": {},
   "outputs": [
    {
     "data": {
      "text/html": [
       "<div>\n",
       "<style scoped>\n",
       "    .dataframe tbody tr th:only-of-type {\n",
       "        vertical-align: middle;\n",
       "    }\n",
       "\n",
       "    .dataframe tbody tr th {\n",
       "        vertical-align: top;\n",
       "    }\n",
       "\n",
       "    .dataframe thead th {\n",
       "        text-align: right;\n",
       "    }\n",
       "</style>\n",
       "<table border=\"1\" class=\"dataframe\">\n",
       "  <thead>\n",
       "    <tr style=\"text-align: right;\">\n",
       "      <th></th>\n",
       "      <th>a</th>\n",
       "      <th>b</th>\n",
       "      <th>c</th>\n",
       "    </tr>\n",
       "  </thead>\n",
       "  <tbody>\n",
       "    <tr>\n",
       "      <th>A</th>\n",
       "      <td>1</td>\n",
       "      <td>4</td>\n",
       "      <td>5</td>\n",
       "    </tr>\n",
       "    <tr>\n",
       "      <th>B</th>\n",
       "      <td>2</td>\n",
       "      <td>4</td>\n",
       "      <td>8</td>\n",
       "    </tr>\n",
       "    <tr>\n",
       "      <th>C</th>\n",
       "      <td>3</td>\n",
       "      <td>7</td>\n",
       "      <td>9</td>\n",
       "    </tr>\n",
       "  </tbody>\n",
       "</table>\n",
       "</div>"
      ],
      "text/plain": [
       "   a  b  c\n",
       "A  1  4  5\n",
       "B  2  4  8\n",
       "C  3  7  9"
      ]
     },
     "execution_count": 106,
     "metadata": {},
     "output_type": "execute_result"
    }
   ],
   "source": [
    "# Transpose data:\n",
    "df.T"
   ]
  },
  {
   "cell_type": "code",
   "execution_count": 107,
   "metadata": {},
   "outputs": [
    {
     "data": {
      "text/html": [
       "<div>\n",
       "<style scoped>\n",
       "    .dataframe tbody tr th:only-of-type {\n",
       "        vertical-align: middle;\n",
       "    }\n",
       "\n",
       "    .dataframe tbody tr th {\n",
       "        vertical-align: top;\n",
       "    }\n",
       "\n",
       "    .dataframe thead th {\n",
       "        text-align: right;\n",
       "    }\n",
       "</style>\n",
       "<table border=\"1\" class=\"dataframe\">\n",
       "  <thead>\n",
       "    <tr style=\"text-align: right;\">\n",
       "      <th></th>\n",
       "      <th>C</th>\n",
       "      <th>B</th>\n",
       "      <th>A</th>\n",
       "    </tr>\n",
       "  </thead>\n",
       "  <tbody>\n",
       "    <tr>\n",
       "      <th>a</th>\n",
       "      <td>3</td>\n",
       "      <td>2</td>\n",
       "      <td>1</td>\n",
       "    </tr>\n",
       "    <tr>\n",
       "      <th>b</th>\n",
       "      <td>7</td>\n",
       "      <td>4</td>\n",
       "      <td>4</td>\n",
       "    </tr>\n",
       "    <tr>\n",
       "      <th>c</th>\n",
       "      <td>9</td>\n",
       "      <td>8</td>\n",
       "      <td>5</td>\n",
       "    </tr>\n",
       "  </tbody>\n",
       "</table>\n",
       "</div>"
      ],
      "text/plain": [
       "   C  B  A\n",
       "a  3  2  1\n",
       "b  7  4  4\n",
       "c  9  8  5"
      ]
     },
     "execution_count": 107,
     "metadata": {},
     "output_type": "execute_result"
    }
   ],
   "source": [
    "# Sorting by an axis\n",
    "# set axis=0 to sort rows by index, and set axis=1 to sort columns \n",
    "df.sort_index(axis=1, ascending=False)"
   ]
  },
  {
   "cell_type": "code",
   "execution_count": 108,
   "metadata": {},
   "outputs": [
    {
     "data": {
      "text/html": [
       "<div>\n",
       "<style scoped>\n",
       "    .dataframe tbody tr th:only-of-type {\n",
       "        vertical-align: middle;\n",
       "    }\n",
       "\n",
       "    .dataframe tbody tr th {\n",
       "        vertical-align: top;\n",
       "    }\n",
       "\n",
       "    .dataframe thead th {\n",
       "        text-align: right;\n",
       "    }\n",
       "</style>\n",
       "<table border=\"1\" class=\"dataframe\">\n",
       "  <thead>\n",
       "    <tr style=\"text-align: right;\">\n",
       "      <th></th>\n",
       "      <th>A</th>\n",
       "      <th>B</th>\n",
       "      <th>C</th>\n",
       "    </tr>\n",
       "  </thead>\n",
       "  <tbody>\n",
       "    <tr>\n",
       "      <th>a</th>\n",
       "      <td>1</td>\n",
       "      <td>2</td>\n",
       "      <td>3</td>\n",
       "    </tr>\n",
       "    <tr>\n",
       "      <th>b</th>\n",
       "      <td>4</td>\n",
       "      <td>4</td>\n",
       "      <td>7</td>\n",
       "    </tr>\n",
       "    <tr>\n",
       "      <th>c</th>\n",
       "      <td>5</td>\n",
       "      <td>8</td>\n",
       "      <td>9</td>\n",
       "    </tr>\n",
       "  </tbody>\n",
       "</table>\n",
       "</div>"
      ],
      "text/plain": [
       "   A  B  C\n",
       "a  1  2  3\n",
       "b  4  4  7\n",
       "c  5  8  9"
      ]
     },
     "execution_count": 108,
     "metadata": {},
     "output_type": "execute_result"
    }
   ],
   "source": [
    "# Sorting by values:\n",
    "df.sort_values(by='A')"
   ]
  },
  {
   "cell_type": "code",
   "execution_count": 109,
   "metadata": {},
   "outputs": [
    {
     "data": {
      "text/plain": [
       "c   -1\n",
       "a    1\n",
       "b    2\n",
       "d    4\n",
       "dtype: int64"
      ]
     },
     "execution_count": 109,
     "metadata": {},
     "output_type": "execute_result"
    }
   ],
   "source": [
    "s.sort_values()"
   ]
  },
  {
   "cell_type": "code",
   "execution_count": 110,
   "metadata": {},
   "outputs": [
    {
     "data": {
      "text/plain": [
       "count    4.000000\n",
       "mean     1.500000\n",
       "std      2.081666\n",
       "min     -1.000000\n",
       "25%      0.500000\n",
       "50%      1.500000\n",
       "75%      2.500000\n",
       "max      4.000000\n",
       "dtype: float64"
      ]
     },
     "execution_count": 110,
     "metadata": {},
     "output_type": "execute_result"
    }
   ],
   "source": [
    "s.describe()"
   ]
  },
  {
   "cell_type": "code",
   "execution_count": 111,
   "metadata": {},
   "outputs": [
    {
     "data": {
      "text/plain": [
       "array([ 1,  2, -1,  4])"
      ]
     },
     "execution_count": 111,
     "metadata": {},
     "output_type": "execute_result"
    }
   ],
   "source": [
    "s.to_numpy()"
   ]
  },
  {
   "cell_type": "code",
   "execution_count": 112,
   "metadata": {},
   "outputs": [
    {
     "data": {
      "text/plain": [
       "c   -1\n",
       "d    4\n",
       "dtype: int64"
      ]
     },
     "execution_count": 112,
     "metadata": {},
     "output_type": "execute_result"
    }
   ],
   "source": [
    "s.tail(2)"
   ]
  },
  {
   "cell_type": "code",
   "execution_count": 113,
   "metadata": {},
   "outputs": [
    {
     "data": {
      "text/html": [
       "<div>\n",
       "<style scoped>\n",
       "    .dataframe tbody tr th:only-of-type {\n",
       "        vertical-align: middle;\n",
       "    }\n",
       "\n",
       "    .dataframe tbody tr th {\n",
       "        vertical-align: top;\n",
       "    }\n",
       "\n",
       "    .dataframe thead th {\n",
       "        text-align: right;\n",
       "    }\n",
       "</style>\n",
       "<table border=\"1\" class=\"dataframe\">\n",
       "  <thead>\n",
       "    <tr style=\"text-align: right;\">\n",
       "      <th></th>\n",
       "      <th>A</th>\n",
       "      <th>B</th>\n",
       "    </tr>\n",
       "  </thead>\n",
       "  <tbody>\n",
       "    <tr>\n",
       "      <th>a</th>\n",
       "      <td>True</td>\n",
       "      <td>False</td>\n",
       "    </tr>\n",
       "    <tr>\n",
       "      <th>b</th>\n",
       "      <td>False</td>\n",
       "      <td>False</td>\n",
       "    </tr>\n",
       "  </tbody>\n",
       "</table>\n",
       "</div>"
      ],
      "text/plain": [
       "       A      B\n",
       "a   True  False\n",
       "b  False  False"
      ]
     },
     "execution_count": 113,
     "metadata": {},
     "output_type": "execute_result"
    }
   ],
   "source": [
    "# Use the isin() method to filter:\n",
    "df.loc['a':'b', ['A', 'B']].isin(['1'])"
   ]
  },
  {
   "cell_type": "markdown",
   "metadata": {},
   "source": [
    "### Setting"
   ]
  },
  {
   "cell_type": "code",
   "execution_count": 367,
   "metadata": {},
   "outputs": [
    {
     "data": {
      "text/html": [
       "<div>\n",
       "<style scoped>\n",
       "    .dataframe tbody tr th:only-of-type {\n",
       "        vertical-align: middle;\n",
       "    }\n",
       "\n",
       "    .dataframe tbody tr th {\n",
       "        vertical-align: top;\n",
       "    }\n",
       "\n",
       "    .dataframe thead th {\n",
       "        text-align: right;\n",
       "    }\n",
       "</style>\n",
       "<table border=\"1\" class=\"dataframe\">\n",
       "  <thead>\n",
       "    <tr style=\"text-align: right;\">\n",
       "      <th></th>\n",
       "      <th>A</th>\n",
       "      <th>B</th>\n",
       "      <th>C</th>\n",
       "      <th>D</th>\n",
       "    </tr>\n",
       "  </thead>\n",
       "  <tbody>\n",
       "    <tr>\n",
       "      <th>a</th>\n",
       "      <td>1</td>\n",
       "      <td>2</td>\n",
       "      <td>3</td>\n",
       "      <td>3</td>\n",
       "    </tr>\n",
       "    <tr>\n",
       "      <th>b</th>\n",
       "      <td>4</td>\n",
       "      <td>4</td>\n",
       "      <td>7</td>\n",
       "      <td>4</td>\n",
       "    </tr>\n",
       "    <tr>\n",
       "      <th>c</th>\n",
       "      <td>5</td>\n",
       "      <td>8</td>\n",
       "      <td>9</td>\n",
       "      <td>9</td>\n",
       "    </tr>\n",
       "  </tbody>\n",
       "</table>\n",
       "</div>"
      ],
      "text/plain": [
       "   A  B  C  D\n",
       "a  1  2  3  3\n",
       "b  4  4  7  4\n",
       "c  5  8  9  9"
      ]
     },
     "execution_count": 367,
     "metadata": {},
     "output_type": "execute_result"
    }
   ],
   "source": [
    "# Setting a new column aligns the data automatically by the indexes\n",
    "df['D'] = [3,4,9]\n",
    "df"
   ]
  },
  {
   "cell_type": "code",
   "execution_count": null,
   "metadata": {},
   "outputs": [],
   "source": []
  },
  {
   "cell_type": "markdown",
   "metadata": {},
   "source": [
    "### Missing Data\n",
    "For more information, see [this](https://pandas.pydata.org/pandas-docs/stable/user_guide/missing_data.html#missing-data) section.\n",
    "\n",
    "Note that pandas generally uses the value `np.nan` to represent missing data."
   ]
  },
  {
   "cell_type": "code",
   "execution_count": 385,
   "metadata": {},
   "outputs": [
    {
     "data": {
      "text/html": [
       "<div>\n",
       "<style scoped>\n",
       "    .dataframe tbody tr th:only-of-type {\n",
       "        vertical-align: middle;\n",
       "    }\n",
       "\n",
       "    .dataframe tbody tr th {\n",
       "        vertical-align: top;\n",
       "    }\n",
       "\n",
       "    .dataframe thead th {\n",
       "        text-align: right;\n",
       "    }\n",
       "</style>\n",
       "<table border=\"1\" class=\"dataframe\">\n",
       "  <thead>\n",
       "    <tr style=\"text-align: right;\">\n",
       "      <th></th>\n",
       "      <th>A</th>\n",
       "      <th>B</th>\n",
       "      <th>C</th>\n",
       "      <th>D</th>\n",
       "    </tr>\n",
       "  </thead>\n",
       "  <tbody>\n",
       "    <tr>\n",
       "      <th>a</th>\n",
       "      <td>2</td>\n",
       "      <td>2</td>\n",
       "      <td>3</td>\n",
       "      <td>2</td>\n",
       "    </tr>\n",
       "    <tr>\n",
       "      <th>b</th>\n",
       "      <td>4</td>\n",
       "      <td>4</td>\n",
       "      <td>7</td>\n",
       "      <td>2</td>\n",
       "    </tr>\n",
       "    <tr>\n",
       "      <th>c</th>\n",
       "      <td>5</td>\n",
       "      <td>8</td>\n",
       "      <td>9</td>\n",
       "      <td>2</td>\n",
       "    </tr>\n",
       "  </tbody>\n",
       "</table>\n",
       "</div>"
      ],
      "text/plain": [
       "   A  B  C  D\n",
       "a  2  2  3  2\n",
       "b  4  4  7  2\n",
       "c  5  8  9  2"
      ]
     },
     "execution_count": 385,
     "metadata": {},
     "output_type": "execute_result"
    }
   ],
   "source": [
    "# Reindexing can change/add/delete the index on a specified axis and it returns a copy of the data.\n",
    "df1 = df.reindex(index=['a', 'b','c'], columns=['A', 'B', 'C', 'D'])\n",
    "df1.loc['a':'b', 'D'] = 1 # Setting the value 1 to the first two labels in column D\n",
    "df1\n",
    "\n",
    "#df1 = df1.fillna(0)\n",
    "\n",
    "\n",
    "#df1 = df1[df1.isna().any(axis=1)] # Get the rows with NaN\n",
    "# df1 = df1.isna().any(axis=1) # Get the rows with NaN\n",
    "#df1 = df1.isna().any(axis=0) # Get the columns with NaN\n",
    "\n",
    "# Drop rows with missing data\n",
    "#df1 = df1.dropna(how='any')\n",
    "\n",
    "\n",
    "# Skip the NaN values while finding the mean, although the operations usually skip this anyway, but you can use `skipna` \n",
    "#df1.mean(axis = 0, skipna = True).astype(int) \n",
    "# Use an attribute, to get only the column 'D' mean value in this case:\n",
    "fill_value = df1.mean(axis = 0, skipna = True).D\n",
    "# Filling missing data with the mean from that column \n",
    "df1 = df1.fillna(value=fill_value).astype(int) \n",
    "\n",
    "# Get the boolean mask where values are nan\n",
    "#pd.isna(df1)\n",
    "\n",
    "df1 = df1.replace(1, 2)\n",
    "df1\n"
   ]
  },
  {
   "cell_type": "markdown",
   "metadata": {},
   "source": [
    "### Statistics\n",
    "Note that operations generally exlude missing data"
   ]
  },
  {
   "cell_type": "code",
   "execution_count": 116,
   "metadata": {},
   "outputs": [
    {
     "data": {
      "text/plain": [
       "a    1.75\n",
       "b    4.00\n",
       "c    7.75\n",
       "d     NaN\n",
       "dtype: float64"
      ]
     },
     "execution_count": 116,
     "metadata": {},
     "output_type": "execute_result"
    }
   ],
   "source": [
    "#Get quick overall statistics\n",
    "df1.describe()\n",
    "\n",
    "# Get the mean of the columns\n",
    "df1.mean() # same as df1.mean(axis = 0)\n",
    "# Get the mean of the rows\n",
    "df1.mean(axis = 1)"
   ]
  },
  {
   "cell_type": "markdown",
   "metadata": {},
   "source": [
    "### Merge\n",
    "pandas provides various ways to combine Series and DataFrame objects "
   ]
  },
  {
   "cell_type": "markdown",
   "metadata": {},
   "source": [
    "#### Concat"
   ]
  },
  {
   "cell_type": "code",
   "execution_count": 117,
   "metadata": {},
   "outputs": [
    {
     "data": {
      "text/html": [
       "<div>\n",
       "<style scoped>\n",
       "    .dataframe tbody tr th:only-of-type {\n",
       "        vertical-align: middle;\n",
       "    }\n",
       "\n",
       "    .dataframe tbody tr th {\n",
       "        vertical-align: top;\n",
       "    }\n",
       "\n",
       "    .dataframe thead th {\n",
       "        text-align: right;\n",
       "    }\n",
       "</style>\n",
       "<table border=\"1\" class=\"dataframe\">\n",
       "  <thead>\n",
       "    <tr style=\"text-align: right;\">\n",
       "      <th></th>\n",
       "      <th>A</th>\n",
       "      <th>B</th>\n",
       "      <th>C</th>\n",
       "      <th>D</th>\n",
       "    </tr>\n",
       "  </thead>\n",
       "  <tbody>\n",
       "    <tr>\n",
       "      <th>a</th>\n",
       "      <td>1</td>\n",
       "      <td>2</td>\n",
       "      <td>3</td>\n",
       "      <td>3</td>\n",
       "    </tr>\n",
       "    <tr>\n",
       "      <th>b</th>\n",
       "      <td>4</td>\n",
       "      <td>4</td>\n",
       "      <td>7</td>\n",
       "      <td>4</td>\n",
       "    </tr>\n",
       "    <tr>\n",
       "      <th>c</th>\n",
       "      <td>5</td>\n",
       "      <td>8</td>\n",
       "      <td>9</td>\n",
       "      <td>9</td>\n",
       "    </tr>\n",
       "  </tbody>\n",
       "</table>\n",
       "</div>"
      ],
      "text/plain": [
       "   A  B  C  D\n",
       "a  1  2  3  3\n",
       "b  4  4  7  4\n",
       "c  5  8  9  9"
      ]
     },
     "execution_count": 117,
     "metadata": {},
     "output_type": "execute_result"
    }
   ],
   "source": [
    "pieces = [df[0:2], df[2:3]] # Break up the DataFrame into pieces\n",
    "pd.concat(pieces) # Concatinate pandas objects together"
   ]
  },
  {
   "cell_type": "markdown",
   "metadata": {},
   "source": [
    "#### Join"
   ]
  },
  {
   "cell_type": "code",
   "execution_count": 182,
   "metadata": {},
   "outputs": [
    {
     "data": {
      "text/html": [
       "<div>\n",
       "<style scoped>\n",
       "    .dataframe tbody tr th:only-of-type {\n",
       "        vertical-align: middle;\n",
       "    }\n",
       "\n",
       "    .dataframe tbody tr th {\n",
       "        vertical-align: top;\n",
       "    }\n",
       "\n",
       "    .dataframe thead th {\n",
       "        text-align: right;\n",
       "    }\n",
       "</style>\n",
       "<table border=\"1\" class=\"dataframe\">\n",
       "  <thead>\n",
       "    <tr style=\"text-align: right;\">\n",
       "      <th></th>\n",
       "      <th>A</th>\n",
       "      <th>B</th>\n",
       "      <th>C</th>\n",
       "      <th>D</th>\n",
       "    </tr>\n",
       "  </thead>\n",
       "  <tbody>\n",
       "    <tr>\n",
       "      <th>a</th>\n",
       "      <td>1</td>\n",
       "      <td>2</td>\n",
       "      <td>3</td>\n",
       "      <td>one</td>\n",
       "    </tr>\n",
       "    <tr>\n",
       "      <th>b</th>\n",
       "      <td>4</td>\n",
       "      <td>4</td>\n",
       "      <td>7</td>\n",
       "      <td>two</td>\n",
       "    </tr>\n",
       "    <tr>\n",
       "      <th>c</th>\n",
       "      <td>5</td>\n",
       "      <td>8</td>\n",
       "      <td>9</td>\n",
       "      <td>one</td>\n",
       "    </tr>\n",
       "  </tbody>\n",
       "</table>\n",
       "</div>"
      ],
      "text/plain": [
       "   A  B  C    D\n",
       "a  1  2  3  one\n",
       "b  4  4  7  two\n",
       "c  5  8  9  one"
      ]
     },
     "execution_count": 182,
     "metadata": {},
     "output_type": "execute_result"
    }
   ],
   "source": [
    "left = df.iloc[:, 0:2]\n",
    "right = df.iloc[:, 2:4]\n",
    "\n",
    "pd.merge(left, right, left_index=True, right_index=True)"
   ]
  },
  {
   "cell_type": "markdown",
   "metadata": {},
   "source": [
    "#### Append"
   ]
  },
  {
   "cell_type": "code",
   "execution_count": 186,
   "metadata": {},
   "outputs": [
    {
     "data": {
      "text/html": [
       "<div>\n",
       "<style scoped>\n",
       "    .dataframe tbody tr th:only-of-type {\n",
       "        vertical-align: middle;\n",
       "    }\n",
       "\n",
       "    .dataframe tbody tr th {\n",
       "        vertical-align: top;\n",
       "    }\n",
       "\n",
       "    .dataframe thead th {\n",
       "        text-align: right;\n",
       "    }\n",
       "</style>\n",
       "<table border=\"1\" class=\"dataframe\">\n",
       "  <thead>\n",
       "    <tr style=\"text-align: right;\">\n",
       "      <th></th>\n",
       "      <th>A</th>\n",
       "      <th>B</th>\n",
       "      <th>C</th>\n",
       "    </tr>\n",
       "  </thead>\n",
       "  <tbody>\n",
       "    <tr>\n",
       "      <th>a</th>\n",
       "      <td>1</td>\n",
       "      <td>2</td>\n",
       "      <td>3</td>\n",
       "    </tr>\n",
       "    <tr>\n",
       "      <th>b</th>\n",
       "      <td>4</td>\n",
       "      <td>4</td>\n",
       "      <td>7</td>\n",
       "    </tr>\n",
       "    <tr>\n",
       "      <th>c</th>\n",
       "      <td>5</td>\n",
       "      <td>8</td>\n",
       "      <td>9</td>\n",
       "    </tr>\n",
       "    <tr>\n",
       "      <th>c</th>\n",
       "      <td>5</td>\n",
       "      <td>8</td>\n",
       "      <td>9</td>\n",
       "    </tr>\n",
       "  </tbody>\n",
       "</table>\n",
       "</div>"
      ],
      "text/plain": [
       "   A  B  C\n",
       "a  1  2  3\n",
       "b  4  4  7\n",
       "c  5  8  9\n",
       "c  5  8  9"
      ]
     },
     "execution_count": 186,
     "metadata": {},
     "output_type": "execute_result"
    }
   ],
   "source": [
    "# Append a row to a pandas DataFrame\n",
    "s = df.iloc[2].astype(int)\n",
    "s\n",
    "df.append(s)"
   ]
  },
  {
   "cell_type": "markdown",
   "metadata": {},
   "source": [
    "### Grouping\n",
    "Using `groupby` involves one or more of the following [steps](https://pandas.pydata.org/pandas-docs/stable/user_guide/groupby.html):\n",
    "-    Splitting the data into groups based on a criteria\n",
    "-    Applying a function to each separate group \n",
    "-    Combining the results into a data structure\n",
    "\n"
   ]
  },
  {
   "cell_type": "code",
   "execution_count": 495,
   "metadata": {},
   "outputs": [
    {
     "data": {
      "text/html": [
       "<div>\n",
       "<style scoped>\n",
       "    .dataframe tbody tr th:only-of-type {\n",
       "        vertical-align: middle;\n",
       "    }\n",
       "\n",
       "    .dataframe tbody tr th {\n",
       "        vertical-align: top;\n",
       "    }\n",
       "\n",
       "    .dataframe thead th {\n",
       "        text-align: right;\n",
       "    }\n",
       "</style>\n",
       "<table border=\"1\" class=\"dataframe\">\n",
       "  <thead>\n",
       "    <tr style=\"text-align: right;\">\n",
       "      <th></th>\n",
       "      <th>A</th>\n",
       "      <th>B</th>\n",
       "      <th>C</th>\n",
       "    </tr>\n",
       "    <tr>\n",
       "      <th>D</th>\n",
       "      <th></th>\n",
       "      <th></th>\n",
       "      <th></th>\n",
       "    </tr>\n",
       "  </thead>\n",
       "  <tbody>\n",
       "    <tr>\n",
       "      <th>one</th>\n",
       "      <td>6.0</td>\n",
       "      <td>10.0</td>\n",
       "      <td>12.0</td>\n",
       "    </tr>\n",
       "    <tr>\n",
       "      <th>two</th>\n",
       "      <td>4.0</td>\n",
       "      <td>4.0</td>\n",
       "      <td>7.0</td>\n",
       "    </tr>\n",
       "  </tbody>\n",
       "</table>\n",
       "</div>"
      ],
      "text/plain": [
       "       A     B     C\n",
       "D                   \n",
       "one  6.0  10.0  12.0\n",
       "two  4.0   4.0   7.0"
      ]
     },
     "execution_count": 495,
     "metadata": {},
     "output_type": "execute_result"
    }
   ],
   "source": [
    "df\n",
    "# Setting a new column aligns the data automatically by the indexes\n",
    "df['D'] = ['one','two','one']\n",
    "df\n",
    "df2 = df.groupby('D').sum().astype(float)\n",
    "df2\n"
   ]
  },
  {
   "cell_type": "code",
   "execution_count": 249,
   "metadata": {},
   "outputs": [
    {
     "data": {
      "text/plain": [
       "Index(['A', 'B', 'C', 'D'], dtype='object')"
      ]
     },
     "execution_count": 249,
     "metadata": {},
     "output_type": "execute_result"
    }
   ],
   "source": [
    "df.columns"
   ]
  },
  {
   "cell_type": "code",
   "execution_count": 247,
   "metadata": {},
   "outputs": [
    {
     "data": {
      "text/plain": [
       "array([[1, 2, 3, 'one'],\n",
       "       [4, 4, 7, 'two'],\n",
       "       [5, 8, 9, 'one']], dtype=object)"
      ]
     },
     "execution_count": 247,
     "metadata": {},
     "output_type": "execute_result"
    }
   ],
   "source": [
    "df.values"
   ]
  },
  {
   "cell_type": "markdown",
   "metadata": {},
   "source": [
    "Render a table to save the figure"
   ]
  },
  {
   "cell_type": "code",
   "execution_count": 408,
   "metadata": {},
   "outputs": [
    {
     "data": {
      "image/png": "[encoded data removed]",
      "text/plain": [
       "<Figure size 216x135 with 1 Axes>"
      ]
     },
     "metadata": {},
     "output_type": "display_data"
    }
   ],
   "source": [
    "def render_mpl_table(data, col_width=3.0, row_height=0.625, font_size=14,\n",
    "                     header_color='#1f77b4', row_colors=['#f1f1f2', 'w'], edge_color='w',\n",
    "                     bbox=[0, 0, 1, 1], header_columns=0,\n",
    "                     ax=None, index_header=True, **kwargs):\n",
    "    \"\"\"\n",
    "    Render a table from a DataFrame. \n",
    "    In order to include the index, use argument index_header=True\n",
    "    \"\"\"\n",
    "    \n",
    "    if ax is None: # This provides the size of the 'plot' and gets rid of axis ticks\n",
    "        size = (np.array(data.shape[::-1]) + np.array([0, 1])) * np.array([col_width, row_height])\n",
    "        fig, ax = plt.subplots(figsize=size)\n",
    "        ax.axis('off')\n",
    "    \n",
    "    if index_header is not None:\n",
    "        index_header = []\n",
    "        for i in data.index:\n",
    "            index_header.append('  ' + i + '  ')\n",
    "    \n",
    "    mpl_table = ax.table(cellText=data.values, bbox=bbox, colLabels=data.columns, rowLabels=index_header, **kwargs)\n",
    "    \n",
    "    mpl_table.auto_set_font_size(False)\n",
    "    mpl_table.set_fontsize(font_size)\n",
    "\n",
    "    for k, cell in six.iteritems(mpl_table._cells):\n",
    "        cell.set_edgecolor(edge_color)\n",
    "        if k[0] == 0 or k[1] < header_columns:\n",
    "            cell.set_text_props(weight='bold', color='w')\n",
    "            cell.set_facecolor(header_color)\n",
    "        else:\n",
    "            cell.set_facecolor(row_colors[k[0]%len(row_colors) ])\n",
    "    return ax\n",
    "\n",
    "ax = render_mpl_table(df[0:2], header_columns=0, col_width=1)\n",
    "fig = ax.get_figure()\n",
    "fig.savefig('pandas_indexing1.png', bbox_inches=\"tight\", dpi=250)"
   ]
  },
  {
   "cell_type": "code",
   "execution_count": 163,
   "metadata": {},
   "outputs": [
    {
     "data": {
      "text/plain": [
       "\"df = pd.DataFrame({'A': ['one', 'two', 'three', 'two',\\n                          'three', 'two', 'one', 'two'],\\n                  'B': np.random.randint(0,8, size=8),\\n                   'C': np.random.randint(1,10, size=8)})                  \\n\\ndf\\ndf.groupby('A').sum()\\n#df.groupby(['A', 'B']).sum()\""
      ]
     },
     "execution_count": 163,
     "metadata": {},
     "output_type": "execute_result"
    }
   ],
   "source": [
    "'''df = pd.DataFrame({'A': ['one', 'two', 'three', 'two',\n",
    "                          'three', 'two', 'one', 'two'],\n",
    "                  'B': np.random.randint(0,8, size=8),\n",
    "                   'C': np.random.randint(1,10, size=8)})                  \n",
    "\n",
    "df\n",
    "df.groupby('A').sum()\n",
    "#df.groupby(['A', 'B']).sum()'''\n"
   ]
  },
  {
   "cell_type": "markdown",
   "metadata": {},
   "source": [
    "### Reshaping\n",
    "For reshaping by stacking and unstacking, see [here](https://pandas.pydata.org/pandas-docs/stable/user_guide/reshaping.html#reshaping-stacking)"
   ]
  },
  {
   "cell_type": "markdown",
   "metadata": {},
   "source": [
    "#### Reshaping by stacking and unstacking \n",
    "*Changing the layout of a data set*\n",
    "-    stack: “pivot” a level of (may be hierarchical) column labels. Returns a DataFrame with an index that is the new inner-most level of row labels\n",
    "-    unstack: (inverse operation of stack) “pivot” a level of the (may be hierarchical) row index to the column axis. This produces a reshaped DataFrame with a new inner-most level that consists of column labels."
   ]
  },
  {
   "cell_type": "code",
   "execution_count": 121,
   "metadata": {},
   "outputs": [
    {
     "name": "stdout",
     "output_type": "stream",
     "text": [
      "<zip object at 0x1206e6648>\n",
      "('bar', 'one')\n",
      "('bar', 'two')\n",
      "('baz', 'one')\n",
      "('baz', 'two')\n",
      "('foo', 'one')\n",
      "('foo', 'two')\n",
      "('qux', 'one')\n",
      "('qux', 'two')\n"
     ]
    }
   ],
   "source": [
    "# The Python zip function takes iterable elements as an input, and returns an iterator\n",
    "# If we pass two iterable objects of the same lengths, then an iterable of python tuples \n",
    "# will be returned, where each element of the tuple will be from those iterable lists\n",
    "# Python's zip function is mainly used to combine data from two iterable elements together \n",
    "\n",
    "list1 = ['a', 'b', 'c', 'a', 'a', 'b']\n",
    "list2 = ['one', 'two', 'one', 'two', 'one', 'two']\n",
    "tuples1 = zip(list1, list2)\n",
    "print (tuples1)\n",
    "for i in tuples1:\n",
    "    print (i)   "
   ]
  },
  {
   "cell_type": "code",
   "execution_count": 122,
   "metadata": {},
   "outputs": [
    {
     "name": "stdout",
     "output_type": "stream",
     "text": [
      "[('bar', 'one'), ('bar', 'two'), ('baz', 'one'), ('baz', 'two'), ('foo', 'one'), ('foo', 'two'), ('qux', 'one'), ('qux', 'two')]\n"
     ]
    }
   ],
   "source": [
    "# Note that the * character in a function call \"unpacks\" a list (or other iterable), making each of its elements a separate argument\n",
    "# The * character is known as the unpacking operator. When it appears behind an iterable object (in this case zip), \n",
    "# what it does is pass the items inside the iterable to the function's caller one by one. In this case, since the zip function \n",
    "# accepts a list of iterables in order to return their aligned tuples, zip(*list of lists) passes all the items inside the list of lists \n",
    "# as arguments to the zip function\n",
    "# Also note that unpacking can be used within another iterable\n",
    "\n",
    "tuples = list(zip(*[['bar', 'bar', 'baz', 'baz', 'foo', 'foo', 'qux', 'qux'],\n",
    "                    ['one', 'two', 'one', 'two', 'one', 'two', 'one', 'two']]))\n",
    "print (tuples)"
   ]
  },
  {
   "cell_type": "markdown",
   "metadata": {},
   "source": [
    "Convert a list of tuples using the classmethod MultiIndex.from_tuples() found [here](https://pandas.pydata.org/pandas-docs/stable/reference/api/pandas.MultiIndex.from_tuples.html)"
   ]
  },
  {
   "cell_type": "code",
   "execution_count": 450,
   "metadata": {},
   "outputs": [
    {
     "data": {
      "text/html": [
       "<div>\n",
       "<style scoped>\n",
       "    .dataframe tbody tr th:only-of-type {\n",
       "        vertical-align: middle;\n",
       "    }\n",
       "\n",
       "    .dataframe tbody tr th {\n",
       "        vertical-align: top;\n",
       "    }\n",
       "\n",
       "    .dataframe thead th {\n",
       "        text-align: right;\n",
       "    }\n",
       "</style>\n",
       "<table border=\"1\" class=\"dataframe\">\n",
       "  <thead>\n",
       "    <tr style=\"text-align: right;\">\n",
       "      <th></th>\n",
       "      <th></th>\n",
       "      <th>A</th>\n",
       "      <th>B</th>\n",
       "    </tr>\n",
       "    <tr>\n",
       "      <th>first</th>\n",
       "      <th>second</th>\n",
       "      <th></th>\n",
       "      <th></th>\n",
       "    </tr>\n",
       "  </thead>\n",
       "  <tbody>\n",
       "    <tr>\n",
       "      <th rowspan=\"2\" valign=\"top\">bar</th>\n",
       "      <th>one</th>\n",
       "      <td>0</td>\n",
       "      <td>0</td>\n",
       "    </tr>\n",
       "    <tr>\n",
       "      <th>two</th>\n",
       "      <td>2</td>\n",
       "      <td>0</td>\n",
       "    </tr>\n",
       "    <tr>\n",
       "      <th rowspan=\"2\" valign=\"top\">baz</th>\n",
       "      <th>one</th>\n",
       "      <td>2</td>\n",
       "      <td>0</td>\n",
       "    </tr>\n",
       "    <tr>\n",
       "      <th>two</th>\n",
       "      <td>1</td>\n",
       "      <td>4</td>\n",
       "    </tr>\n",
       "  </tbody>\n",
       "</table>\n",
       "</div>"
      ],
      "text/plain": [
       "              A  B\n",
       "first second      \n",
       "bar   one     0  0\n",
       "      two     2  0\n",
       "baz   one     2  0\n",
       "      two     1  4"
      ]
     },
     "execution_count": 450,
     "metadata": {},
     "output_type": "execute_result"
    }
   ],
   "source": [
    "index = pd.MultiIndex.from_tuples(tuples, names=['first', 'second'])\n",
    "df = pd.DataFrame(np.random.randint(5, size=(8,2)),index=index, columns=['A', 'B'])\n",
    "df2 = df[:4]\n",
    "df2"
   ]
  },
  {
   "cell_type": "code",
   "execution_count": 421,
   "metadata": {},
   "outputs": [
    {
     "data": {
      "text/html": [
       "<div>\n",
       "<style scoped>\n",
       "    .dataframe tbody tr th:only-of-type {\n",
       "        vertical-align: middle;\n",
       "    }\n",
       "\n",
       "    .dataframe tbody tr th {\n",
       "        vertical-align: top;\n",
       "    }\n",
       "\n",
       "    .dataframe thead th {\n",
       "        text-align: right;\n",
       "    }\n",
       "</style>\n",
       "<table border=\"1\" class=\"dataframe\">\n",
       "  <thead>\n",
       "    <tr style=\"text-align: right;\">\n",
       "      <th></th>\n",
       "      <th></th>\n",
       "      <th>A</th>\n",
       "      <th>B</th>\n",
       "    </tr>\n",
       "    <tr>\n",
       "      <th>first</th>\n",
       "      <th>second</th>\n",
       "      <th></th>\n",
       "      <th></th>\n",
       "    </tr>\n",
       "  </thead>\n",
       "  <tbody>\n",
       "    <tr>\n",
       "      <th>a</th>\n",
       "      <th>one</th>\n",
       "      <td>1</td>\n",
       "      <td>2</td>\n",
       "    </tr>\n",
       "    <tr>\n",
       "      <th>b</th>\n",
       "      <th>two</th>\n",
       "      <td>4</td>\n",
       "      <td>4</td>\n",
       "    </tr>\n",
       "    <tr>\n",
       "      <th>a</th>\n",
       "      <th>two</th>\n",
       "      <td>5</td>\n",
       "      <td>8</td>\n",
       "    </tr>\n",
       "    <tr>\n",
       "      <th>b</th>\n",
       "      <th>two</th>\n",
       "      <td>2</td>\n",
       "      <td>2</td>\n",
       "    </tr>\n",
       "  </tbody>\n",
       "</table>\n",
       "</div>"
      ],
      "text/plain": [
       "              A  B\n",
       "first second      \n",
       "a     one     1  2\n",
       "b     two     4  4\n",
       "a     two     5  8\n",
       "b     two     2  2"
      ]
     },
     "execution_count": 421,
     "metadata": {},
     "output_type": "execute_result"
    }
   ],
   "source": [
    "tuples_list = [('a', 'one'), ('b', 'two'), ('a', 'two'), ('b', 'two')]\n",
    "index = pd.MultiIndex.from_tuples(tuples_list, names=['first', 'second'])\n",
    "df = pd.DataFrame([[1,2], [4,4], [5,8], [2,2]], index=index, columns=['A', 'B'])\n",
    "df"
   ]
  },
  {
   "cell_type": "code",
   "execution_count": 422,
   "metadata": {},
   "outputs": [
    {
     "data": {
      "text/plain": [
       "first  second   \n",
       "a      one     A    1\n",
       "               B    2\n",
       "b      two     A    4\n",
       "               B    4\n",
       "a      two     A    5\n",
       "               B    8\n",
       "b      two     A    2\n",
       "               B    2\n",
       "dtype: int64"
      ]
     },
     "execution_count": 422,
     "metadata": {},
     "output_type": "execute_result"
    }
   ],
   "source": [
    "df.stack()"
   ]
  },
  {
   "cell_type": "code",
   "execution_count": 446,
   "metadata": {},
   "outputs": [
    {
     "data": {
      "text/html": [
       "<div>\n",
       "<style scoped>\n",
       "    .dataframe tbody tr th:only-of-type {\n",
       "        vertical-align: middle;\n",
       "    }\n",
       "\n",
       "    .dataframe tbody tr th {\n",
       "        vertical-align: top;\n",
       "    }\n",
       "\n",
       "    .dataframe thead th {\n",
       "        text-align: right;\n",
       "    }\n",
       "</style>\n",
       "<table border=\"1\" class=\"dataframe\">\n",
       "  <thead>\n",
       "    <tr style=\"text-align: right;\">\n",
       "      <th></th>\n",
       "      <th>A</th>\n",
       "      <th>B</th>\n",
       "    </tr>\n",
       "  </thead>\n",
       "  <tbody>\n",
       "    <tr>\n",
       "      <th>a</th>\n",
       "      <td>1</td>\n",
       "      <td>2</td>\n",
       "    </tr>\n",
       "    <tr>\n",
       "      <th>b</th>\n",
       "      <td>4</td>\n",
       "      <td>4</td>\n",
       "    </tr>\n",
       "    <tr>\n",
       "      <th>a</th>\n",
       "      <td>5</td>\n",
       "      <td>8</td>\n",
       "    </tr>\n",
       "    <tr>\n",
       "      <th>b</th>\n",
       "      <td>2</td>\n",
       "      <td>2</td>\n",
       "    </tr>\n",
       "  </tbody>\n",
       "</table>\n",
       "</div>"
      ],
      "text/plain": [
       "   A  B\n",
       "a  1  2\n",
       "b  4  4\n",
       "a  5  8\n",
       "b  2  2"
      ]
     },
     "execution_count": 446,
     "metadata": {},
     "output_type": "execute_result"
    }
   ],
   "source": [
    "df3 = pd.DataFrame([[1,2], [4,4], [5,8], [2,2]], index=['a', 'b', 'a', 'b'], columns=['A', 'B'])\n",
    "df3"
   ]
  },
  {
   "cell_type": "code",
   "execution_count": 447,
   "metadata": {},
   "outputs": [
    {
     "data": {
      "text/plain": [
       "a  A    1\n",
       "   B    2\n",
       "b  A    4\n",
       "   B    4\n",
       "a  A    5\n",
       "   B    8\n",
       "b  A    2\n",
       "   B    2\n",
       "dtype: int64"
      ]
     },
     "execution_count": 447,
     "metadata": {},
     "output_type": "execute_result"
    }
   ],
   "source": [
    "df3.stack()"
   ]
  },
  {
   "cell_type": "code",
   "execution_count": 451,
   "metadata": {},
   "outputs": [
    {
     "data": {
      "text/plain": [
       "first  second   \n",
       "bar    one     A    0\n",
       "               B    0\n",
       "       two     A    2\n",
       "               B    0\n",
       "baz    one     A    2\n",
       "               B    0\n",
       "       two     A    1\n",
       "               B    4\n",
       "dtype: int64"
      ]
     },
     "execution_count": 451,
     "metadata": {},
     "output_type": "execute_result"
    }
   ],
   "source": [
    "stacked = df2.stack()\n",
    "stacked"
   ]
  },
  {
   "cell_type": "markdown",
   "metadata": {},
   "source": [
    "The inverse operation of `stack()` is `unstack()`, which unstacks the last level (by default)"
   ]
  },
  {
   "cell_type": "code",
   "execution_count": 452,
   "metadata": {},
   "outputs": [
    {
     "data": {
      "text/html": [
       "<div>\n",
       "<style scoped>\n",
       "    .dataframe tbody tr th:only-of-type {\n",
       "        vertical-align: middle;\n",
       "    }\n",
       "\n",
       "    .dataframe tbody tr th {\n",
       "        vertical-align: top;\n",
       "    }\n",
       "\n",
       "    .dataframe thead th {\n",
       "        text-align: right;\n",
       "    }\n",
       "</style>\n",
       "<table border=\"1\" class=\"dataframe\">\n",
       "  <thead>\n",
       "    <tr style=\"text-align: right;\">\n",
       "      <th></th>\n",
       "      <th></th>\n",
       "      <th>A</th>\n",
       "      <th>B</th>\n",
       "    </tr>\n",
       "    <tr>\n",
       "      <th>first</th>\n",
       "      <th>second</th>\n",
       "      <th></th>\n",
       "      <th></th>\n",
       "    </tr>\n",
       "  </thead>\n",
       "  <tbody>\n",
       "    <tr>\n",
       "      <th rowspan=\"2\" valign=\"top\">bar</th>\n",
       "      <th>one</th>\n",
       "      <td>0</td>\n",
       "      <td>0</td>\n",
       "    </tr>\n",
       "    <tr>\n",
       "      <th>two</th>\n",
       "      <td>2</td>\n",
       "      <td>0</td>\n",
       "    </tr>\n",
       "    <tr>\n",
       "      <th rowspan=\"2\" valign=\"top\">baz</th>\n",
       "      <th>one</th>\n",
       "      <td>2</td>\n",
       "      <td>0</td>\n",
       "    </tr>\n",
       "    <tr>\n",
       "      <th>two</th>\n",
       "      <td>1</td>\n",
       "      <td>4</td>\n",
       "    </tr>\n",
       "  </tbody>\n",
       "</table>\n",
       "</div>"
      ],
      "text/plain": [
       "              A  B\n",
       "first second      \n",
       "bar   one     0  0\n",
       "      two     2  0\n",
       "baz   one     2  0\n",
       "      two     1  4"
      ]
     },
     "execution_count": 452,
     "metadata": {},
     "output_type": "execute_result"
    }
   ],
   "source": [
    "stacked.unstack()"
   ]
  },
  {
   "cell_type": "markdown",
   "metadata": {},
   "source": [
    "#### Reshaping by pivoting DataFrame objects"
   ]
  },
  {
   "cell_type": "markdown",
   "metadata": {},
   "source": [
    "`pivot_table()` can be used to create spreadsheet-style [pivot tables](https://pandas.pydata.org/pandas-docs/stable/user_guide/reshaping.html#reshaping-pivot)."
   ]
  },
  {
   "cell_type": "code",
   "execution_count": 126,
   "metadata": {},
   "outputs": [
    {
     "data": {
      "text/html": [
       "<div>\n",
       "<style scoped>\n",
       "    .dataframe tbody tr th:only-of-type {\n",
       "        vertical-align: middle;\n",
       "    }\n",
       "\n",
       "    .dataframe tbody tr th {\n",
       "        vertical-align: top;\n",
       "    }\n",
       "\n",
       "    .dataframe thead th {\n",
       "        text-align: right;\n",
       "    }\n",
       "</style>\n",
       "<table border=\"1\" class=\"dataframe\">\n",
       "  <thead>\n",
       "    <tr style=\"text-align: right;\">\n",
       "      <th></th>\n",
       "      <th>A</th>\n",
       "      <th>B</th>\n",
       "      <th>C</th>\n",
       "      <th>D</th>\n",
       "      <th>E</th>\n",
       "    </tr>\n",
       "  </thead>\n",
       "  <tbody>\n",
       "    <tr>\n",
       "      <th>0</th>\n",
       "      <td>one</td>\n",
       "      <td>A</td>\n",
       "      <td>foo</td>\n",
       "      <td>1</td>\n",
       "      <td>1</td>\n",
       "    </tr>\n",
       "    <tr>\n",
       "      <th>1</th>\n",
       "      <td>one</td>\n",
       "      <td>B</td>\n",
       "      <td>foo</td>\n",
       "      <td>0</td>\n",
       "      <td>0</td>\n",
       "    </tr>\n",
       "    <tr>\n",
       "      <th>2</th>\n",
       "      <td>two</td>\n",
       "      <td>C</td>\n",
       "      <td>foo</td>\n",
       "      <td>1</td>\n",
       "      <td>1</td>\n",
       "    </tr>\n",
       "    <tr>\n",
       "      <th>3</th>\n",
       "      <td>three</td>\n",
       "      <td>D</td>\n",
       "      <td>foo</td>\n",
       "      <td>-1</td>\n",
       "      <td>0</td>\n",
       "    </tr>\n",
       "    <tr>\n",
       "      <th>4</th>\n",
       "      <td>one</td>\n",
       "      <td>A</td>\n",
       "      <td>bar</td>\n",
       "      <td>0</td>\n",
       "      <td>0</td>\n",
       "    </tr>\n",
       "    <tr>\n",
       "      <th>5</th>\n",
       "      <td>one</td>\n",
       "      <td>B</td>\n",
       "      <td>bar</td>\n",
       "      <td>0</td>\n",
       "      <td>0</td>\n",
       "    </tr>\n",
       "    <tr>\n",
       "      <th>6</th>\n",
       "      <td>two</td>\n",
       "      <td>C</td>\n",
       "      <td>bar</td>\n",
       "      <td>0</td>\n",
       "      <td>0</td>\n",
       "    </tr>\n",
       "    <tr>\n",
       "      <th>7</th>\n",
       "      <td>three</td>\n",
       "      <td>D</td>\n",
       "      <td>bar</td>\n",
       "      <td>0</td>\n",
       "      <td>0</td>\n",
       "    </tr>\n",
       "  </tbody>\n",
       "</table>\n",
       "</div>"
      ],
      "text/plain": [
       "       A  B    C  D  E\n",
       "0    one  A  foo  1  1\n",
       "1    one  B  foo  0  0\n",
       "2    two  C  foo  1  1\n",
       "3  three  D  foo -1  0\n",
       "4    one  A  bar  0  0\n",
       "5    one  B  bar  0  0\n",
       "6    two  C  bar  0  0\n",
       "7  three  D  bar  0  0"
      ]
     },
     "execution_count": 126,
     "metadata": {},
     "output_type": "execute_result"
    }
   ],
   "source": [
    "df = pd.DataFrame({'A': ['one', 'one', 'two', 'three'] * 2,\n",
    "                   'B': ['A', 'B', 'C', 'D'] * 2,\n",
    "                   'C': ['foo', 'foo', 'foo', 'foo', 'bar', 'bar', 'bar', 'bar'],\n",
    "                   'D': np.random.randn(8).astype(int),\n",
    "                   'E': np.random.randn(8).astype(int)})\n",
    "df"
   ]
  },
  {
   "cell_type": "code",
   "execution_count": 127,
   "metadata": {},
   "outputs": [
    {
     "data": {
      "text/html": [
       "<div>\n",
       "<style scoped>\n",
       "    .dataframe tbody tr th:only-of-type {\n",
       "        vertical-align: middle;\n",
       "    }\n",
       "\n",
       "    .dataframe tbody tr th {\n",
       "        vertical-align: top;\n",
       "    }\n",
       "\n",
       "    .dataframe thead th {\n",
       "        text-align: right;\n",
       "    }\n",
       "</style>\n",
       "<table border=\"1\" class=\"dataframe\">\n",
       "  <thead>\n",
       "    <tr style=\"text-align: right;\">\n",
       "      <th></th>\n",
       "      <th>C</th>\n",
       "      <th>bar</th>\n",
       "      <th>foo</th>\n",
       "    </tr>\n",
       "    <tr>\n",
       "      <th>A</th>\n",
       "      <th>B</th>\n",
       "      <th></th>\n",
       "      <th></th>\n",
       "    </tr>\n",
       "  </thead>\n",
       "  <tbody>\n",
       "    <tr>\n",
       "      <th rowspan=\"2\" valign=\"top\">one</th>\n",
       "      <th>A</th>\n",
       "      <td>0</td>\n",
       "      <td>1</td>\n",
       "    </tr>\n",
       "    <tr>\n",
       "      <th>B</th>\n",
       "      <td>0</td>\n",
       "      <td>0</td>\n",
       "    </tr>\n",
       "    <tr>\n",
       "      <th>three</th>\n",
       "      <th>D</th>\n",
       "      <td>0</td>\n",
       "      <td>-1</td>\n",
       "    </tr>\n",
       "    <tr>\n",
       "      <th>two</th>\n",
       "      <th>C</th>\n",
       "      <td>0</td>\n",
       "      <td>1</td>\n",
       "    </tr>\n",
       "  </tbody>\n",
       "</table>\n",
       "</div>"
      ],
      "text/plain": [
       "C        bar  foo\n",
       "A     B          \n",
       "one   A    0    1\n",
       "      B    0    0\n",
       "three D    0   -1\n",
       "two   C    0    1"
      ]
     },
     "execution_count": 127,
     "metadata": {},
     "output_type": "execute_result"
    }
   ],
   "source": [
    "# values - Use values in column 'D' in this example\n",
    "# index - Group by the indexes 'A' and 'B'\n",
    "# columns - The keys to group by on the pivot table are in this case in column 'C'\n",
    "pd.pivot_table(df, values='D', index=['A', 'B'], columns=['C'])"
   ]
  },
  {
   "cell_type": "markdown",
   "metadata": {},
   "source": [
    " If one wants to omit missing values, do this by calling `to_string` "
   ]
  },
  {
   "cell_type": "markdown",
   "metadata": {},
   "source": [
    "If you need to specify a bit more data in order to properly [group](https://pandas.pydata.org/pandas-docs/stable/user_guide/groupby.html#groupby-specify), use `pd.Grouper` to provide this local control."
   ]
  },
  {
   "cell_type": "markdown",
   "metadata": {},
   "source": [
    "### Categorical\n",
    "[Categoricals](https://pandas.pydata.org/pandas-docs/stable/user_guide/categorical.html#categorical) are a pandas data type that correspond to categorical variables in statistics. Also see the API documentation [here](https://pandas.pydata.org/pandas-docs/stable/reference/arrays.html#api-arrays-categorical)"
   ]
  },
  {
   "cell_type": "code",
   "execution_count": 128,
   "metadata": {},
   "outputs": [
    {
     "data": {
      "text/plain": [
       "0    a\n",
       "1    b\n",
       "2    c\n",
       "3    a\n",
       "4    d\n",
       "Name: grade, dtype: category\n",
       "Categories (4, object): [a, b, c, d]"
      ]
     },
     "execution_count": 128,
     "metadata": {},
     "output_type": "execute_result"
    }
   ],
   "source": [
    "df = pd.DataFrame({\"id\": [1,2,3,4,5], \"raw_grade\": ['a', 'b', 'c', 'a', 'd']})\n",
    "\n",
    "# Convert grades to a categorical type\n",
    "df[\"grade\"] = df[\"raw_grade\"].astype(\"category\")\n",
    "df[\"grade\"] "
   ]
  },
  {
   "cell_type": "code",
   "execution_count": 129,
   "metadata": {},
   "outputs": [
    {
     "data": {
      "text/plain": [
       "0    very good\n",
       "1         good\n",
       "2       medium\n",
       "3    very good\n",
       "4          bad\n",
       "Name: grade, dtype: category\n",
       "Categories (4, object): [very good, good, medium, bad]"
      ]
     },
     "execution_count": 129,
     "metadata": {},
     "output_type": "execute_result"
    }
   ],
   "source": [
    "df[\"grade\"].cat.categories = [\"very good\", \"good\", \"medium\", \"bad\"]\n",
    "df[\"grade\"] = df[\"grade\"].cat.set_categories([\"very good\", \"good\", \"medium\",\"bad\"])\n",
    "df[\"grade\"]"
   ]
  },
  {
   "cell_type": "markdown",
   "metadata": {},
   "source": [
    "### Plotting\n",
    "See the [plotting](https://pandas.pydata.org/pandas-docs/stable/user_guide/visualization.html#visualization) documentation as well as the [ecosystem](https://pandas.pydata.org/pandas-docs/stable/ecosystem.html#ecosystem-visualization) section for further visualization libraries"
   ]
  },
  {
   "cell_type": "markdown",
   "metadata": {},
   "source": [
    "Note that the `plot` method on Series and DataFrame is a wrapper around plt.plot() from matplotlib"
   ]
  },
  {
   "cell_type": "code",
   "execution_count": 130,
   "metadata": {},
   "outputs": [
    {
     "data": {
      "text/plain": [
       "<matplotlib.axes._subplots.AxesSubplot at 0x1207054e0>"
      ]
     },
     "execution_count": 130,
     "metadata": {},
     "output_type": "execute_result"
    },
    {
     "data": {
      "image/png": "[encoded data removed]",
      "text/plain": [
       "<Figure size 432x288 with 1 Axes>"
      ]
     },
     "metadata": {},
     "output_type": "display_data"
    }
   ],
   "source": [
    "df = pd.DataFrame(np.random.randn(500, 4),\n",
    "                index=pd.date_range('1/1/2000', periods=500), columns=list('ABCD'))\n",
    "\n",
    "df = df.cumsum()\n",
    "\n",
    "# plt.figure()\n",
    "\n",
    "df.plot()"
   ]
  },
  {
   "cell_type": "markdown",
   "metadata": {},
   "source": [
    "You can also plot one column versus another column using the x and y keywords in `plot()`\n",
    "\n",
    "Use the `kind` keyword argument to `plot()`, in order to plot styles other than the default line plot."
   ]
  },
  {
   "cell_type": "code",
   "execution_count": 131,
   "metadata": {},
   "outputs": [],
   "source": [
    "#df.plot. # Use the tab key to see the other types of plots to use"
   ]
  },
  {
   "cell_type": "markdown",
   "metadata": {},
   "source": [
    "### I/O\n"
   ]
  },
  {
   "cell_type": "code",
   "execution_count": 132,
   "metadata": {},
   "outputs": [
    {
     "data": {
      "text/html": [
       "<div>\n",
       "<style scoped>\n",
       "    .dataframe tbody tr th:only-of-type {\n",
       "        vertical-align: middle;\n",
       "    }\n",
       "\n",
       "    .dataframe tbody tr th {\n",
       "        vertical-align: top;\n",
       "    }\n",
       "\n",
       "    .dataframe thead th {\n",
       "        text-align: right;\n",
       "    }\n",
       "</style>\n",
       "<table border=\"1\" class=\"dataframe\">\n",
       "  <thead>\n",
       "    <tr style=\"text-align: right;\">\n",
       "      <th></th>\n",
       "      <th>Unnamed: 0</th>\n",
       "      <th>A</th>\n",
       "      <th>B</th>\n",
       "      <th>C</th>\n",
       "      <th>D</th>\n",
       "    </tr>\n",
       "  </thead>\n",
       "  <tbody>\n",
       "    <tr>\n",
       "      <th>0</th>\n",
       "      <td>2000-01-01</td>\n",
       "      <td>-2.540425</td>\n",
       "      <td>-0.984455</td>\n",
       "      <td>1.186726</td>\n",
       "      <td>0.262303</td>\n",
       "    </tr>\n",
       "    <tr>\n",
       "      <th>1</th>\n",
       "      <td>2000-01-02</td>\n",
       "      <td>-1.018059</td>\n",
       "      <td>-0.951006</td>\n",
       "      <td>0.947547</td>\n",
       "      <td>-1.772686</td>\n",
       "    </tr>\n",
       "    <tr>\n",
       "      <th>2</th>\n",
       "      <td>2000-01-03</td>\n",
       "      <td>-0.807983</td>\n",
       "      <td>0.232948</td>\n",
       "      <td>0.909822</td>\n",
       "      <td>-0.639988</td>\n",
       "    </tr>\n",
       "    <tr>\n",
       "      <th>3</th>\n",
       "      <td>2000-01-04</td>\n",
       "      <td>-1.232339</td>\n",
       "      <td>1.621568</td>\n",
       "      <td>0.642643</td>\n",
       "      <td>-0.205108</td>\n",
       "    </tr>\n",
       "    <tr>\n",
       "      <th>4</th>\n",
       "      <td>2000-01-05</td>\n",
       "      <td>-0.418764</td>\n",
       "      <td>3.553279</td>\n",
       "      <td>1.791678</td>\n",
       "      <td>0.508610</td>\n",
       "    </tr>\n",
       "    <tr>\n",
       "      <th>5</th>\n",
       "      <td>2000-01-06</td>\n",
       "      <td>-1.494092</td>\n",
       "      <td>3.486556</td>\n",
       "      <td>2.836750</td>\n",
       "      <td>-1.358374</td>\n",
       "    </tr>\n",
       "    <tr>\n",
       "      <th>6</th>\n",
       "      <td>2000-01-07</td>\n",
       "      <td>-3.259439</td>\n",
       "      <td>1.946863</td>\n",
       "      <td>1.905950</td>\n",
       "      <td>-2.995092</td>\n",
       "    </tr>\n",
       "    <tr>\n",
       "      <th>7</th>\n",
       "      <td>2000-01-08</td>\n",
       "      <td>-4.566565</td>\n",
       "      <td>0.493283</td>\n",
       "      <td>0.732980</td>\n",
       "      <td>-1.854375</td>\n",
       "    </tr>\n",
       "    <tr>\n",
       "      <th>8</th>\n",
       "      <td>2000-01-09</td>\n",
       "      <td>-5.227383</td>\n",
       "      <td>-0.182397</td>\n",
       "      <td>0.574325</td>\n",
       "      <td>-1.289387</td>\n",
       "    </tr>\n",
       "    <tr>\n",
       "      <th>9</th>\n",
       "      <td>2000-01-10</td>\n",
       "      <td>-4.574604</td>\n",
       "      <td>-0.092476</td>\n",
       "      <td>1.189693</td>\n",
       "      <td>-2.251390</td>\n",
       "    </tr>\n",
       "    <tr>\n",
       "      <th>10</th>\n",
       "      <td>2000-01-11</td>\n",
       "      <td>-5.245795</td>\n",
       "      <td>0.564055</td>\n",
       "      <td>1.622799</td>\n",
       "      <td>-1.730520</td>\n",
       "    </tr>\n",
       "    <tr>\n",
       "      <th>11</th>\n",
       "      <td>2000-01-12</td>\n",
       "      <td>-3.823915</td>\n",
       "      <td>0.852885</td>\n",
       "      <td>1.505955</td>\n",
       "      <td>-2.250106</td>\n",
       "    </tr>\n",
       "    <tr>\n",
       "      <th>12</th>\n",
       "      <td>2000-01-13</td>\n",
       "      <td>-3.905978</td>\n",
       "      <td>2.353220</td>\n",
       "      <td>1.210135</td>\n",
       "      <td>-3.033934</td>\n",
       "    </tr>\n",
       "    <tr>\n",
       "      <th>13</th>\n",
       "      <td>2000-01-14</td>\n",
       "      <td>-3.559421</td>\n",
       "      <td>3.245211</td>\n",
       "      <td>2.230751</td>\n",
       "      <td>-3.224948</td>\n",
       "    </tr>\n",
       "    <tr>\n",
       "      <th>14</th>\n",
       "      <td>2000-01-15</td>\n",
       "      <td>-2.462707</td>\n",
       "      <td>3.334388</td>\n",
       "      <td>1.236244</td>\n",
       "      <td>-3.220255</td>\n",
       "    </tr>\n",
       "    <tr>\n",
       "      <th>15</th>\n",
       "      <td>2000-01-16</td>\n",
       "      <td>-1.669026</td>\n",
       "      <td>1.773073</td>\n",
       "      <td>2.742774</td>\n",
       "      <td>-3.598847</td>\n",
       "    </tr>\n",
       "    <tr>\n",
       "      <th>16</th>\n",
       "      <td>2000-01-17</td>\n",
       "      <td>-3.395296</td>\n",
       "      <td>1.739856</td>\n",
       "      <td>3.101018</td>\n",
       "      <td>-4.440623</td>\n",
       "    </tr>\n",
       "    <tr>\n",
       "      <th>17</th>\n",
       "      <td>2000-01-18</td>\n",
       "      <td>-3.304823</td>\n",
       "      <td>1.195565</td>\n",
       "      <td>2.411634</td>\n",
       "      <td>-5.674195</td>\n",
       "    </tr>\n",
       "    <tr>\n",
       "      <th>18</th>\n",
       "      <td>2000-01-19</td>\n",
       "      <td>-1.956037</td>\n",
       "      <td>0.587743</td>\n",
       "      <td>3.457135</td>\n",
       "      <td>-6.180845</td>\n",
       "    </tr>\n",
       "    <tr>\n",
       "      <th>19</th>\n",
       "      <td>2000-01-20</td>\n",
       "      <td>-2.118383</td>\n",
       "      <td>0.798689</td>\n",
       "      <td>2.914303</td>\n",
       "      <td>-5.845108</td>\n",
       "    </tr>\n",
       "    <tr>\n",
       "      <th>20</th>\n",
       "      <td>2000-01-21</td>\n",
       "      <td>-1.084143</td>\n",
       "      <td>-0.208136</td>\n",
       "      <td>2.248230</td>\n",
       "      <td>-6.270295</td>\n",
       "    </tr>\n",
       "    <tr>\n",
       "      <th>21</th>\n",
       "      <td>2000-01-22</td>\n",
       "      <td>-1.676875</td>\n",
       "      <td>-2.174607</td>\n",
       "      <td>2.517782</td>\n",
       "      <td>-6.182870</td>\n",
       "    </tr>\n",
       "    <tr>\n",
       "      <th>22</th>\n",
       "      <td>2000-01-23</td>\n",
       "      <td>-2.073515</td>\n",
       "      <td>-1.962174</td>\n",
       "      <td>1.441119</td>\n",
       "      <td>-4.807820</td>\n",
       "    </tr>\n",
       "    <tr>\n",
       "      <th>23</th>\n",
       "      <td>2000-01-24</td>\n",
       "      <td>-1.419578</td>\n",
       "      <td>-0.643847</td>\n",
       "      <td>1.176793</td>\n",
       "      <td>-5.832413</td>\n",
       "    </tr>\n",
       "    <tr>\n",
       "      <th>24</th>\n",
       "      <td>2000-01-25</td>\n",
       "      <td>-0.828272</td>\n",
       "      <td>-0.888958</td>\n",
       "      <td>1.015591</td>\n",
       "      <td>-5.333635</td>\n",
       "    </tr>\n",
       "    <tr>\n",
       "      <th>25</th>\n",
       "      <td>2000-01-26</td>\n",
       "      <td>-0.305384</td>\n",
       "      <td>1.067383</td>\n",
       "      <td>1.031158</td>\n",
       "      <td>-6.293330</td>\n",
       "    </tr>\n",
       "    <tr>\n",
       "      <th>26</th>\n",
       "      <td>2000-01-27</td>\n",
       "      <td>0.155049</td>\n",
       "      <td>0.253584</td>\n",
       "      <td>-0.611661</td>\n",
       "      <td>-7.562842</td>\n",
       "    </tr>\n",
       "    <tr>\n",
       "      <th>27</th>\n",
       "      <td>2000-01-28</td>\n",
       "      <td>-0.369469</td>\n",
       "      <td>0.430837</td>\n",
       "      <td>-0.768530</td>\n",
       "      <td>-8.405711</td>\n",
       "    </tr>\n",
       "    <tr>\n",
       "      <th>28</th>\n",
       "      <td>2000-01-29</td>\n",
       "      <td>-0.424180</td>\n",
       "      <td>0.204646</td>\n",
       "      <td>0.171349</td>\n",
       "      <td>-6.373324</td>\n",
       "    </tr>\n",
       "    <tr>\n",
       "      <th>29</th>\n",
       "      <td>2000-01-30</td>\n",
       "      <td>-2.052311</td>\n",
       "      <td>0.699986</td>\n",
       "      <td>0.194300</td>\n",
       "      <td>-7.359778</td>\n",
       "    </tr>\n",
       "    <tr>\n",
       "      <th>...</th>\n",
       "      <td>...</td>\n",
       "      <td>...</td>\n",
       "      <td>...</td>\n",
       "      <td>...</td>\n",
       "      <td>...</td>\n",
       "    </tr>\n",
       "    <tr>\n",
       "      <th>470</th>\n",
       "      <td>2001-04-15</td>\n",
       "      <td>12.887220</td>\n",
       "      <td>-8.733335</td>\n",
       "      <td>13.354407</td>\n",
       "      <td>-6.116504</td>\n",
       "    </tr>\n",
       "    <tr>\n",
       "      <th>471</th>\n",
       "      <td>2001-04-16</td>\n",
       "      <td>12.944346</td>\n",
       "      <td>-9.610670</td>\n",
       "      <td>14.953035</td>\n",
       "      <td>-5.943661</td>\n",
       "    </tr>\n",
       "    <tr>\n",
       "      <th>472</th>\n",
       "      <td>2001-04-17</td>\n",
       "      <td>13.577829</td>\n",
       "      <td>-6.971190</td>\n",
       "      <td>14.491393</td>\n",
       "      <td>-7.630414</td>\n",
       "    </tr>\n",
       "    <tr>\n",
       "      <th>473</th>\n",
       "      <td>2001-04-18</td>\n",
       "      <td>14.310756</td>\n",
       "      <td>-7.441444</td>\n",
       "      <td>14.488575</td>\n",
       "      <td>-6.924655</td>\n",
       "    </tr>\n",
       "    <tr>\n",
       "      <th>474</th>\n",
       "      <td>2001-04-19</td>\n",
       "      <td>13.838645</td>\n",
       "      <td>-8.466537</td>\n",
       "      <td>12.673574</td>\n",
       "      <td>-6.576032</td>\n",
       "    </tr>\n",
       "    <tr>\n",
       "      <th>475</th>\n",
       "      <td>2001-04-20</td>\n",
       "      <td>15.336344</td>\n",
       "      <td>-7.817456</td>\n",
       "      <td>12.849258</td>\n",
       "      <td>-6.386864</td>\n",
       "    </tr>\n",
       "    <tr>\n",
       "      <th>476</th>\n",
       "      <td>2001-04-21</td>\n",
       "      <td>16.167976</td>\n",
       "      <td>-6.337356</td>\n",
       "      <td>12.774772</td>\n",
       "      <td>-5.742582</td>\n",
       "    </tr>\n",
       "    <tr>\n",
       "      <th>477</th>\n",
       "      <td>2001-04-22</td>\n",
       "      <td>15.796165</td>\n",
       "      <td>-7.573090</td>\n",
       "      <td>11.601907</td>\n",
       "      <td>-5.553247</td>\n",
       "    </tr>\n",
       "    <tr>\n",
       "      <th>478</th>\n",
       "      <td>2001-04-23</td>\n",
       "      <td>17.200800</td>\n",
       "      <td>-6.961747</td>\n",
       "      <td>10.297933</td>\n",
       "      <td>-6.399917</td>\n",
       "    </tr>\n",
       "    <tr>\n",
       "      <th>479</th>\n",
       "      <td>2001-04-24</td>\n",
       "      <td>16.538857</td>\n",
       "      <td>-7.248466</td>\n",
       "      <td>10.701500</td>\n",
       "      <td>-6.983085</td>\n",
       "    </tr>\n",
       "    <tr>\n",
       "      <th>480</th>\n",
       "      <td>2001-04-25</td>\n",
       "      <td>17.557058</td>\n",
       "      <td>-5.652344</td>\n",
       "      <td>13.103026</td>\n",
       "      <td>-7.409523</td>\n",
       "    </tr>\n",
       "    <tr>\n",
       "      <th>481</th>\n",
       "      <td>2001-04-26</td>\n",
       "      <td>16.253065</td>\n",
       "      <td>-6.530088</td>\n",
       "      <td>13.183153</td>\n",
       "      <td>-9.198178</td>\n",
       "    </tr>\n",
       "    <tr>\n",
       "      <th>482</th>\n",
       "      <td>2001-04-27</td>\n",
       "      <td>16.962725</td>\n",
       "      <td>-4.883328</td>\n",
       "      <td>12.783825</td>\n",
       "      <td>-9.751856</td>\n",
       "    </tr>\n",
       "    <tr>\n",
       "      <th>483</th>\n",
       "      <td>2001-04-28</td>\n",
       "      <td>16.006230</td>\n",
       "      <td>-4.150681</td>\n",
       "      <td>14.230731</td>\n",
       "      <td>-9.225769</td>\n",
       "    </tr>\n",
       "    <tr>\n",
       "      <th>484</th>\n",
       "      <td>2001-04-29</td>\n",
       "      <td>17.612258</td>\n",
       "      <td>-4.499172</td>\n",
       "      <td>13.407747</td>\n",
       "      <td>-10.531087</td>\n",
       "    </tr>\n",
       "    <tr>\n",
       "      <th>485</th>\n",
       "      <td>2001-04-30</td>\n",
       "      <td>16.766866</td>\n",
       "      <td>-4.308122</td>\n",
       "      <td>14.121287</td>\n",
       "      <td>-10.145801</td>\n",
       "    </tr>\n",
       "    <tr>\n",
       "      <th>486</th>\n",
       "      <td>2001-05-01</td>\n",
       "      <td>15.585755</td>\n",
       "      <td>-3.360320</td>\n",
       "      <td>14.352650</td>\n",
       "      <td>-9.967844</td>\n",
       "    </tr>\n",
       "    <tr>\n",
       "      <th>487</th>\n",
       "      <td>2001-05-02</td>\n",
       "      <td>16.575651</td>\n",
       "      <td>-2.099785</td>\n",
       "      <td>15.967263</td>\n",
       "      <td>-10.204806</td>\n",
       "    </tr>\n",
       "    <tr>\n",
       "      <th>488</th>\n",
       "      <td>2001-05-03</td>\n",
       "      <td>16.008745</td>\n",
       "      <td>-1.012379</td>\n",
       "      <td>16.965664</td>\n",
       "      <td>-10.219233</td>\n",
       "    </tr>\n",
       "    <tr>\n",
       "      <th>489</th>\n",
       "      <td>2001-05-04</td>\n",
       "      <td>15.608033</td>\n",
       "      <td>-1.624444</td>\n",
       "      <td>17.012033</td>\n",
       "      <td>-11.218819</td>\n",
       "    </tr>\n",
       "    <tr>\n",
       "      <th>490</th>\n",
       "      <td>2001-05-05</td>\n",
       "      <td>17.919776</td>\n",
       "      <td>-0.765581</td>\n",
       "      <td>17.959380</td>\n",
       "      <td>-10.023829</td>\n",
       "    </tr>\n",
       "    <tr>\n",
       "      <th>491</th>\n",
       "      <td>2001-05-06</td>\n",
       "      <td>17.402959</td>\n",
       "      <td>0.032107</td>\n",
       "      <td>16.238594</td>\n",
       "      <td>-10.504219</td>\n",
       "    </tr>\n",
       "    <tr>\n",
       "      <th>492</th>\n",
       "      <td>2001-05-07</td>\n",
       "      <td>18.060348</td>\n",
       "      <td>0.778108</td>\n",
       "      <td>18.087318</td>\n",
       "      <td>-9.920988</td>\n",
       "    </tr>\n",
       "    <tr>\n",
       "      <th>493</th>\n",
       "      <td>2001-05-08</td>\n",
       "      <td>17.612476</td>\n",
       "      <td>-0.148887</td>\n",
       "      <td>17.237366</td>\n",
       "      <td>-9.782213</td>\n",
       "    </tr>\n",
       "    <tr>\n",
       "      <th>494</th>\n",
       "      <td>2001-05-09</td>\n",
       "      <td>15.258531</td>\n",
       "      <td>-1.105516</td>\n",
       "      <td>16.411211</td>\n",
       "      <td>-10.470923</td>\n",
       "    </tr>\n",
       "    <tr>\n",
       "      <th>495</th>\n",
       "      <td>2001-05-10</td>\n",
       "      <td>14.753085</td>\n",
       "      <td>-2.900493</td>\n",
       "      <td>16.183078</td>\n",
       "      <td>-10.291306</td>\n",
       "    </tr>\n",
       "    <tr>\n",
       "      <th>496</th>\n",
       "      <td>2001-05-11</td>\n",
       "      <td>13.206841</td>\n",
       "      <td>-2.032601</td>\n",
       "      <td>15.288099</td>\n",
       "      <td>-10.997415</td>\n",
       "    </tr>\n",
       "    <tr>\n",
       "      <th>497</th>\n",
       "      <td>2001-05-12</td>\n",
       "      <td>13.642768</td>\n",
       "      <td>0.181106</td>\n",
       "      <td>14.426157</td>\n",
       "      <td>-10.890912</td>\n",
       "    </tr>\n",
       "    <tr>\n",
       "      <th>498</th>\n",
       "      <td>2001-05-13</td>\n",
       "      <td>12.505857</td>\n",
       "      <td>0.624148</td>\n",
       "      <td>13.914247</td>\n",
       "      <td>-12.959891</td>\n",
       "    </tr>\n",
       "    <tr>\n",
       "      <th>499</th>\n",
       "      <td>2001-05-14</td>\n",
       "      <td>13.801935</td>\n",
       "      <td>1.531559</td>\n",
       "      <td>14.348466</td>\n",
       "      <td>-14.789650</td>\n",
       "    </tr>\n",
       "  </tbody>\n",
       "</table>\n",
       "<p>500 rows × 5 columns</p>\n",
       "</div>"
      ],
      "text/plain": [
       "    Unnamed: 0          A         B          C          D\n",
       "0   2000-01-01  -2.540425 -0.984455   1.186726   0.262303\n",
       "1   2000-01-02  -1.018059 -0.951006   0.947547  -1.772686\n",
       "2   2000-01-03  -0.807983  0.232948   0.909822  -0.639988\n",
       "3   2000-01-04  -1.232339  1.621568   0.642643  -0.205108\n",
       "4   2000-01-05  -0.418764  3.553279   1.791678   0.508610\n",
       "5   2000-01-06  -1.494092  3.486556   2.836750  -1.358374\n",
       "6   2000-01-07  -3.259439  1.946863   1.905950  -2.995092\n",
       "7   2000-01-08  -4.566565  0.493283   0.732980  -1.854375\n",
       "8   2000-01-09  -5.227383 -0.182397   0.574325  -1.289387\n",
       "9   2000-01-10  -4.574604 -0.092476   1.189693  -2.251390\n",
       "10  2000-01-11  -5.245795  0.564055   1.622799  -1.730520\n",
       "11  2000-01-12  -3.823915  0.852885   1.505955  -2.250106\n",
       "12  2000-01-13  -3.905978  2.353220   1.210135  -3.033934\n",
       "13  2000-01-14  -3.559421  3.245211   2.230751  -3.224948\n",
       "14  2000-01-15  -2.462707  3.334388   1.236244  -3.220255\n",
       "15  2000-01-16  -1.669026  1.773073   2.742774  -3.598847\n",
       "16  2000-01-17  -3.395296  1.739856   3.101018  -4.440623\n",
       "17  2000-01-18  -3.304823  1.195565   2.411634  -5.674195\n",
       "18  2000-01-19  -1.956037  0.587743   3.457135  -6.180845\n",
       "19  2000-01-20  -2.118383  0.798689   2.914303  -5.845108\n",
       "20  2000-01-21  -1.084143 -0.208136   2.248230  -6.270295\n",
       "21  2000-01-22  -1.676875 -2.174607   2.517782  -6.182870\n",
       "22  2000-01-23  -2.073515 -1.962174   1.441119  -4.807820\n",
       "23  2000-01-24  -1.419578 -0.643847   1.176793  -5.832413\n",
       "24  2000-01-25  -0.828272 -0.888958   1.015591  -5.333635\n",
       "25  2000-01-26  -0.305384  1.067383   1.031158  -6.293330\n",
       "26  2000-01-27   0.155049  0.253584  -0.611661  -7.562842\n",
       "27  2000-01-28  -0.369469  0.430837  -0.768530  -8.405711\n",
       "28  2000-01-29  -0.424180  0.204646   0.171349  -6.373324\n",
       "29  2000-01-30  -2.052311  0.699986   0.194300  -7.359778\n",
       "..         ...        ...       ...        ...        ...\n",
       "470 2001-04-15  12.887220 -8.733335  13.354407  -6.116504\n",
       "471 2001-04-16  12.944346 -9.610670  14.953035  -5.943661\n",
       "472 2001-04-17  13.577829 -6.971190  14.491393  -7.630414\n",
       "473 2001-04-18  14.310756 -7.441444  14.488575  -6.924655\n",
       "474 2001-04-19  13.838645 -8.466537  12.673574  -6.576032\n",
       "475 2001-04-20  15.336344 -7.817456  12.849258  -6.386864\n",
       "476 2001-04-21  16.167976 -6.337356  12.774772  -5.742582\n",
       "477 2001-04-22  15.796165 -7.573090  11.601907  -5.553247\n",
       "478 2001-04-23  17.200800 -6.961747  10.297933  -6.399917\n",
       "479 2001-04-24  16.538857 -7.248466  10.701500  -6.983085\n",
       "480 2001-04-25  17.557058 -5.652344  13.103026  -7.409523\n",
       "481 2001-04-26  16.253065 -6.530088  13.183153  -9.198178\n",
       "482 2001-04-27  16.962725 -4.883328  12.783825  -9.751856\n",
       "483 2001-04-28  16.006230 -4.150681  14.230731  -9.225769\n",
       "484 2001-04-29  17.612258 -4.499172  13.407747 -10.531087\n",
       "485 2001-04-30  16.766866 -4.308122  14.121287 -10.145801\n",
       "486 2001-05-01  15.585755 -3.360320  14.352650  -9.967844\n",
       "487 2001-05-02  16.575651 -2.099785  15.967263 -10.204806\n",
       "488 2001-05-03  16.008745 -1.012379  16.965664 -10.219233\n",
       "489 2001-05-04  15.608033 -1.624444  17.012033 -11.218819\n",
       "490 2001-05-05  17.919776 -0.765581  17.959380 -10.023829\n",
       "491 2001-05-06  17.402959  0.032107  16.238594 -10.504219\n",
       "492 2001-05-07  18.060348  0.778108  18.087318  -9.920988\n",
       "493 2001-05-08  17.612476 -0.148887  17.237366  -9.782213\n",
       "494 2001-05-09  15.258531 -1.105516  16.411211 -10.470923\n",
       "495 2001-05-10  14.753085 -2.900493  16.183078 -10.291306\n",
       "496 2001-05-11  13.206841 -2.032601  15.288099 -10.997415\n",
       "497 2001-05-12  13.642768  0.181106  14.426157 -10.890912\n",
       "498 2001-05-13  12.505857  0.624148  13.914247 -12.959891\n",
       "499 2001-05-14  13.801935  1.531559  14.348466 -14.789650\n",
       "\n",
       "[500 rows x 5 columns]"
      ]
     },
     "execution_count": 132,
     "metadata": {},
     "output_type": "execute_result"
    }
   ],
   "source": [
    "# Writing to a csv file:\n",
    "df.to_csv('my_file.csv')\n",
    "\n",
    "# Reading from a csv file:\n",
    "pd.read_csv('my_file.csv')\n",
    "\n",
    "# Writing to an excel file:\n",
    "df.to_excel('my_file.xlsx', sheet_name='Sheet1')\n",
    "\n",
    "# Reading from an excel file:\n",
    "pd.read_excel('my_file.xlsx', sheet_name='Sheet1')"
   ]
  },
  {
   "cell_type": "code",
   "execution_count": null,
   "metadata": {},
   "outputs": [],
   "source": []
  }
 ],
 "metadata": {
  "canopy_exercise": {
   "__metadata_version__": 1
  },
  "description": "",
  "difficulty": "very simple",
  "duration": "very short",
  "exercise_number": 1,
  "flavor": "general",
  "kernelspec": {
   "display_name": "Python 3",
   "language": "python",
   "name": "python3"
  },
  "language_info": {
   "codemirror_mode": {
    "name": "ipython",
    "version": 3
   },
   "file_extension": ".py",
   "mimetype": "text/x-python",
   "name": "python",
   "nbconvert_exporter": "python",
   "pygments_lexer": "ipython3",
   "version": "3.6.8"
  },
  "level": "fluency",
  "module": "PyFund_string",
  "pre_requisites": [
   "PyFund_string",
   "header"
  ],
  "programming_goals": [
   "variable creation",
   "print"
  ],
  "python_goals": [
   "string creation",
   "string concatenation"
  ]
 },
 "nbformat": 4,
 "nbformat_minor": 1
}
